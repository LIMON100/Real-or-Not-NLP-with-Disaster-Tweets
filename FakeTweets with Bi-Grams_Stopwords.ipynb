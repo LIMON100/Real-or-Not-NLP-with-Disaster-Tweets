{
 "cells": [
  {
   "cell_type": "markdown",
   "metadata": {},
   "source": [
    "# PROJECT : Fake-Tweets with Bi-Grams & Stop_words"
   ]
  },
  {
   "cell_type": "code",
   "execution_count": 17,
   "metadata": {},
   "outputs": [
    {
     "data": {
      "text/html": [
       "        <script type=\"text/javascript\">\n",
       "        window.PlotlyConfig = {MathJaxConfig: 'local'};\n",
       "        if (window.MathJax) {MathJax.Hub.Config({SVG: {font: \"STIX-Web\"}});}\n",
       "        if (typeof require !== 'undefined') {\n",
       "        require.undef(\"plotly\");\n",
       "        requirejs.config({\n",
       "            paths: {\n",
       "                'plotly': ['https://cdn.plot.ly/plotly-latest.min']\n",
       "            }\n",
       "        });\n",
       "        require(['plotly'], function(Plotly) {\n",
       "            window._Plotly = Plotly;\n",
       "        });\n",
       "        }\n",
       "        </script>\n",
       "        "
      ]
     },
     "metadata": {},
     "output_type": "display_data"
    }
   ],
   "source": [
    "# importing the libaries\n",
    "\n",
    "import pandas as pd\n",
    "import numpy as np\n",
    "import os\n",
    "\n",
    "import matplotlib\n",
    "import matplotlib.pyplot as plt\n",
    "import matplotlib.patches as mpatches\n",
    "import seaborn as sns\n",
    "\n",
    "from plotly import tools\n",
    "import plotly.offline as py\n",
    "import plotly.figure_factory as ff\n",
    "py.init_notebook_mode(connected=True)\n",
    "import plotly.graph_objs as go\n",
    "\n",
    "from nltk.corpus import stopwords\n",
    "from nltk.util import ngrams\n",
    "\n",
    "from wordcloud import WordCloud\n",
    "\n",
    "from sklearn.feature_extraction.text import CountVectorizer, TfidfVectorizer\n",
    "from sklearn.model_selection import train_test_split , GridSearchCV , cross_val_score , KFold\n",
    "from sklearn.decomposition import PCA, TruncatedSVD\n",
    "from sklearn.metrics import classification_report , confusion_matrix , f1_score\n",
    "from sklearn.preprocessing import StandardScaler\n",
    "from sklearn.metrics import confusion_matrix , roc_curve , accuracy_score , precision_score , recall_score\n",
    "\n",
    "from sklearn.linear_model import LogisticRegression\n",
    "from sklearn.svm import SVC\n",
    "from sklearn.neighbors import KNeighborsClassifier\n",
    "from sklearn.tree import DecisionTreeClassifier\n",
    "from sklearn.ensemble import RandomForestClassifier\n",
    "from sklearn.ensemble import AdaBoostClassifier\n",
    "from sklearn.naive_bayes import MultinomialNB , GaussianNB\n",
    "import xgboost as xgb\n",
    "from xgboost import XGBClassifier\n",
    "from sklearn.ensemble import GradientBoostingClassifier\n",
    "\n",
    "from collections import defaultdict\n",
    "from collections import Counter\n",
    "plt.style.use('ggplot')\n",
    "stop=set(stopwords.words('english'))\n",
    "\n",
    "import re\n",
    "from nltk.tokenize import word_tokenize\n",
    "import gensim\n",
    "import string\n",
    "\n",
    "from tqdm import tqdm\n",
    "from keras.preprocessing.text import Tokenizer\n",
    "from keras.preprocessing.sequence import pad_sequences\n",
    "from keras.models import Sequential\n",
    "from keras.layers import Embedding,LSTM,Dense,SpatialDropout1D\n",
    "from keras.initializers import Constant\n",
    "from keras.optimizers import Adam\n",
    "\n",
    "import folium \n",
    "from folium import plugins\n",
    "\n",
    "from spellchecker import SpellChecker"
   ]
  },
  {
   "cell_type": "code",
   "execution_count": 18,
   "metadata": {},
   "outputs": [],
   "source": [
    "# Load the train and test dataset\n",
    "\n",
    "train = pd.read_csv('train.csv')\n",
    "test = pd.read_csv('test.csv')\n",
    "submission = pd.read_csv('submission.csv')"
   ]
  },
  {
   "cell_type": "code",
   "execution_count": 19,
   "metadata": {},
   "outputs": [
    {
     "data": {
      "text/plain": [
       "(7613, 5)"
      ]
     },
     "execution_count": 19,
     "metadata": {},
     "output_type": "execute_result"
    }
   ],
   "source": [
    "train.shape"
   ]
  },
  {
   "cell_type": "code",
   "execution_count": 20,
   "metadata": {},
   "outputs": [
    {
     "data": {
      "text/plain": [
       "id             0\n",
       "keyword       61\n",
       "location    2533\n",
       "text           0\n",
       "target         0\n",
       "dtype: int64"
      ]
     },
     "execution_count": 20,
     "metadata": {},
     "output_type": "execute_result"
    }
   ],
   "source": [
    "train.isnull().sum()"
   ]
  },
  {
   "cell_type": "code",
   "execution_count": 21,
   "metadata": {},
   "outputs": [
    {
     "data": {
      "text/html": [
       "<div>\n",
       "<style scoped>\n",
       "    .dataframe tbody tr th:only-of-type {\n",
       "        vertical-align: middle;\n",
       "    }\n",
       "\n",
       "    .dataframe tbody tr th {\n",
       "        vertical-align: top;\n",
       "    }\n",
       "\n",
       "    .dataframe thead th {\n",
       "        text-align: right;\n",
       "    }\n",
       "</style>\n",
       "<table border=\"1\" class=\"dataframe\">\n",
       "  <thead>\n",
       "    <tr style=\"text-align: right;\">\n",
       "      <th></th>\n",
       "      <th>id</th>\n",
       "      <th>keyword</th>\n",
       "      <th>location</th>\n",
       "      <th>text</th>\n",
       "      <th>target</th>\n",
       "    </tr>\n",
       "  </thead>\n",
       "  <tbody>\n",
       "    <tr>\n",
       "      <td>0</td>\n",
       "      <td>1</td>\n",
       "      <td>NaN</td>\n",
       "      <td>NaN</td>\n",
       "      <td>Our Deeds are the Reason of this #earthquake M...</td>\n",
       "      <td>1</td>\n",
       "    </tr>\n",
       "    <tr>\n",
       "      <td>1</td>\n",
       "      <td>4</td>\n",
       "      <td>NaN</td>\n",
       "      <td>NaN</td>\n",
       "      <td>Forest fire near La Ronge Sask. Canada</td>\n",
       "      <td>1</td>\n",
       "    </tr>\n",
       "    <tr>\n",
       "      <td>2</td>\n",
       "      <td>5</td>\n",
       "      <td>NaN</td>\n",
       "      <td>NaN</td>\n",
       "      <td>All residents asked to 'shelter in place' are ...</td>\n",
       "      <td>1</td>\n",
       "    </tr>\n",
       "    <tr>\n",
       "      <td>3</td>\n",
       "      <td>6</td>\n",
       "      <td>NaN</td>\n",
       "      <td>NaN</td>\n",
       "      <td>13,000 people receive #wildfires evacuation or...</td>\n",
       "      <td>1</td>\n",
       "    </tr>\n",
       "    <tr>\n",
       "      <td>4</td>\n",
       "      <td>7</td>\n",
       "      <td>NaN</td>\n",
       "      <td>NaN</td>\n",
       "      <td>Just got sent this photo from Ruby #Alaska as ...</td>\n",
       "      <td>1</td>\n",
       "    </tr>\n",
       "    <tr>\n",
       "      <td>5</td>\n",
       "      <td>8</td>\n",
       "      <td>NaN</td>\n",
       "      <td>NaN</td>\n",
       "      <td>#RockyFire Update =&gt; California Hwy. 20 closed...</td>\n",
       "      <td>1</td>\n",
       "    </tr>\n",
       "    <tr>\n",
       "      <td>6</td>\n",
       "      <td>10</td>\n",
       "      <td>NaN</td>\n",
       "      <td>NaN</td>\n",
       "      <td>#flood #disaster Heavy rain causes flash flood...</td>\n",
       "      <td>1</td>\n",
       "    </tr>\n",
       "    <tr>\n",
       "      <td>7</td>\n",
       "      <td>13</td>\n",
       "      <td>NaN</td>\n",
       "      <td>NaN</td>\n",
       "      <td>I'm on top of the hill and I can see a fire in...</td>\n",
       "      <td>1</td>\n",
       "    </tr>\n",
       "    <tr>\n",
       "      <td>8</td>\n",
       "      <td>14</td>\n",
       "      <td>NaN</td>\n",
       "      <td>NaN</td>\n",
       "      <td>There's an emergency evacuation happening now ...</td>\n",
       "      <td>1</td>\n",
       "    </tr>\n",
       "    <tr>\n",
       "      <td>9</td>\n",
       "      <td>15</td>\n",
       "      <td>NaN</td>\n",
       "      <td>NaN</td>\n",
       "      <td>I'm afraid that the tornado is coming to our a...</td>\n",
       "      <td>1</td>\n",
       "    </tr>\n",
       "  </tbody>\n",
       "</table>\n",
       "</div>"
      ],
      "text/plain": [
       "   id keyword location                                               text  \\\n",
       "0   1     NaN      NaN  Our Deeds are the Reason of this #earthquake M...   \n",
       "1   4     NaN      NaN             Forest fire near La Ronge Sask. Canada   \n",
       "2   5     NaN      NaN  All residents asked to 'shelter in place' are ...   \n",
       "3   6     NaN      NaN  13,000 people receive #wildfires evacuation or...   \n",
       "4   7     NaN      NaN  Just got sent this photo from Ruby #Alaska as ...   \n",
       "5   8     NaN      NaN  #RockyFire Update => California Hwy. 20 closed...   \n",
       "6  10     NaN      NaN  #flood #disaster Heavy rain causes flash flood...   \n",
       "7  13     NaN      NaN  I'm on top of the hill and I can see a fire in...   \n",
       "8  14     NaN      NaN  There's an emergency evacuation happening now ...   \n",
       "9  15     NaN      NaN  I'm afraid that the tornado is coming to our a...   \n",
       "\n",
       "   target  \n",
       "0       1  \n",
       "1       1  \n",
       "2       1  \n",
       "3       1  \n",
       "4       1  \n",
       "5       1  \n",
       "6       1  \n",
       "7       1  \n",
       "8       1  \n",
       "9       1  "
      ]
     },
     "execution_count": 21,
     "metadata": {},
     "output_type": "execute_result"
    }
   ],
   "source": [
    "train.head(10)"
   ]
  },
  {
   "cell_type": "code",
   "execution_count": 22,
   "metadata": {},
   "outputs": [
    {
     "data": {
      "text/plain": [
       "id             0\n",
       "keyword        0\n",
       "location    2533\n",
       "text           0\n",
       "target         0\n",
       "dtype: int64"
      ]
     },
     "execution_count": 22,
     "metadata": {},
     "output_type": "execute_result"
    }
   ],
   "source": [
    "new_train = train\n",
    "new_train['keyword'].fillna(\"No keyword\",inplace=True)\n",
    "new_train.isnull().sum()"
   ]
  },
  {
   "cell_type": "code",
   "execution_count": 23,
   "metadata": {},
   "outputs": [],
   "source": [
    "# drop the location column both from train and test part\n",
    "\n",
    "# train.drop(['location'] , axis = 1 , inplace = True)\n",
    "# test.drop(['location'] , axis = 1 , inplace = True)"
   ]
  },
  {
   "cell_type": "code",
   "execution_count": 24,
   "metadata": {},
   "outputs": [
    {
     "data": {
      "text/plain": [
       "(7613, 5)"
      ]
     },
     "execution_count": 24,
     "metadata": {},
     "output_type": "execute_result"
    }
   ],
   "source": [
    "train.shape"
   ]
  },
  {
   "cell_type": "markdown",
   "metadata": {},
   "source": [
    "## EDA"
   ]
  },
  {
   "cell_type": "code",
   "execution_count": 25,
   "metadata": {},
   "outputs": [
    {
     "data": {
      "text/plain": [
       "Text(0, 0.5, 'Number of samples')"
      ]
     },
     "execution_count": 25,
     "metadata": {},
     "output_type": "execute_result"
    },
    {
     "data": {
      "image/png": "[encoded data removed]",
      "text/plain": [
       "<Figure size 432x288 with 1 Axes>"
      ]
     },
     "metadata": {},
     "output_type": "display_data"
    }
   ],
   "source": [
    "x=train.target.value_counts()\n",
    "sns.barplot(x.index,x)\n",
    "plt.gca().set_ylabel('Number of samples')"
   ]
  },
  {
   "cell_type": "code",
   "execution_count": 26,
   "metadata": {},
   "outputs": [
    {
     "data": {
      "image/png": "[encoded data removed]",
      "text/plain": [
       "<Figure size 720x504 with 2 Axes>"
      ]
     },
     "metadata": {},
     "output_type": "display_data"
    }
   ],
   "source": [
    "fig,(ax1,ax2)=plt.subplots(1,2,figsize=(10,7))\n",
    "tweet_len=train[train['target']==1]['text'].str.len()\n",
    "ax1.hist(tweet_len,color='red')\n",
    "ax1.set_title('disaster tweets')\n",
    "tweet_len=train[train['target']==0]['text'].str.len()\n",
    "ax2.hist(tweet_len,color='green')\n",
    "ax2.set_title('Not disaster tweets')\n",
    "fig.suptitle('Characters in tweets')\n",
    "plt.show()"
   ]
  },
  {
   "cell_type": "code",
   "execution_count": 27,
   "metadata": {},
   "outputs": [
    {
     "data": {
      "image/png": "[encoded data removed]",
      "text/plain": [
       "<Figure size 720x504 with 2 Axes>"
      ]
     },
     "metadata": {},
     "output_type": "display_data"
    }
   ],
   "source": [
    "fig,(ax1,ax2)=plt.subplots(1,2,figsize=(10,7))\n",
    "tweet_len=train[train['target']==1]['text'].str.split().map(lambda x: len(x))\n",
    "ax1.hist(tweet_len,color='red')\n",
    "ax1.set_title('disaster tweets')\n",
    "tweet_len=train[train['target']==0]['text'].str.split().map(lambda x: len(x))\n",
    "ax2.hist(tweet_len,color='green')\n",
    "ax2.set_title('Not disaster tweets')\n",
    "fig.suptitle('Words in a tweet')\n",
    "plt.show()"
   ]
  },
  {
   "cell_type": "code",
   "execution_count": 28,
   "metadata": {},
   "outputs": [
    {
     "data": {
      "text/plain": [
       "Text(0.5, 0.98, 'Average word length in each tweet')"
      ]
     },
     "execution_count": 28,
     "metadata": {},
     "output_type": "execute_result"
    },
    {
     "data": {
      "image/png": "[encoded data removed]",
      "text/plain": [
       "<Figure size 720x504 with 2 Axes>"
      ]
     },
     "metadata": {},
     "output_type": "display_data"
    }
   ],
   "source": [
    "fig,(ax1,ax2)=plt.subplots(1,2,figsize=(10,7))\n",
    "word=train[train['target']==1]['text'].str.split().apply(lambda x : [len(i) for i in x])\n",
    "sns.distplot(word.map(lambda x: np.mean(x)),ax=ax1,color='red')\n",
    "ax1.set_title('disaster')\n",
    "word=train[train['target']==0]['text'].str.split().apply(lambda x : [len(i) for i in x])\n",
    "sns.distplot(word.map(lambda x: np.mean(x)),ax=ax2,color='green')\n",
    "ax2.set_title('Not disaster')\n",
    "fig.suptitle('Average word length in each tweet')"
   ]
  },
  {
   "cell_type": "code",
   "execution_count": 30,
   "metadata": {},
   "outputs": [
    {
     "data": {
      "application/vnd.plotly.v1+json": {
       "config": {
        "linkText": "Export to plot.ly",
        "plotlyServerURL": "https://plot.ly",
        "showLink": false
       },
       "data": [
        {
         "marker": {
          "color": "rgba(200, 74, 55, 0.5)",
          "line": {
           "color": "rgb(0,0,0)",
           "width": 1.5
          }
         },
         "name": "Number of tweets in dataset according to location",
         "type": "bar",
         "x": [
          "USA",
          "New York",
          "United States",
          "London",
          "Canada",
          "Nigeria",
          "UK",
          "Los Angeles, CA",
          "India",
          "Mumbai",
          "Washington, DC",
          "Kenya",
          "Worldwide",
          "Chicago, IL",
          "Australia",
          "California",
          "New York, NY",
          "Everywhere",
          "California, USA",
          "Florida"
         ],
         "y": [
          104,
          71,
          50,
          45,
          29,
          28,
          27,
          26,
          24,
          22,
          21,
          20,
          19,
          18,
          18,
          17,
          15,
          15,
          15,
          14
         ]
        }
       ],
       "layout": {
        "barmode": "group",
        "template": {
         "data": {
          "bar": [
           {
            "error_x": {
             "color": "#2a3f5f"
            },
            "error_y": {
             "color": "#2a3f5f"
            },
            "marker": {
             "line": {
              "color": "#E5ECF6",
              "width": 0.5
             }
            },
            "type": "bar"
           }
          ],
          "barpolar": [
           {
            "marker": {
             "line": {
              "color": "#E5ECF6",
              "width": 0.5
             }
            },
            "type": "barpolar"
           }
          ],
          "carpet": [
           {
            "aaxis": {
             "endlinecolor": "#2a3f5f",
             "gridcolor": "white",
             "linecolor": "white",
             "minorgridcolor": "white",
             "startlinecolor": "#2a3f5f"
            },
            "baxis": {
             "endlinecolor": "#2a3f5f",
             "gridcolor": "white",
             "linecolor": "white",
             "minorgridcolor": "white",
             "startlinecolor": "#2a3f5f"
            },
            "type": "carpet"
           }
          ],
          "choropleth": [
           {
            "colorbar": {
             "outlinewidth": 0,
             "ticks": ""
            },
            "type": "choropleth"
           }
          ],
          "contour": [
           {
            "colorbar": {
             "outlinewidth": 0,
             "ticks": ""
            },
            "colorscale": [
             [
              0,
              "#0d0887"
             ],
             [
              0.1111111111111111,
              "#46039f"
             ],
             [
              0.2222222222222222,
              "#7201a8"
             ],
             [
              0.3333333333333333,
              "#9c179e"
             ],
             [
              0.4444444444444444,
              "#bd3786"
             ],
             [
              0.5555555555555556,
              "#d8576b"
             ],
             [
              0.6666666666666666,
              "#ed7953"
             ],
             [
              0.7777777777777778,
              "#fb9f3a"
             ],
             [
              0.8888888888888888,
              "#fdca26"
             ],
             [
              1,
              "#f0f921"
             ]
            ],
            "type": "contour"
           }
          ],
          "contourcarpet": [
           {
            "colorbar": {
             "outlinewidth": 0,
             "ticks": ""
            },
            "type": "contourcarpet"
           }
          ],
          "heatmap": [
           {
            "colorbar": {
             "outlinewidth": 0,
             "ticks": ""
            },
            "colorscale": [
             [
              0,
              "#0d0887"
             ],
             [
              0.1111111111111111,
              "#46039f"
             ],
             [
              0.2222222222222222,
              "#7201a8"
             ],
             [
              0.3333333333333333,
              "#9c179e"
             ],
             [
              0.4444444444444444,
              "#bd3786"
             ],
             [
              0.5555555555555556,
              "#d8576b"
             ],
             [
              0.6666666666666666,
              "#ed7953"
             ],
             [
              0.7777777777777778,
              "#fb9f3a"
             ],
             [
              0.8888888888888888,
              "#fdca26"
             ],
             [
              1,
              "#f0f921"
             ]
            ],
            "type": "heatmap"
           }
          ],
          "heatmapgl": [
           {
            "colorbar": {
             "outlinewidth": 0,
             "ticks": ""
            },
            "colorscale": [
             [
              0,
              "#0d0887"
             ],
             [
              0.1111111111111111,
              "#46039f"
             ],
             [
              0.2222222222222222,
              "#7201a8"
             ],
             [
              0.3333333333333333,
              "#9c179e"
             ],
             [
              0.4444444444444444,
              "#bd3786"
             ],
             [
              0.5555555555555556,
              "#d8576b"
             ],
             [
              0.6666666666666666,
              "#ed7953"
             ],
             [
              0.7777777777777778,
              "#fb9f3a"
             ],
             [
              0.8888888888888888,
              "#fdca26"
             ],
             [
              1,
              "#f0f921"
             ]
            ],
            "type": "heatmapgl"
           }
          ],
          "histogram": [
           {
            "marker": {
             "colorbar": {
              "outlinewidth": 0,
              "ticks": ""
             }
            },
            "type": "histogram"
           }
          ],
          "histogram2d": [
           {
            "colorbar": {
             "outlinewidth": 0,
             "ticks": ""
            },
            "colorscale": [
             [
              0,
              "#0d0887"
             ],
             [
              0.1111111111111111,
              "#46039f"
             ],
             [
              0.2222222222222222,
              "#7201a8"
             ],
             [
              0.3333333333333333,
              "#9c179e"
             ],
             [
              0.4444444444444444,
              "#bd3786"
             ],
             [
              0.5555555555555556,
              "#d8576b"
             ],
             [
              0.6666666666666666,
              "#ed7953"
             ],
             [
              0.7777777777777778,
              "#fb9f3a"
             ],
             [
              0.8888888888888888,
              "#fdca26"
             ],
             [
              1,
              "#f0f921"
             ]
            ],
            "type": "histogram2d"
           }
          ],
          "histogram2dcontour": [
           {
            "colorbar": {
             "outlinewidth": 0,
             "ticks": ""
            },
            "colorscale": [
             [
              0,
              "#0d0887"
             ],
             [
              0.1111111111111111,
              "#46039f"
             ],
             [
              0.2222222222222222,
              "#7201a8"
             ],
             [
              0.3333333333333333,
              "#9c179e"
             ],
             [
              0.4444444444444444,
              "#bd3786"
             ],
             [
              0.5555555555555556,
              "#d8576b"
             ],
             [
              0.6666666666666666,
              "#ed7953"
             ],
             [
              0.7777777777777778,
              "#fb9f3a"
             ],
             [
              0.8888888888888888,
              "#fdca26"
             ],
             [
              1,
              "#f0f921"
             ]
            ],
            "type": "histogram2dcontour"
           }
          ],
          "mesh3d": [
           {
            "colorbar": {
             "outlinewidth": 0,
             "ticks": ""
            },
            "type": "mesh3d"
           }
          ],
          "parcoords": [
           {
            "line": {
             "colorbar": {
              "outlinewidth": 0,
              "ticks": ""
             }
            },
            "type": "parcoords"
           }
          ],
          "pie": [
           {
            "automargin": true,
            "type": "pie"
           }
          ],
          "scatter": [
           {
            "marker": {
             "colorbar": {
              "outlinewidth": 0,
              "ticks": ""
             }
            },
            "type": "scatter"
           }
          ],
          "scatter3d": [
           {
            "line": {
             "colorbar": {
              "outlinewidth": 0,
              "ticks": ""
             }
            },
            "marker": {
             "colorbar": {
              "outlinewidth": 0,
              "ticks": ""
             }
            },
            "type": "scatter3d"
           }
          ],
          "scattercarpet": [
           {
            "marker": {
             "colorbar": {
              "outlinewidth": 0,
              "ticks": ""
             }
            },
            "type": "scattercarpet"
           }
          ],
          "scattergeo": [
           {
            "marker": {
             "colorbar": {
              "outlinewidth": 0,
              "ticks": ""
             }
            },
            "type": "scattergeo"
           }
          ],
          "scattergl": [
           {
            "marker": {
             "colorbar": {
              "outlinewidth": 0,
              "ticks": ""
             }
            },
            "type": "scattergl"
           }
          ],
          "scattermapbox": [
           {
            "marker": {
             "colorbar": {
              "outlinewidth": 0,
              "ticks": ""
             }
            },
            "type": "scattermapbox"
           }
          ],
          "scatterpolar": [
           {
            "marker": {
             "colorbar": {
              "outlinewidth": 0,
              "ticks": ""
             }
            },
            "type": "scatterpolar"
           }
          ],
          "scatterpolargl": [
           {
            "marker": {
             "colorbar": {
              "outlinewidth": 0,
              "ticks": ""
             }
            },
            "type": "scatterpolargl"
           }
          ],
          "scatterternary": [
           {
            "marker": {
             "colorbar": {
              "outlinewidth": 0,
              "ticks": ""
             }
            },
            "type": "scatterternary"
           }
          ],
          "surface": [
           {
            "colorbar": {
             "outlinewidth": 0,
             "ticks": ""
            },
            "colorscale": [
             [
              0,
              "#0d0887"
             ],
             [
              0.1111111111111111,
              "#46039f"
             ],
             [
              0.2222222222222222,
              "#7201a8"
             ],
             [
              0.3333333333333333,
              "#9c179e"
             ],
             [
              0.4444444444444444,
              "#bd3786"
             ],
             [
              0.5555555555555556,
              "#d8576b"
             ],
             [
              0.6666666666666666,
              "#ed7953"
             ],
             [
              0.7777777777777778,
              "#fb9f3a"
             ],
             [
              0.8888888888888888,
              "#fdca26"
             ],
             [
              1,
              "#f0f921"
             ]
            ],
            "type": "surface"
           }
          ],
          "table": [
           {
            "cells": {
             "fill": {
              "color": "#EBF0F8"
             },
             "line": {
              "color": "white"
             }
            },
            "header": {
             "fill": {
              "color": "#C8D4E3"
             },
             "line": {
              "color": "white"
             }
            },
            "type": "table"
           }
          ]
         },
         "layout": {
          "annotationdefaults": {
           "arrowcolor": "#2a3f5f",
           "arrowhead": 0,
           "arrowwidth": 1
          },
          "coloraxis": {
           "colorbar": {
            "outlinewidth": 0,
            "ticks": ""
           }
          },
          "colorscale": {
           "diverging": [
            [
             0,
             "#8e0152"
            ],
            [
             0.1,
             "#c51b7d"
            ],
            [
             0.2,
             "#de77ae"
            ],
            [
             0.3,
             "#f1b6da"
            ],
            [
             0.4,
             "#fde0ef"
            ],
            [
             0.5,
             "#f7f7f7"
            ],
            [
             0.6,
             "#e6f5d0"
            ],
            [
             0.7,
             "#b8e186"
            ],
            [
             0.8,
             "#7fbc41"
            ],
            [
             0.9,
             "#4d9221"
            ],
            [
             1,
             "#276419"
            ]
           ],
           "sequential": [
            [
             0,
             "#0d0887"
            ],
            [
             0.1111111111111111,
             "#46039f"
            ],
            [
             0.2222222222222222,
             "#7201a8"
            ],
            [
             0.3333333333333333,
             "#9c179e"
            ],
            [
             0.4444444444444444,
             "#bd3786"
            ],
            [
             0.5555555555555556,
             "#d8576b"
            ],
            [
             0.6666666666666666,
             "#ed7953"
            ],
            [
             0.7777777777777778,
             "#fb9f3a"
            ],
            [
             0.8888888888888888,
             "#fdca26"
            ],
            [
             1,
             "#f0f921"
            ]
           ],
           "sequentialminus": [
            [
             0,
             "#0d0887"
            ],
            [
             0.1111111111111111,
             "#46039f"
            ],
            [
             0.2222222222222222,
             "#7201a8"
            ],
            [
             0.3333333333333333,
             "#9c179e"
            ],
            [
             0.4444444444444444,
             "#bd3786"
            ],
            [
             0.5555555555555556,
             "#d8576b"
            ],
            [
             0.6666666666666666,
             "#ed7953"
            ],
            [
             0.7777777777777778,
             "#fb9f3a"
            ],
            [
             0.8888888888888888,
             "#fdca26"
            ],
            [
             1,
             "#f0f921"
            ]
           ]
          },
          "colorway": [
           "#636efa",
           "#EF553B",
           "#00cc96",
           "#ab63fa",
           "#FFA15A",
           "#19d3f3",
           "#FF6692",
           "#B6E880",
           "#FF97FF",
           "#FECB52"
          ],
          "font": {
           "color": "#2a3f5f"
          },
          "geo": {
           "bgcolor": "white",
           "lakecolor": "white",
           "landcolor": "#E5ECF6",
           "showlakes": true,
           "showland": true,
           "subunitcolor": "white"
          },
          "hoverlabel": {
           "align": "left"
          },
          "hovermode": "closest",
          "mapbox": {
           "style": "light"
          },
          "paper_bgcolor": "white",
          "plot_bgcolor": "#E5ECF6",
          "polar": {
           "angularaxis": {
            "gridcolor": "white",
            "linecolor": "white",
            "ticks": ""
           },
           "bgcolor": "#E5ECF6",
           "radialaxis": {
            "gridcolor": "white",
            "linecolor": "white",
            "ticks": ""
           }
          },
          "scene": {
           "xaxis": {
            "backgroundcolor": "#E5ECF6",
            "gridcolor": "white",
            "gridwidth": 2,
            "linecolor": "white",
            "showbackground": true,
            "ticks": "",
            "zerolinecolor": "white"
           },
           "yaxis": {
            "backgroundcolor": "#E5ECF6",
            "gridcolor": "white",
            "gridwidth": 2,
            "linecolor": "white",
            "showbackground": true,
            "ticks": "",
            "zerolinecolor": "white"
           },
           "zaxis": {
            "backgroundcolor": "#E5ECF6",
            "gridcolor": "white",
            "gridwidth": 2,
            "linecolor": "white",
            "showbackground": true,
            "ticks": "",
            "zerolinecolor": "white"
           }
          },
          "shapedefaults": {
           "line": {
            "color": "#2a3f5f"
           }
          },
          "ternary": {
           "aaxis": {
            "gridcolor": "white",
            "linecolor": "white",
            "ticks": ""
           },
           "baxis": {
            "gridcolor": "white",
            "linecolor": "white",
            "ticks": ""
           },
           "bgcolor": "#E5ECF6",
           "caxis": {
            "gridcolor": "white",
            "linecolor": "white",
            "ticks": ""
           }
          },
          "title": {
           "x": 0.05
          },
          "xaxis": {
           "automargin": true,
           "gridcolor": "white",
           "linecolor": "white",
           "ticks": "",
           "title": {
            "standoff": 15
           },
           "zerolinecolor": "white",
           "zerolinewidth": 2
          },
          "yaxis": {
           "automargin": true,
           "gridcolor": "white",
           "linecolor": "white",
           "ticks": "",
           "title": {
            "standoff": 15
           },
           "zerolinecolor": "white",
           "zerolinewidth": 2
          }
         }
        },
        "title": {
         "text": "Number of tweets depending on location"
        }
       }
      },
      "text/html": [
       "<div>\n",
       "        \n",
       "        \n",
       "            <div id=\"63779409-aaee-40b3-9fee-ea63f42b5ed4\" class=\"plotly-graph-div\" style=\"height:525px; width:100%;\"></div>\n",
       "            <script type=\"text/javascript\">\n",
       "                require([\"plotly\"], function(Plotly) {\n",
       "                    window.PLOTLYENV=window.PLOTLYENV || {};\n",
       "                    \n",
       "                if (document.getElementById(\"63779409-aaee-40b3-9fee-ea63f42b5ed4\")) {\n",
       "                    Plotly.newPlot(\n",
       "                        '63779409-aaee-40b3-9fee-ea63f42b5ed4',\n",
       "                        [{\"marker\": {\"color\": \"rgba(200, 74, 55, 0.5)\", \"line\": {\"color\": \"rgb(0,0,0)\", \"width\": 1.5}}, \"name\": \"Number of tweets in dataset according to location\", \"type\": \"bar\", \"x\": [\"USA\", \"New York\", \"United States\", \"London\", \"Canada\", \"Nigeria\", \"UK\", \"Los Angeles, CA\", \"India\", \"Mumbai\", \"Washington, DC\", \"Kenya\", \"Worldwide\", \"Chicago, IL\", \"Australia\", \"California\", \"New York, NY\", \"Everywhere\", \"California, USA\", \"Florida\"], \"y\": [104, 71, 50, 45, 29, 28, 27, 26, 24, 22, 21, 20, 19, 18, 18, 17, 15, 15, 15, 14]}],\n",
       "                        {\"barmode\": \"group\", \"template\": {\"data\": {\"bar\": [{\"error_x\": {\"color\": \"#2a3f5f\"}, \"error_y\": {\"color\": \"#2a3f5f\"}, \"marker\": {\"line\": {\"color\": \"#E5ECF6\", \"width\": 0.5}}, \"type\": \"bar\"}], \"barpolar\": [{\"marker\": {\"line\": {\"color\": \"#E5ECF6\", \"width\": 0.5}}, \"type\": \"barpolar\"}], \"carpet\": [{\"aaxis\": {\"endlinecolor\": \"#2a3f5f\", \"gridcolor\": \"white\", \"linecolor\": \"white\", \"minorgridcolor\": \"white\", \"startlinecolor\": \"#2a3f5f\"}, \"baxis\": {\"endlinecolor\": \"#2a3f5f\", \"gridcolor\": \"white\", \"linecolor\": \"white\", \"minorgridcolor\": \"white\", \"startlinecolor\": \"#2a3f5f\"}, \"type\": \"carpet\"}], \"choropleth\": [{\"colorbar\": {\"outlinewidth\": 0, \"ticks\": \"\"}, \"type\": \"choropleth\"}], \"contour\": [{\"colorbar\": {\"outlinewidth\": 0, \"ticks\": \"\"}, \"colorscale\": [[0.0, \"#0d0887\"], [0.1111111111111111, \"#46039f\"], [0.2222222222222222, \"#7201a8\"], [0.3333333333333333, \"#9c179e\"], [0.4444444444444444, \"#bd3786\"], [0.5555555555555556, \"#d8576b\"], [0.6666666666666666, \"#ed7953\"], [0.7777777777777778, \"#fb9f3a\"], [0.8888888888888888, \"#fdca26\"], [1.0, \"#f0f921\"]], \"type\": \"contour\"}], \"contourcarpet\": [{\"colorbar\": {\"outlinewidth\": 0, \"ticks\": \"\"}, \"type\": \"contourcarpet\"}], \"heatmap\": [{\"colorbar\": {\"outlinewidth\": 0, \"ticks\": \"\"}, \"colorscale\": [[0.0, \"#0d0887\"], [0.1111111111111111, \"#46039f\"], [0.2222222222222222, \"#7201a8\"], [0.3333333333333333, \"#9c179e\"], [0.4444444444444444, \"#bd3786\"], [0.5555555555555556, \"#d8576b\"], [0.6666666666666666, \"#ed7953\"], [0.7777777777777778, \"#fb9f3a\"], [0.8888888888888888, \"#fdca26\"], [1.0, \"#f0f921\"]], \"type\": \"heatmap\"}], \"heatmapgl\": [{\"colorbar\": {\"outlinewidth\": 0, \"ticks\": \"\"}, \"colorscale\": [[0.0, \"#0d0887\"], [0.1111111111111111, \"#46039f\"], [0.2222222222222222, \"#7201a8\"], [0.3333333333333333, \"#9c179e\"], [0.4444444444444444, \"#bd3786\"], [0.5555555555555556, \"#d8576b\"], [0.6666666666666666, \"#ed7953\"], [0.7777777777777778, \"#fb9f3a\"], [0.8888888888888888, \"#fdca26\"], [1.0, \"#f0f921\"]], \"type\": \"heatmapgl\"}], \"histogram\": [{\"marker\": {\"colorbar\": {\"outlinewidth\": 0, \"ticks\": \"\"}}, \"type\": \"histogram\"}], \"histogram2d\": [{\"colorbar\": {\"outlinewidth\": 0, \"ticks\": \"\"}, \"colorscale\": [[0.0, \"#0d0887\"], [0.1111111111111111, \"#46039f\"], [0.2222222222222222, \"#7201a8\"], [0.3333333333333333, \"#9c179e\"], [0.4444444444444444, \"#bd3786\"], [0.5555555555555556, \"#d8576b\"], [0.6666666666666666, \"#ed7953\"], [0.7777777777777778, \"#fb9f3a\"], [0.8888888888888888, \"#fdca26\"], [1.0, \"#f0f921\"]], \"type\": \"histogram2d\"}], \"histogram2dcontour\": [{\"colorbar\": {\"outlinewidth\": 0, \"ticks\": \"\"}, \"colorscale\": [[0.0, \"#0d0887\"], [0.1111111111111111, \"#46039f\"], [0.2222222222222222, \"#7201a8\"], [0.3333333333333333, \"#9c179e\"], [0.4444444444444444, \"#bd3786\"], [0.5555555555555556, \"#d8576b\"], [0.6666666666666666, \"#ed7953\"], [0.7777777777777778, \"#fb9f3a\"], [0.8888888888888888, \"#fdca26\"], [1.0, \"#f0f921\"]], \"type\": \"histogram2dcontour\"}], \"mesh3d\": [{\"colorbar\": {\"outlinewidth\": 0, \"ticks\": \"\"}, \"type\": \"mesh3d\"}], \"parcoords\": [{\"line\": {\"colorbar\": {\"outlinewidth\": 0, \"ticks\": \"\"}}, \"type\": \"parcoords\"}], \"pie\": [{\"automargin\": true, \"type\": \"pie\"}], \"scatter\": [{\"marker\": {\"colorbar\": {\"outlinewidth\": 0, \"ticks\": \"\"}}, \"type\": \"scatter\"}], \"scatter3d\": [{\"line\": {\"colorbar\": {\"outlinewidth\": 0, \"ticks\": \"\"}}, \"marker\": {\"colorbar\": {\"outlinewidth\": 0, \"ticks\": \"\"}}, \"type\": \"scatter3d\"}], \"scattercarpet\": [{\"marker\": {\"colorbar\": {\"outlinewidth\": 0, \"ticks\": \"\"}}, \"type\": \"scattercarpet\"}], \"scattergeo\": [{\"marker\": {\"colorbar\": {\"outlinewidth\": 0, \"ticks\": \"\"}}, \"type\": \"scattergeo\"}], \"scattergl\": [{\"marker\": {\"colorbar\": {\"outlinewidth\": 0, \"ticks\": \"\"}}, \"type\": \"scattergl\"}], \"scattermapbox\": [{\"marker\": {\"colorbar\": {\"outlinewidth\": 0, \"ticks\": \"\"}}, \"type\": \"scattermapbox\"}], \"scatterpolar\": [{\"marker\": {\"colorbar\": {\"outlinewidth\": 0, \"ticks\": \"\"}}, \"type\": \"scatterpolar\"}], \"scatterpolargl\": [{\"marker\": {\"colorbar\": {\"outlinewidth\": 0, \"ticks\": \"\"}}, \"type\": \"scatterpolargl\"}], \"scatterternary\": [{\"marker\": {\"colorbar\": {\"outlinewidth\": 0, \"ticks\": \"\"}}, \"type\": \"scatterternary\"}], \"surface\": [{\"colorbar\": {\"outlinewidth\": 0, \"ticks\": \"\"}, \"colorscale\": [[0.0, \"#0d0887\"], [0.1111111111111111, \"#46039f\"], [0.2222222222222222, \"#7201a8\"], [0.3333333333333333, \"#9c179e\"], [0.4444444444444444, \"#bd3786\"], [0.5555555555555556, \"#d8576b\"], [0.6666666666666666, \"#ed7953\"], [0.7777777777777778, \"#fb9f3a\"], [0.8888888888888888, \"#fdca26\"], [1.0, \"#f0f921\"]], \"type\": \"surface\"}], \"table\": [{\"cells\": {\"fill\": {\"color\": \"#EBF0F8\"}, \"line\": {\"color\": \"white\"}}, \"header\": {\"fill\": {\"color\": \"#C8D4E3\"}, \"line\": {\"color\": \"white\"}}, \"type\": \"table\"}]}, \"layout\": {\"annotationdefaults\": {\"arrowcolor\": \"#2a3f5f\", \"arrowhead\": 0, \"arrowwidth\": 1}, \"coloraxis\": {\"colorbar\": {\"outlinewidth\": 0, \"ticks\": \"\"}}, \"colorscale\": {\"diverging\": [[0, \"#8e0152\"], [0.1, \"#c51b7d\"], [0.2, \"#de77ae\"], [0.3, \"#f1b6da\"], [0.4, \"#fde0ef\"], [0.5, \"#f7f7f7\"], [0.6, \"#e6f5d0\"], [0.7, \"#b8e186\"], [0.8, \"#7fbc41\"], [0.9, \"#4d9221\"], [1, \"#276419\"]], \"sequential\": [[0.0, \"#0d0887\"], [0.1111111111111111, \"#46039f\"], [0.2222222222222222, \"#7201a8\"], [0.3333333333333333, \"#9c179e\"], [0.4444444444444444, \"#bd3786\"], [0.5555555555555556, \"#d8576b\"], [0.6666666666666666, \"#ed7953\"], [0.7777777777777778, \"#fb9f3a\"], [0.8888888888888888, \"#fdca26\"], [1.0, \"#f0f921\"]], \"sequentialminus\": [[0.0, \"#0d0887\"], [0.1111111111111111, \"#46039f\"], [0.2222222222222222, \"#7201a8\"], [0.3333333333333333, \"#9c179e\"], [0.4444444444444444, \"#bd3786\"], [0.5555555555555556, \"#d8576b\"], [0.6666666666666666, \"#ed7953\"], [0.7777777777777778, \"#fb9f3a\"], [0.8888888888888888, \"#fdca26\"], [1.0, \"#f0f921\"]]}, \"colorway\": [\"#636efa\", \"#EF553B\", \"#00cc96\", \"#ab63fa\", \"#FFA15A\", \"#19d3f3\", \"#FF6692\", \"#B6E880\", \"#FF97FF\", \"#FECB52\"], \"font\": {\"color\": \"#2a3f5f\"}, \"geo\": {\"bgcolor\": \"white\", \"lakecolor\": \"white\", \"landcolor\": \"#E5ECF6\", \"showlakes\": true, \"showland\": true, \"subunitcolor\": \"white\"}, \"hoverlabel\": {\"align\": \"left\"}, \"hovermode\": \"closest\", \"mapbox\": {\"style\": \"light\"}, \"paper_bgcolor\": \"white\", \"plot_bgcolor\": \"#E5ECF6\", \"polar\": {\"angularaxis\": {\"gridcolor\": \"white\", \"linecolor\": \"white\", \"ticks\": \"\"}, \"bgcolor\": \"#E5ECF6\", \"radialaxis\": {\"gridcolor\": \"white\", \"linecolor\": \"white\", \"ticks\": \"\"}}, \"scene\": {\"xaxis\": {\"backgroundcolor\": \"#E5ECF6\", \"gridcolor\": \"white\", \"gridwidth\": 2, \"linecolor\": \"white\", \"showbackground\": true, \"ticks\": \"\", \"zerolinecolor\": \"white\"}, \"yaxis\": {\"backgroundcolor\": \"#E5ECF6\", \"gridcolor\": \"white\", \"gridwidth\": 2, \"linecolor\": \"white\", \"showbackground\": true, \"ticks\": \"\", \"zerolinecolor\": \"white\"}, \"zaxis\": {\"backgroundcolor\": \"#E5ECF6\", \"gridcolor\": \"white\", \"gridwidth\": 2, \"linecolor\": \"white\", \"showbackground\": true, \"ticks\": \"\", \"zerolinecolor\": \"white\"}}, \"shapedefaults\": {\"line\": {\"color\": \"#2a3f5f\"}}, \"ternary\": {\"aaxis\": {\"gridcolor\": \"white\", \"linecolor\": \"white\", \"ticks\": \"\"}, \"baxis\": {\"gridcolor\": \"white\", \"linecolor\": \"white\", \"ticks\": \"\"}, \"bgcolor\": \"#E5ECF6\", \"caxis\": {\"gridcolor\": \"white\", \"linecolor\": \"white\", \"ticks\": \"\"}}, \"title\": {\"x\": 0.05}, \"xaxis\": {\"automargin\": true, \"gridcolor\": \"white\", \"linecolor\": \"white\", \"ticks\": \"\", \"title\": {\"standoff\": 15}, \"zerolinecolor\": \"white\", \"zerolinewidth\": 2}, \"yaxis\": {\"automargin\": true, \"gridcolor\": \"white\", \"linecolor\": \"white\", \"ticks\": \"\", \"title\": {\"standoff\": 15}, \"zerolinecolor\": \"white\", \"zerolinewidth\": 2}}}, \"title\": {\"text\": \"Number of tweets depending on location\"}},\n",
       "                        {\"responsive\": true}\n",
       "                    ).then(function(){\n",
       "                            \n",
       "var gd = document.getElementById('63779409-aaee-40b3-9fee-ea63f42b5ed4');\n",
       "var x = new MutationObserver(function (mutations, observer) {{\n",
       "        var display = window.getComputedStyle(gd).display;\n",
       "        if (!display || display === 'none') {{\n",
       "            console.log([gd, 'removed!']);\n",
       "            Plotly.purge(gd);\n",
       "            observer.disconnect();\n",
       "        }}\n",
       "}});\n",
       "\n",
       "// Listen for the removal of the full notebook cells\n",
       "var notebookContainer = gd.closest('#notebook-container');\n",
       "if (notebookContainer) {{\n",
       "    x.observe(notebookContainer, {childList: true});\n",
       "}}\n",
       "\n",
       "// Listen for the clearing of the current output cell\n",
       "var outputEl = gd.closest('.output');\n",
       "if (outputEl) {{\n",
       "    x.observe(outputEl, {childList: true});\n",
       "}}\n",
       "\n",
       "                        })\n",
       "                };\n",
       "                });\n",
       "            </script>\n",
       "        </div>"
      ]
     },
     "metadata": {},
     "output_type": "display_data"
    }
   ],
   "source": [
    "# Tweets per location\n",
    "\n",
    "cnt_ = train['location'].value_counts()\n",
    "cnt_.reset_index()\n",
    "cnt_ = cnt_[:20,]\n",
    "trace1 = go.Bar(\n",
    "                x = cnt_.index,\n",
    "                y = cnt_.values,\n",
    "                name = \"Number of tweets in dataset according to location\",\n",
    "                marker = dict(color = 'rgba(200, 74, 55, 0.5)',\n",
    "                             line=dict(color='rgb(0,0,0)',width=1.5)),\n",
    "                )\n",
    "\n",
    "data = [trace1]\n",
    "layout = go.Layout(barmode = \"group\",title = 'Number of tweets depending on location')\n",
    "fig = go.Figure(data = data, layout = layout)\n",
    "py.iplot(fig)"
   ]
  },
  {
   "cell_type": "code",
   "execution_count": 31,
   "metadata": {},
   "outputs": [
    {
     "data": {
      "application/vnd.plotly.v1+json": {
       "config": {
        "linkText": "Export to plot.ly",
        "plotlyServerURL": "https://plot.ly",
        "showLink": false
       },
       "data": [
        {
         "marker": {
          "color": "rgba(79, 82, 97, 0.5)",
          "line": {
           "color": "rgb(0,0,0)",
           "width": 1.5
          }
         },
         "name": "Number of unreal disaster tweets",
         "type": "bar",
         "x": [
          "New York",
          "USA",
          "London",
          "United States",
          "Los Angeles, CA",
          "Canada",
          "Kenya",
          "Everywhere",
          "UK",
          "Florida",
          "United Kingdom",
          "NYC",
          "California",
          "London, England",
          "Chicago, IL",
          "304",
          "ss",
          "Australia",
          "New York, NY",
          "San Francisco"
         ],
         "y": [
          55,
          37,
          29,
          23,
          18,
          16,
          15,
          12,
          11,
          11,
          10,
          10,
          10,
          9,
          9,
          9,
          9,
          9,
          8,
          8
         ]
        },
        {
         "marker": {
          "color": "rgba(255, 74, 55, 0.5)",
          "line": {
           "color": "rgb(0,0,0)",
           "width": 1.5
          }
         },
         "name": "Number of real disaster tweets",
         "type": "bar",
         "x": [
          "USA",
          "United States",
          "Nigeria",
          "India",
          "Mumbai",
          "UK",
          "London",
          "New York",
          "Washington, DC",
          "Canada",
          "Worldwide",
          "Chicago, IL",
          "Washington, D.C.",
          "Australia",
          "Los Angeles, CA",
          "California, USA",
          "Indonesia",
          "Earth",
          "Toronto",
          "Nashville, TN"
         ],
         "y": [
          67,
          27,
          22,
          20,
          19,
          16,
          16,
          16,
          15,
          13,
          12,
          9,
          9,
          9,
          8,
          8,
          8,
          8,
          7,
          7
         ]
        }
       ],
       "layout": {
        "barmode": "stack",
        "template": {
         "data": {
          "bar": [
           {
            "error_x": {
             "color": "#2a3f5f"
            },
            "error_y": {
             "color": "#2a3f5f"
            },
            "marker": {
             "line": {
              "color": "#E5ECF6",
              "width": 0.5
             }
            },
            "type": "bar"
           }
          ],
          "barpolar": [
           {
            "marker": {
             "line": {
              "color": "#E5ECF6",
              "width": 0.5
             }
            },
            "type": "barpolar"
           }
          ],
          "carpet": [
           {
            "aaxis": {
             "endlinecolor": "#2a3f5f",
             "gridcolor": "white",
             "linecolor": "white",
             "minorgridcolor": "white",
             "startlinecolor": "#2a3f5f"
            },
            "baxis": {
             "endlinecolor": "#2a3f5f",
             "gridcolor": "white",
             "linecolor": "white",
             "minorgridcolor": "white",
             "startlinecolor": "#2a3f5f"
            },
            "type": "carpet"
           }
          ],
          "choropleth": [
           {
            "colorbar": {
             "outlinewidth": 0,
             "ticks": ""
            },
            "type": "choropleth"
           }
          ],
          "contour": [
           {
            "colorbar": {
             "outlinewidth": 0,
             "ticks": ""
            },
            "colorscale": [
             [
              0,
              "#0d0887"
             ],
             [
              0.1111111111111111,
              "#46039f"
             ],
             [
              0.2222222222222222,
              "#7201a8"
             ],
             [
              0.3333333333333333,
              "#9c179e"
             ],
             [
              0.4444444444444444,
              "#bd3786"
             ],
             [
              0.5555555555555556,
              "#d8576b"
             ],
             [
              0.6666666666666666,
              "#ed7953"
             ],
             [
              0.7777777777777778,
              "#fb9f3a"
             ],
             [
              0.8888888888888888,
              "#fdca26"
             ],
             [
              1,
              "#f0f921"
             ]
            ],
            "type": "contour"
           }
          ],
          "contourcarpet": [
           {
            "colorbar": {
             "outlinewidth": 0,
             "ticks": ""
            },
            "type": "contourcarpet"
           }
          ],
          "heatmap": [
           {
            "colorbar": {
             "outlinewidth": 0,
             "ticks": ""
            },
            "colorscale": [
             [
              0,
              "#0d0887"
             ],
             [
              0.1111111111111111,
              "#46039f"
             ],
             [
              0.2222222222222222,
              "#7201a8"
             ],
             [
              0.3333333333333333,
              "#9c179e"
             ],
             [
              0.4444444444444444,
              "#bd3786"
             ],
             [
              0.5555555555555556,
              "#d8576b"
             ],
             [
              0.6666666666666666,
              "#ed7953"
             ],
             [
              0.7777777777777778,
              "#fb9f3a"
             ],
             [
              0.8888888888888888,
              "#fdca26"
             ],
             [
              1,
              "#f0f921"
             ]
            ],
            "type": "heatmap"
           }
          ],
          "heatmapgl": [
           {
            "colorbar": {
             "outlinewidth": 0,
             "ticks": ""
            },
            "colorscale": [
             [
              0,
              "#0d0887"
             ],
             [
              0.1111111111111111,
              "#46039f"
             ],
             [
              0.2222222222222222,
              "#7201a8"
             ],
             [
              0.3333333333333333,
              "#9c179e"
             ],
             [
              0.4444444444444444,
              "#bd3786"
             ],
             [
              0.5555555555555556,
              "#d8576b"
             ],
             [
              0.6666666666666666,
              "#ed7953"
             ],
             [
              0.7777777777777778,
              "#fb9f3a"
             ],
             [
              0.8888888888888888,
              "#fdca26"
             ],
             [
              1,
              "#f0f921"
             ]
            ],
            "type": "heatmapgl"
           }
          ],
          "histogram": [
           {
            "marker": {
             "colorbar": {
              "outlinewidth": 0,
              "ticks": ""
             }
            },
            "type": "histogram"
           }
          ],
          "histogram2d": [
           {
            "colorbar": {
             "outlinewidth": 0,
             "ticks": ""
            },
            "colorscale": [
             [
              0,
              "#0d0887"
             ],
             [
              0.1111111111111111,
              "#46039f"
             ],
             [
              0.2222222222222222,
              "#7201a8"
             ],
             [
              0.3333333333333333,
              "#9c179e"
             ],
             [
              0.4444444444444444,
              "#bd3786"
             ],
             [
              0.5555555555555556,
              "#d8576b"
             ],
             [
              0.6666666666666666,
              "#ed7953"
             ],
             [
              0.7777777777777778,
              "#fb9f3a"
             ],
             [
              0.8888888888888888,
              "#fdca26"
             ],
             [
              1,
              "#f0f921"
             ]
            ],
            "type": "histogram2d"
           }
          ],
          "histogram2dcontour": [
           {
            "colorbar": {
             "outlinewidth": 0,
             "ticks": ""
            },
            "colorscale": [
             [
              0,
              "#0d0887"
             ],
             [
              0.1111111111111111,
              "#46039f"
             ],
             [
              0.2222222222222222,
              "#7201a8"
             ],
             [
              0.3333333333333333,
              "#9c179e"
             ],
             [
              0.4444444444444444,
              "#bd3786"
             ],
             [
              0.5555555555555556,
              "#d8576b"
             ],
             [
              0.6666666666666666,
              "#ed7953"
             ],
             [
              0.7777777777777778,
              "#fb9f3a"
             ],
             [
              0.8888888888888888,
              "#fdca26"
             ],
             [
              1,
              "#f0f921"
             ]
            ],
            "type": "histogram2dcontour"
           }
          ],
          "mesh3d": [
           {
            "colorbar": {
             "outlinewidth": 0,
             "ticks": ""
            },
            "type": "mesh3d"
           }
          ],
          "parcoords": [
           {
            "line": {
             "colorbar": {
              "outlinewidth": 0,
              "ticks": ""
             }
            },
            "type": "parcoords"
           }
          ],
          "pie": [
           {
            "automargin": true,
            "type": "pie"
           }
          ],
          "scatter": [
           {
            "marker": {
             "colorbar": {
              "outlinewidth": 0,
              "ticks": ""
             }
            },
            "type": "scatter"
           }
          ],
          "scatter3d": [
           {
            "line": {
             "colorbar": {
              "outlinewidth": 0,
              "ticks": ""
             }
            },
            "marker": {
             "colorbar": {
              "outlinewidth": 0,
              "ticks": ""
             }
            },
            "type": "scatter3d"
           }
          ],
          "scattercarpet": [
           {
            "marker": {
             "colorbar": {
              "outlinewidth": 0,
              "ticks": ""
             }
            },
            "type": "scattercarpet"
           }
          ],
          "scattergeo": [
           {
            "marker": {
             "colorbar": {
              "outlinewidth": 0,
              "ticks": ""
             }
            },
            "type": "scattergeo"
           }
          ],
          "scattergl": [
           {
            "marker": {
             "colorbar": {
              "outlinewidth": 0,
              "ticks": ""
             }
            },
            "type": "scattergl"
           }
          ],
          "scattermapbox": [
           {
            "marker": {
             "colorbar": {
              "outlinewidth": 0,
              "ticks": ""
             }
            },
            "type": "scattermapbox"
           }
          ],
          "scatterpolar": [
           {
            "marker": {
             "colorbar": {
              "outlinewidth": 0,
              "ticks": ""
             }
            },
            "type": "scatterpolar"
           }
          ],
          "scatterpolargl": [
           {
            "marker": {
             "colorbar": {
              "outlinewidth": 0,
              "ticks": ""
             }
            },
            "type": "scatterpolargl"
           }
          ],
          "scatterternary": [
           {
            "marker": {
             "colorbar": {
              "outlinewidth": 0,
              "ticks": ""
             }
            },
            "type": "scatterternary"
           }
          ],
          "surface": [
           {
            "colorbar": {
             "outlinewidth": 0,
             "ticks": ""
            },
            "colorscale": [
             [
              0,
              "#0d0887"
             ],
             [
              0.1111111111111111,
              "#46039f"
             ],
             [
              0.2222222222222222,
              "#7201a8"
             ],
             [
              0.3333333333333333,
              "#9c179e"
             ],
             [
              0.4444444444444444,
              "#bd3786"
             ],
             [
              0.5555555555555556,
              "#d8576b"
             ],
             [
              0.6666666666666666,
              "#ed7953"
             ],
             [
              0.7777777777777778,
              "#fb9f3a"
             ],
             [
              0.8888888888888888,
              "#fdca26"
             ],
             [
              1,
              "#f0f921"
             ]
            ],
            "type": "surface"
           }
          ],
          "table": [
           {
            "cells": {
             "fill": {
              "color": "#EBF0F8"
             },
             "line": {
              "color": "white"
             }
            },
            "header": {
             "fill": {
              "color": "#C8D4E3"
             },
             "line": {
              "color": "white"
             }
            },
            "type": "table"
           }
          ]
         },
         "layout": {
          "annotationdefaults": {
           "arrowcolor": "#2a3f5f",
           "arrowhead": 0,
           "arrowwidth": 1
          },
          "coloraxis": {
           "colorbar": {
            "outlinewidth": 0,
            "ticks": ""
           }
          },
          "colorscale": {
           "diverging": [
            [
             0,
             "#8e0152"
            ],
            [
             0.1,
             "#c51b7d"
            ],
            [
             0.2,
             "#de77ae"
            ],
            [
             0.3,
             "#f1b6da"
            ],
            [
             0.4,
             "#fde0ef"
            ],
            [
             0.5,
             "#f7f7f7"
            ],
            [
             0.6,
             "#e6f5d0"
            ],
            [
             0.7,
             "#b8e186"
            ],
            [
             0.8,
             "#7fbc41"
            ],
            [
             0.9,
             "#4d9221"
            ],
            [
             1,
             "#276419"
            ]
           ],
           "sequential": [
            [
             0,
             "#0d0887"
            ],
            [
             0.1111111111111111,
             "#46039f"
            ],
            [
             0.2222222222222222,
             "#7201a8"
            ],
            [
             0.3333333333333333,
             "#9c179e"
            ],
            [
             0.4444444444444444,
             "#bd3786"
            ],
            [
             0.5555555555555556,
             "#d8576b"
            ],
            [
             0.6666666666666666,
             "#ed7953"
            ],
            [
             0.7777777777777778,
             "#fb9f3a"
            ],
            [
             0.8888888888888888,
             "#fdca26"
            ],
            [
             1,
             "#f0f921"
            ]
           ],
           "sequentialminus": [
            [
             0,
             "#0d0887"
            ],
            [
             0.1111111111111111,
             "#46039f"
            ],
            [
             0.2222222222222222,
             "#7201a8"
            ],
            [
             0.3333333333333333,
             "#9c179e"
            ],
            [
             0.4444444444444444,
             "#bd3786"
            ],
            [
             0.5555555555555556,
             "#d8576b"
            ],
            [
             0.6666666666666666,
             "#ed7953"
            ],
            [
             0.7777777777777778,
             "#fb9f3a"
            ],
            [
             0.8888888888888888,
             "#fdca26"
            ],
            [
             1,
             "#f0f921"
            ]
           ]
          },
          "colorway": [
           "#636efa",
           "#EF553B",
           "#00cc96",
           "#ab63fa",
           "#FFA15A",
           "#19d3f3",
           "#FF6692",
           "#B6E880",
           "#FF97FF",
           "#FECB52"
          ],
          "font": {
           "color": "#2a3f5f"
          },
          "geo": {
           "bgcolor": "white",
           "lakecolor": "white",
           "landcolor": "#E5ECF6",
           "showlakes": true,
           "showland": true,
           "subunitcolor": "white"
          },
          "hoverlabel": {
           "align": "left"
          },
          "hovermode": "closest",
          "mapbox": {
           "style": "light"
          },
          "paper_bgcolor": "white",
          "plot_bgcolor": "#E5ECF6",
          "polar": {
           "angularaxis": {
            "gridcolor": "white",
            "linecolor": "white",
            "ticks": ""
           },
           "bgcolor": "#E5ECF6",
           "radialaxis": {
            "gridcolor": "white",
            "linecolor": "white",
            "ticks": ""
           }
          },
          "scene": {
           "xaxis": {
            "backgroundcolor": "#E5ECF6",
            "gridcolor": "white",
            "gridwidth": 2,
            "linecolor": "white",
            "showbackground": true,
            "ticks": "",
            "zerolinecolor": "white"
           },
           "yaxis": {
            "backgroundcolor": "#E5ECF6",
            "gridcolor": "white",
            "gridwidth": 2,
            "linecolor": "white",
            "showbackground": true,
            "ticks": "",
            "zerolinecolor": "white"
           },
           "zaxis": {
            "backgroundcolor": "#E5ECF6",
            "gridcolor": "white",
            "gridwidth": 2,
            "linecolor": "white",
            "showbackground": true,
            "ticks": "",
            "zerolinecolor": "white"
           }
          },
          "shapedefaults": {
           "line": {
            "color": "#2a3f5f"
           }
          },
          "ternary": {
           "aaxis": {
            "gridcolor": "white",
            "linecolor": "white",
            "ticks": ""
           },
           "baxis": {
            "gridcolor": "white",
            "linecolor": "white",
            "ticks": ""
           },
           "bgcolor": "#E5ECF6",
           "caxis": {
            "gridcolor": "white",
            "linecolor": "white",
            "ticks": ""
           }
          },
          "title": {
           "x": 0.05
          },
          "xaxis": {
           "automargin": true,
           "gridcolor": "white",
           "linecolor": "white",
           "ticks": "",
           "title": {
            "standoff": 15
           },
           "zerolinecolor": "white",
           "zerolinewidth": 2
          },
          "yaxis": {
           "automargin": true,
           "gridcolor": "white",
           "linecolor": "white",
           "ticks": "",
           "title": {
            "standoff": 15
           },
           "zerolinecolor": "white",
           "zerolinewidth": 2
          }
         }
        },
        "title": {
         "text": "Number of tweets depending on location per class"
        }
       }
      },
      "text/html": [
       "<div>\n",
       "        \n",
       "        \n",
       "            <div id=\"d843a6e3-623b-4beb-8650-354bee4357aa\" class=\"plotly-graph-div\" style=\"height:525px; width:100%;\"></div>\n",
       "            <script type=\"text/javascript\">\n",
       "                require([\"plotly\"], function(Plotly) {\n",
       "                    window.PLOTLYENV=window.PLOTLYENV || {};\n",
       "                    \n",
       "                if (document.getElementById(\"d843a6e3-623b-4beb-8650-354bee4357aa\")) {\n",
       "                    Plotly.newPlot(\n",
       "                        'd843a6e3-623b-4beb-8650-354bee4357aa',\n",
       "                        [{\"marker\": {\"color\": \"rgba(79, 82, 97, 0.5)\", \"line\": {\"color\": \"rgb(0,0,0)\", \"width\": 1.5}}, \"name\": \"Number of unreal disaster tweets\", \"type\": \"bar\", \"x\": [\"New York\", \"USA\", \"London\", \"United States\", \"Los Angeles, CA\", \"Canada\", \"Kenya\", \"Everywhere\", \"UK\", \"Florida\", \"United Kingdom\", \"NYC\", \"California\", \"London, England\", \"Chicago, IL\", \"304\", \"ss\", \"Australia\", \"New York, NY\", \"San Francisco\"], \"y\": [55, 37, 29, 23, 18, 16, 15, 12, 11, 11, 10, 10, 10, 9, 9, 9, 9, 9, 8, 8]}, {\"marker\": {\"color\": \"rgba(255, 74, 55, 0.5)\", \"line\": {\"color\": \"rgb(0,0,0)\", \"width\": 1.5}}, \"name\": \"Number of real disaster tweets\", \"type\": \"bar\", \"x\": [\"USA\", \"United States\", \"Nigeria\", \"India\", \"Mumbai\", \"UK\", \"London\", \"New York\", \"Washington, DC\", \"Canada\", \"Worldwide\", \"Chicago, IL\", \"Washington, D.C.\", \"Australia\", \"Los Angeles, CA\", \"California, USA\", \"Indonesia\", \"Earth\", \"Toronto\", \"Nashville, TN\"], \"y\": [67, 27, 22, 20, 19, 16, 16, 16, 15, 13, 12, 9, 9, 9, 8, 8, 8, 8, 7, 7]}],\n",
       "                        {\"barmode\": \"stack\", \"template\": {\"data\": {\"bar\": [{\"error_x\": {\"color\": \"#2a3f5f\"}, \"error_y\": {\"color\": \"#2a3f5f\"}, \"marker\": {\"line\": {\"color\": \"#E5ECF6\", \"width\": 0.5}}, \"type\": \"bar\"}], \"barpolar\": [{\"marker\": {\"line\": {\"color\": \"#E5ECF6\", \"width\": 0.5}}, \"type\": \"barpolar\"}], \"carpet\": [{\"aaxis\": {\"endlinecolor\": \"#2a3f5f\", \"gridcolor\": \"white\", \"linecolor\": \"white\", \"minorgridcolor\": \"white\", \"startlinecolor\": \"#2a3f5f\"}, \"baxis\": {\"endlinecolor\": \"#2a3f5f\", \"gridcolor\": \"white\", \"linecolor\": \"white\", \"minorgridcolor\": \"white\", \"startlinecolor\": \"#2a3f5f\"}, \"type\": \"carpet\"}], \"choropleth\": [{\"colorbar\": {\"outlinewidth\": 0, \"ticks\": \"\"}, \"type\": \"choropleth\"}], \"contour\": [{\"colorbar\": {\"outlinewidth\": 0, \"ticks\": \"\"}, \"colorscale\": [[0.0, \"#0d0887\"], [0.1111111111111111, \"#46039f\"], [0.2222222222222222, \"#7201a8\"], [0.3333333333333333, \"#9c179e\"], [0.4444444444444444, \"#bd3786\"], [0.5555555555555556, \"#d8576b\"], [0.6666666666666666, \"#ed7953\"], [0.7777777777777778, \"#fb9f3a\"], [0.8888888888888888, \"#fdca26\"], [1.0, \"#f0f921\"]], \"type\": \"contour\"}], \"contourcarpet\": [{\"colorbar\": {\"outlinewidth\": 0, \"ticks\": \"\"}, \"type\": \"contourcarpet\"}], \"heatmap\": [{\"colorbar\": {\"outlinewidth\": 0, \"ticks\": \"\"}, \"colorscale\": [[0.0, \"#0d0887\"], [0.1111111111111111, \"#46039f\"], [0.2222222222222222, \"#7201a8\"], [0.3333333333333333, \"#9c179e\"], [0.4444444444444444, \"#bd3786\"], [0.5555555555555556, \"#d8576b\"], [0.6666666666666666, \"#ed7953\"], [0.7777777777777778, \"#fb9f3a\"], [0.8888888888888888, \"#fdca26\"], [1.0, \"#f0f921\"]], \"type\": \"heatmap\"}], \"heatmapgl\": [{\"colorbar\": {\"outlinewidth\": 0, \"ticks\": \"\"}, \"colorscale\": [[0.0, \"#0d0887\"], [0.1111111111111111, \"#46039f\"], [0.2222222222222222, \"#7201a8\"], [0.3333333333333333, \"#9c179e\"], [0.4444444444444444, \"#bd3786\"], [0.5555555555555556, \"#d8576b\"], [0.6666666666666666, \"#ed7953\"], [0.7777777777777778, \"#fb9f3a\"], [0.8888888888888888, \"#fdca26\"], [1.0, \"#f0f921\"]], \"type\": \"heatmapgl\"}], \"histogram\": [{\"marker\": {\"colorbar\": {\"outlinewidth\": 0, \"ticks\": \"\"}}, \"type\": \"histogram\"}], \"histogram2d\": [{\"colorbar\": {\"outlinewidth\": 0, \"ticks\": \"\"}, \"colorscale\": [[0.0, \"#0d0887\"], [0.1111111111111111, \"#46039f\"], [0.2222222222222222, \"#7201a8\"], [0.3333333333333333, \"#9c179e\"], [0.4444444444444444, \"#bd3786\"], [0.5555555555555556, \"#d8576b\"], [0.6666666666666666, \"#ed7953\"], [0.7777777777777778, \"#fb9f3a\"], [0.8888888888888888, \"#fdca26\"], [1.0, \"#f0f921\"]], \"type\": \"histogram2d\"}], \"histogram2dcontour\": [{\"colorbar\": {\"outlinewidth\": 0, \"ticks\": \"\"}, \"colorscale\": [[0.0, \"#0d0887\"], [0.1111111111111111, \"#46039f\"], [0.2222222222222222, \"#7201a8\"], [0.3333333333333333, \"#9c179e\"], [0.4444444444444444, \"#bd3786\"], [0.5555555555555556, \"#d8576b\"], [0.6666666666666666, \"#ed7953\"], [0.7777777777777778, \"#fb9f3a\"], [0.8888888888888888, \"#fdca26\"], [1.0, \"#f0f921\"]], \"type\": \"histogram2dcontour\"}], \"mesh3d\": [{\"colorbar\": {\"outlinewidth\": 0, \"ticks\": \"\"}, \"type\": \"mesh3d\"}], \"parcoords\": [{\"line\": {\"colorbar\": {\"outlinewidth\": 0, \"ticks\": \"\"}}, \"type\": \"parcoords\"}], \"pie\": [{\"automargin\": true, \"type\": \"pie\"}], \"scatter\": [{\"marker\": {\"colorbar\": {\"outlinewidth\": 0, \"ticks\": \"\"}}, \"type\": \"scatter\"}], \"scatter3d\": [{\"line\": {\"colorbar\": {\"outlinewidth\": 0, \"ticks\": \"\"}}, \"marker\": {\"colorbar\": {\"outlinewidth\": 0, \"ticks\": \"\"}}, \"type\": \"scatter3d\"}], \"scattercarpet\": [{\"marker\": {\"colorbar\": {\"outlinewidth\": 0, \"ticks\": \"\"}}, \"type\": \"scattercarpet\"}], \"scattergeo\": [{\"marker\": {\"colorbar\": {\"outlinewidth\": 0, \"ticks\": \"\"}}, \"type\": \"scattergeo\"}], \"scattergl\": [{\"marker\": {\"colorbar\": {\"outlinewidth\": 0, \"ticks\": \"\"}}, \"type\": \"scattergl\"}], \"scattermapbox\": [{\"marker\": {\"colorbar\": {\"outlinewidth\": 0, \"ticks\": \"\"}}, \"type\": \"scattermapbox\"}], \"scatterpolar\": [{\"marker\": {\"colorbar\": {\"outlinewidth\": 0, \"ticks\": \"\"}}, \"type\": \"scatterpolar\"}], \"scatterpolargl\": [{\"marker\": {\"colorbar\": {\"outlinewidth\": 0, \"ticks\": \"\"}}, \"type\": \"scatterpolargl\"}], \"scatterternary\": [{\"marker\": {\"colorbar\": {\"outlinewidth\": 0, \"ticks\": \"\"}}, \"type\": \"scatterternary\"}], \"surface\": [{\"colorbar\": {\"outlinewidth\": 0, \"ticks\": \"\"}, \"colorscale\": [[0.0, \"#0d0887\"], [0.1111111111111111, \"#46039f\"], [0.2222222222222222, \"#7201a8\"], [0.3333333333333333, \"#9c179e\"], [0.4444444444444444, \"#bd3786\"], [0.5555555555555556, \"#d8576b\"], [0.6666666666666666, \"#ed7953\"], [0.7777777777777778, \"#fb9f3a\"], [0.8888888888888888, \"#fdca26\"], [1.0, \"#f0f921\"]], \"type\": \"surface\"}], \"table\": [{\"cells\": {\"fill\": {\"color\": \"#EBF0F8\"}, \"line\": {\"color\": \"white\"}}, \"header\": {\"fill\": {\"color\": \"#C8D4E3\"}, \"line\": {\"color\": \"white\"}}, \"type\": \"table\"}]}, \"layout\": {\"annotationdefaults\": {\"arrowcolor\": \"#2a3f5f\", \"arrowhead\": 0, \"arrowwidth\": 1}, \"coloraxis\": {\"colorbar\": {\"outlinewidth\": 0, \"ticks\": \"\"}}, \"colorscale\": {\"diverging\": [[0, \"#8e0152\"], [0.1, \"#c51b7d\"], [0.2, \"#de77ae\"], [0.3, \"#f1b6da\"], [0.4, \"#fde0ef\"], [0.5, \"#f7f7f7\"], [0.6, \"#e6f5d0\"], [0.7, \"#b8e186\"], [0.8, \"#7fbc41\"], [0.9, \"#4d9221\"], [1, \"#276419\"]], \"sequential\": [[0.0, \"#0d0887\"], [0.1111111111111111, \"#46039f\"], [0.2222222222222222, \"#7201a8\"], [0.3333333333333333, \"#9c179e\"], [0.4444444444444444, \"#bd3786\"], [0.5555555555555556, \"#d8576b\"], [0.6666666666666666, \"#ed7953\"], [0.7777777777777778, \"#fb9f3a\"], [0.8888888888888888, \"#fdca26\"], [1.0, \"#f0f921\"]], \"sequentialminus\": [[0.0, \"#0d0887\"], [0.1111111111111111, \"#46039f\"], [0.2222222222222222, \"#7201a8\"], [0.3333333333333333, \"#9c179e\"], [0.4444444444444444, \"#bd3786\"], [0.5555555555555556, \"#d8576b\"], [0.6666666666666666, \"#ed7953\"], [0.7777777777777778, \"#fb9f3a\"], [0.8888888888888888, \"#fdca26\"], [1.0, \"#f0f921\"]]}, \"colorway\": [\"#636efa\", \"#EF553B\", \"#00cc96\", \"#ab63fa\", \"#FFA15A\", \"#19d3f3\", \"#FF6692\", \"#B6E880\", \"#FF97FF\", \"#FECB52\"], \"font\": {\"color\": \"#2a3f5f\"}, \"geo\": {\"bgcolor\": \"white\", \"lakecolor\": \"white\", \"landcolor\": \"#E5ECF6\", \"showlakes\": true, \"showland\": true, \"subunitcolor\": \"white\"}, \"hoverlabel\": {\"align\": \"left\"}, \"hovermode\": \"closest\", \"mapbox\": {\"style\": \"light\"}, \"paper_bgcolor\": \"white\", \"plot_bgcolor\": \"#E5ECF6\", \"polar\": {\"angularaxis\": {\"gridcolor\": \"white\", \"linecolor\": \"white\", \"ticks\": \"\"}, \"bgcolor\": \"#E5ECF6\", \"radialaxis\": {\"gridcolor\": \"white\", \"linecolor\": \"white\", \"ticks\": \"\"}}, \"scene\": {\"xaxis\": {\"backgroundcolor\": \"#E5ECF6\", \"gridcolor\": \"white\", \"gridwidth\": 2, \"linecolor\": \"white\", \"showbackground\": true, \"ticks\": \"\", \"zerolinecolor\": \"white\"}, \"yaxis\": {\"backgroundcolor\": \"#E5ECF6\", \"gridcolor\": \"white\", \"gridwidth\": 2, \"linecolor\": \"white\", \"showbackground\": true, \"ticks\": \"\", \"zerolinecolor\": \"white\"}, \"zaxis\": {\"backgroundcolor\": \"#E5ECF6\", \"gridcolor\": \"white\", \"gridwidth\": 2, \"linecolor\": \"white\", \"showbackground\": true, \"ticks\": \"\", \"zerolinecolor\": \"white\"}}, \"shapedefaults\": {\"line\": {\"color\": \"#2a3f5f\"}}, \"ternary\": {\"aaxis\": {\"gridcolor\": \"white\", \"linecolor\": \"white\", \"ticks\": \"\"}, \"baxis\": {\"gridcolor\": \"white\", \"linecolor\": \"white\", \"ticks\": \"\"}, \"bgcolor\": \"#E5ECF6\", \"caxis\": {\"gridcolor\": \"white\", \"linecolor\": \"white\", \"ticks\": \"\"}}, \"title\": {\"x\": 0.05}, \"xaxis\": {\"automargin\": true, \"gridcolor\": \"white\", \"linecolor\": \"white\", \"ticks\": \"\", \"title\": {\"standoff\": 15}, \"zerolinecolor\": \"white\", \"zerolinewidth\": 2}, \"yaxis\": {\"automargin\": true, \"gridcolor\": \"white\", \"linecolor\": \"white\", \"ticks\": \"\", \"title\": {\"standoff\": 15}, \"zerolinecolor\": \"white\", \"zerolinewidth\": 2}}}, \"title\": {\"text\": \"Number of tweets depending on location per class\"}},\n",
       "                        {\"responsive\": true}\n",
       "                    ).then(function(){\n",
       "                            \n",
       "var gd = document.getElementById('d843a6e3-623b-4beb-8650-354bee4357aa');\n",
       "var x = new MutationObserver(function (mutations, observer) {{\n",
       "        var display = window.getComputedStyle(gd).display;\n",
       "        if (!display || display === 'none') {{\n",
       "            console.log([gd, 'removed!']);\n",
       "            Plotly.purge(gd);\n",
       "            observer.disconnect();\n",
       "        }}\n",
       "}});\n",
       "\n",
       "// Listen for the removal of the full notebook cells\n",
       "var notebookContainer = gd.closest('#notebook-container');\n",
       "if (notebookContainer) {{\n",
       "    x.observe(notebookContainer, {childList: true});\n",
       "}}\n",
       "\n",
       "// Listen for the clearing of the current output cell\n",
       "var outputEl = gd.closest('.output');\n",
       "if (outputEl) {{\n",
       "    x.observe(outputEl, {childList: true});\n",
       "}}\n",
       "\n",
       "                        })\n",
       "                };\n",
       "                });\n",
       "            </script>\n",
       "        </div>"
      ]
     },
     "metadata": {},
     "output_type": "display_data"
    }
   ],
   "source": [
    "#Number of tweets depending on location per class\n",
    "\n",
    "train1_df = train[train[\"target\"]==1]\n",
    "train0_df = train[train[\"target\"]==0]\n",
    "cnt_1 = train1_df['location'].value_counts()\n",
    "cnt_1.reset_index()\n",
    "cnt_1 = cnt_1[:20,]\n",
    "\n",
    "cnt_0 = train0_df['location'].value_counts()\n",
    "cnt_0.reset_index()\n",
    "cnt_0 = cnt_0[:20,]\n",
    "\n",
    "trace1 = go.Bar(\n",
    "                x = cnt_1.index,\n",
    "                y = cnt_1.values,\n",
    "                name = \"Number of real disaster tweets\",\n",
    "                marker = dict(color = 'rgba(255, 74, 55, 0.5)',\n",
    "                             line=dict(color='rgb(0,0,0)',width=1.5)),\n",
    "                )\n",
    "trace0 = go.Bar(\n",
    "                x = cnt_0.index,\n",
    "                y = cnt_0.values,\n",
    "                name = \"Number of unreal disaster tweets\",\n",
    "                marker = dict(color = 'rgba(79, 82, 97, 0.5)',\n",
    "                             line=dict(color='rgb(0,0,0)',width=1.5)),\n",
    "                )\n",
    "\n",
    "\n",
    "data = [trace0,trace1]\n",
    "layout = go.Layout(barmode = 'stack',title = 'Number of tweets depending on location per class')\n",
    "fig = go.Figure(data = data, layout = layout)\n",
    "py.iplot(fig)"
   ]
  },
  {
   "cell_type": "markdown",
   "metadata": {},
   "source": [
    "#### Visualize per location using map"
   ]
  },
  {
   "cell_type": "code",
   "execution_count": null,
   "metadata": {},
   "outputs": [],
   "source": [
    "from geopy.geocoders import Nominatim\n",
    "from geopy.extra.rate_limiter import RateLimiter\n",
    "\n",
    "\n",
    "df = train['location'].value_counts()[:20,]\n",
    "df = pd.DataFrame(df)\n",
    "df = df.reset_index()\n",
    "df.columns = ['location', 'counts'] \n",
    "geolocator = Nominatim(user_agent=\"specify_your_app_name_here\")\n",
    "geocode = RateLimiter(geolocator.geocode, min_delay_seconds=1)\n",
    "dictt_latitude = {}\n",
    "dictt_longitude = {}\n",
    "for i in df['location'].values:\n",
    "    print(i)\n",
    "    location = geocode(i)\n",
    "    dictt_latitude[i] = location.latitude\n",
    "    dictt_longitude[i] = location.longitude\n",
    "df['latitude']= df['location'].map(dictt_latitude)\n",
    "df['longitude'] = df['location'].map(dictt_longitude)"
   ]
  },
  {
   "cell_type": "code",
   "execution_count": null,
   "metadata": {},
   "outputs": [],
   "source": [
    "map1 = folium.Map(location=[10.0, 10.0], tiles='CartoDB dark_matter', zoom_start=2.3)\n",
    "markers = []\n",
    "for i, row in df.iterrows():\n",
    "    loss = row['counts']\n",
    "    if row['counts'] > 0:\n",
    "        count = row['counts']*0.4\n",
    "    folium.CircleMarker([float(row['latitude']), float(row['longitude'])], radius=float(count), color='#ef4f61', fill=True).add_to(map1)\n",
    "map1"
   ]
  },
  {
   "cell_type": "markdown",
   "metadata": {},
   "source": [
    "It is clear that most of the tweets from america region."
   ]
  },
  {
   "cell_type": "markdown",
   "metadata": {},
   "source": [
    "#### Common Stopwords in tweets"
   ]
  },
  {
   "cell_type": "code",
   "execution_count": 17,
   "metadata": {},
   "outputs": [],
   "source": [
    "def create_corpus(target):\n",
    "    corpus =[]\n",
    "    \n",
    "    for x in train[train['target'] == target]['text'].str.split():\n",
    "        for i in x:\n",
    "            corpus.append(i)\n",
    "            \n",
    "    return corpus"
   ]
  },
  {
   "cell_type": "code",
   "execution_count": 18,
   "metadata": {},
   "outputs": [],
   "source": [
    "corpus = create_corpus(1)"
   ]
  },
  {
   "cell_type": "code",
   "execution_count": 19,
   "metadata": {},
   "outputs": [],
   "source": [
    "dic = defaultdict(int)\n",
    "for word in corpus:\n",
    "    if word in stop:\n",
    "        dic[word]+=1\n",
    "        \n",
    "top = sorted(dic.items(), key = lambda x:x[1] , reverse = True)[:10] "
   ]
  },
  {
   "cell_type": "code",
   "execution_count": 20,
   "metadata": {},
   "outputs": [
    {
     "data": {
      "image/png": "[encoded data removed]",
      "text/plain": [
       "<Figure size 720x720 with 1 Axes>"
      ]
     },
     "metadata": {},
     "output_type": "display_data"
    }
   ],
   "source": [
    "x , y = zip(*top)\n",
    "plt.figure(figsize = (10 , 10))\n",
    "plt.bar(x , y);"
   ]
  },
  {
   "cell_type": "markdown",
   "metadata": {},
   "source": [
    "#### Analyzing Punctuations"
   ]
  },
  {
   "cell_type": "code",
   "execution_count": 21,
   "metadata": {},
   "outputs": [
    {
     "data": {
      "text/plain": [
       "<BarContainer object of 18 artists>"
      ]
     },
     "execution_count": 21,
     "metadata": {},
     "output_type": "execute_result"
    },
    {
     "data": {
      "image/png": "[encoded data removed]",
      "text/plain": [
       "<Figure size 1080x720 with 1 Axes>"
      ]
     },
     "metadata": {},
     "output_type": "display_data"
    }
   ],
   "source": [
    "plt.figure(figsize=(15 , 10))\n",
    "\n",
    "corpus = create_corpus(1)\n",
    "\n",
    "dic=defaultdict(int)\n",
    "import string\n",
    "special = string.punctuation\n",
    "for i in (corpus):\n",
    "    if i in special:\n",
    "        dic[i]+=1\n",
    "        \n",
    "x,y=zip(*dic.items())\n",
    "plt.bar(x,y , color = 'yellow')"
   ]
  },
  {
   "cell_type": "code",
   "execution_count": 22,
   "metadata": {},
   "outputs": [
    {
     "data": {
      "image/png": "[encoded data removed]",
      "text/plain": [
       "<Figure size 1080x720 with 1 Axes>"
      ]
     },
     "metadata": {},
     "output_type": "display_data"
    }
   ],
   "source": [
    "plt.figure(figsize=(15 , 10))\n",
    "corpus = create_corpus(0)\n",
    "\n",
    "dic=defaultdict(int)\n",
    "import string\n",
    "special = string.punctuation\n",
    "for i in (corpus):\n",
    "    if i in special:\n",
    "        dic[i]+=1\n",
    "        \n",
    "x,y=zip(*dic.items())\n",
    "plt.bar(x , y , color = 'blue');"
   ]
  },
  {
   "cell_type": "markdown",
   "metadata": {},
   "source": [
    "#### Common Words"
   ]
  },
  {
   "cell_type": "code",
   "execution_count": 23,
   "metadata": {},
   "outputs": [],
   "source": [
    "counter=Counter(corpus)\n",
    "most=counter.most_common()\n",
    "\n",
    "x=[]\n",
    "y=[]\n",
    "\n",
    "for word,count in most[:40]:\n",
    "    if (word not in stop) :\n",
    "        x.append(word)\n",
    "        y.append(count)"
   ]
  },
  {
   "cell_type": "code",
   "execution_count": 24,
   "metadata": {},
   "outputs": [
    {
     "data": {
      "image/png": "[encoded data removed]",
      "text/plain": [
       "<Figure size 1080x720 with 1 Axes>"
      ]
     },
     "metadata": {},
     "output_type": "display_data"
    }
   ],
   "source": [
    "plt.figure(figsize=(15 , 10))\n",
    "sns.barplot(x = y , y = x);"
   ]
  },
  {
   "cell_type": "code",
   "execution_count": 25,
   "metadata": {},
   "outputs": [],
   "source": [
    "df = pd.concat([train , test])"
   ]
  },
  {
   "cell_type": "markdown",
   "metadata": {},
   "source": [
    "## Data Preprocessing"
   ]
  },
  {
   "cell_type": "markdown",
   "metadata": {},
   "source": [
    "1 . Removing stop words(Optional)\n",
    "\n",
    "2 . Remove Punctuations\n",
    "\n",
    "3 . Remove Html\n",
    "\n",
    "4 . Remove Emojis\n",
    "\n",
    "5 . Spelling Corrections\n",
    "\n",
    "6 . Removing Urls"
   ]
  },
  {
   "cell_type": "code",
   "execution_count": 26,
   "metadata": {},
   "outputs": [],
   "source": [
    "## Concate both train and test part\n",
    "df_new = pd.concat([train , test])"
   ]
  },
  {
   "cell_type": "code",
   "execution_count": 27,
   "metadata": {},
   "outputs": [
    {
     "data": {
      "text/plain": [
       "(10876, 5)"
      ]
     },
     "execution_count": 27,
     "metadata": {},
     "output_type": "execute_result"
    }
   ],
   "source": [
    "df_new.shape"
   ]
  },
  {
   "cell_type": "code",
   "execution_count": 28,
   "metadata": {},
   "outputs": [
    {
     "data": {
      "text/plain": [
       "id             0\n",
       "keyword       26\n",
       "location    3638\n",
       "text           0\n",
       "target      3263\n",
       "dtype: int64"
      ]
     },
     "execution_count": 28,
     "metadata": {},
     "output_type": "execute_result"
    }
   ],
   "source": [
    "df_new.isnull().sum()"
   ]
  },
  {
   "cell_type": "code",
   "execution_count": 29,
   "metadata": {},
   "outputs": [
    {
     "data": {
      "text/plain": [
       "<matplotlib.axes._subplots.AxesSubplot at 0x2195293b508>"
      ]
     },
     "execution_count": 29,
     "metadata": {},
     "output_type": "execute_result"
    },
    {
     "data": {
      "image/png": "[encoded data removed]",
      "text/plain": [
       "<Figure size 432x288 with 1 Axes>"
      ]
     },
     "metadata": {},
     "output_type": "display_data"
    }
   ],
   "source": [
    "sns.barplot(y = 'target' , data = df_new)"
   ]
  },
  {
   "cell_type": "code",
   "execution_count": 30,
   "metadata": {},
   "outputs": [
    {
     "data": {
      "text/html": [
       "<div>\n",
       "<style scoped>\n",
       "    .dataframe tbody tr th:only-of-type {\n",
       "        vertical-align: middle;\n",
       "    }\n",
       "\n",
       "    .dataframe tbody tr th {\n",
       "        vertical-align: top;\n",
       "    }\n",
       "\n",
       "    .dataframe thead th {\n",
       "        text-align: right;\n",
       "    }\n",
       "</style>\n",
       "<table border=\"1\" class=\"dataframe\">\n",
       "  <thead>\n",
       "    <tr style=\"text-align: right;\">\n",
       "      <th></th>\n",
       "      <th>id</th>\n",
       "      <th>keyword</th>\n",
       "      <th>location</th>\n",
       "      <th>text</th>\n",
       "      <th>target</th>\n",
       "    </tr>\n",
       "  </thead>\n",
       "  <tbody>\n",
       "    <tr>\n",
       "      <th>0</th>\n",
       "      <td>1</td>\n",
       "      <td>No keyword</td>\n",
       "      <td>NaN</td>\n",
       "      <td>Our Deeds are the Reason of this #earthquake M...</td>\n",
       "      <td>1.0</td>\n",
       "    </tr>\n",
       "    <tr>\n",
       "      <th>1</th>\n",
       "      <td>4</td>\n",
       "      <td>No keyword</td>\n",
       "      <td>NaN</td>\n",
       "      <td>Forest fire near La Ronge Sask. Canada</td>\n",
       "      <td>1.0</td>\n",
       "    </tr>\n",
       "    <tr>\n",
       "      <th>2</th>\n",
       "      <td>5</td>\n",
       "      <td>No keyword</td>\n",
       "      <td>NaN</td>\n",
       "      <td>All residents asked to 'shelter in place' are ...</td>\n",
       "      <td>1.0</td>\n",
       "    </tr>\n",
       "    <tr>\n",
       "      <th>3</th>\n",
       "      <td>6</td>\n",
       "      <td>No keyword</td>\n",
       "      <td>NaN</td>\n",
       "      <td>13,000 people receive #wildfires evacuation or...</td>\n",
       "      <td>1.0</td>\n",
       "    </tr>\n",
       "    <tr>\n",
       "      <th>4</th>\n",
       "      <td>7</td>\n",
       "      <td>No keyword</td>\n",
       "      <td>NaN</td>\n",
       "      <td>Just got sent this photo from Ruby #Alaska as ...</td>\n",
       "      <td>1.0</td>\n",
       "    </tr>\n",
       "    <tr>\n",
       "      <th>5</th>\n",
       "      <td>8</td>\n",
       "      <td>No keyword</td>\n",
       "      <td>NaN</td>\n",
       "      <td>#RockyFire Update =&gt; California Hwy. 20 closed...</td>\n",
       "      <td>1.0</td>\n",
       "    </tr>\n",
       "    <tr>\n",
       "      <th>6</th>\n",
       "      <td>10</td>\n",
       "      <td>No keyword</td>\n",
       "      <td>NaN</td>\n",
       "      <td>#flood #disaster Heavy rain causes flash flood...</td>\n",
       "      <td>1.0</td>\n",
       "    </tr>\n",
       "    <tr>\n",
       "      <th>7</th>\n",
       "      <td>13</td>\n",
       "      <td>No keyword</td>\n",
       "      <td>NaN</td>\n",
       "      <td>I'm on top of the hill and I can see a fire in...</td>\n",
       "      <td>1.0</td>\n",
       "    </tr>\n",
       "    <tr>\n",
       "      <th>8</th>\n",
       "      <td>14</td>\n",
       "      <td>No keyword</td>\n",
       "      <td>NaN</td>\n",
       "      <td>There's an emergency evacuation happening now ...</td>\n",
       "      <td>1.0</td>\n",
       "    </tr>\n",
       "    <tr>\n",
       "      <th>9</th>\n",
       "      <td>15</td>\n",
       "      <td>No keyword</td>\n",
       "      <td>NaN</td>\n",
       "      <td>I'm afraid that the tornado is coming to our a...</td>\n",
       "      <td>1.0</td>\n",
       "    </tr>\n",
       "    <tr>\n",
       "      <th>10</th>\n",
       "      <td>16</td>\n",
       "      <td>No keyword</td>\n",
       "      <td>NaN</td>\n",
       "      <td>Three people died from the heat wave so far</td>\n",
       "      <td>1.0</td>\n",
       "    </tr>\n",
       "    <tr>\n",
       "      <th>11</th>\n",
       "      <td>17</td>\n",
       "      <td>No keyword</td>\n",
       "      <td>NaN</td>\n",
       "      <td>Haha South Tampa is getting flooded hah- WAIT ...</td>\n",
       "      <td>1.0</td>\n",
       "    </tr>\n",
       "    <tr>\n",
       "      <th>12</th>\n",
       "      <td>18</td>\n",
       "      <td>No keyword</td>\n",
       "      <td>NaN</td>\n",
       "      <td>#raining #flooding #Florida #TampaBay #Tampa 1...</td>\n",
       "      <td>1.0</td>\n",
       "    </tr>\n",
       "    <tr>\n",
       "      <th>13</th>\n",
       "      <td>19</td>\n",
       "      <td>No keyword</td>\n",
       "      <td>NaN</td>\n",
       "      <td>#Flood in Bago Myanmar #We arrived Bago</td>\n",
       "      <td>1.0</td>\n",
       "    </tr>\n",
       "    <tr>\n",
       "      <th>14</th>\n",
       "      <td>20</td>\n",
       "      <td>No keyword</td>\n",
       "      <td>NaN</td>\n",
       "      <td>Damage to school bus on 80 in multi car crash ...</td>\n",
       "      <td>1.0</td>\n",
       "    </tr>\n",
       "    <tr>\n",
       "      <th>15</th>\n",
       "      <td>23</td>\n",
       "      <td>No keyword</td>\n",
       "      <td>NaN</td>\n",
       "      <td>What's up man?</td>\n",
       "      <td>0.0</td>\n",
       "    </tr>\n",
       "    <tr>\n",
       "      <th>16</th>\n",
       "      <td>24</td>\n",
       "      <td>No keyword</td>\n",
       "      <td>NaN</td>\n",
       "      <td>I love fruits</td>\n",
       "      <td>0.0</td>\n",
       "    </tr>\n",
       "    <tr>\n",
       "      <th>17</th>\n",
       "      <td>25</td>\n",
       "      <td>No keyword</td>\n",
       "      <td>NaN</td>\n",
       "      <td>Summer is lovely</td>\n",
       "      <td>0.0</td>\n",
       "    </tr>\n",
       "    <tr>\n",
       "      <th>18</th>\n",
       "      <td>26</td>\n",
       "      <td>No keyword</td>\n",
       "      <td>NaN</td>\n",
       "      <td>My car is so fast</td>\n",
       "      <td>0.0</td>\n",
       "    </tr>\n",
       "    <tr>\n",
       "      <th>19</th>\n",
       "      <td>28</td>\n",
       "      <td>No keyword</td>\n",
       "      <td>NaN</td>\n",
       "      <td>What a goooooooaaaaaal!!!!!!</td>\n",
       "      <td>0.0</td>\n",
       "    </tr>\n",
       "  </tbody>\n",
       "</table>\n",
       "</div>"
      ],
      "text/plain": [
       "    id     keyword location  \\\n",
       "0    1  No keyword      NaN   \n",
       "1    4  No keyword      NaN   \n",
       "2    5  No keyword      NaN   \n",
       "3    6  No keyword      NaN   \n",
       "4    7  No keyword      NaN   \n",
       "5    8  No keyword      NaN   \n",
       "6   10  No keyword      NaN   \n",
       "7   13  No keyword      NaN   \n",
       "8   14  No keyword      NaN   \n",
       "9   15  No keyword      NaN   \n",
       "10  16  No keyword      NaN   \n",
       "11  17  No keyword      NaN   \n",
       "12  18  No keyword      NaN   \n",
       "13  19  No keyword      NaN   \n",
       "14  20  No keyword      NaN   \n",
       "15  23  No keyword      NaN   \n",
       "16  24  No keyword      NaN   \n",
       "17  25  No keyword      NaN   \n",
       "18  26  No keyword      NaN   \n",
       "19  28  No keyword      NaN   \n",
       "\n",
       "                                                 text  target  \n",
       "0   Our Deeds are the Reason of this #earthquake M...     1.0  \n",
       "1              Forest fire near La Ronge Sask. Canada     1.0  \n",
       "2   All residents asked to 'shelter in place' are ...     1.0  \n",
       "3   13,000 people receive #wildfires evacuation or...     1.0  \n",
       "4   Just got sent this photo from Ruby #Alaska as ...     1.0  \n",
       "5   #RockyFire Update => California Hwy. 20 closed...     1.0  \n",
       "6   #flood #disaster Heavy rain causes flash flood...     1.0  \n",
       "7   I'm on top of the hill and I can see a fire in...     1.0  \n",
       "8   There's an emergency evacuation happening now ...     1.0  \n",
       "9   I'm afraid that the tornado is coming to our a...     1.0  \n",
       "10        Three people died from the heat wave so far     1.0  \n",
       "11  Haha South Tampa is getting flooded hah- WAIT ...     1.0  \n",
       "12  #raining #flooding #Florida #TampaBay #Tampa 1...     1.0  \n",
       "13            #Flood in Bago Myanmar #We arrived Bago     1.0  \n",
       "14  Damage to school bus on 80 in multi car crash ...     1.0  \n",
       "15                                     What's up man?     0.0  \n",
       "16                                      I love fruits     0.0  \n",
       "17                                   Summer is lovely     0.0  \n",
       "18                                  My car is so fast     0.0  \n",
       "19                       What a goooooooaaaaaal!!!!!!     0.0  "
      ]
     },
     "execution_count": 30,
     "metadata": {},
     "output_type": "execute_result"
    }
   ],
   "source": [
    "df_new.head(20)"
   ]
  },
  {
   "cell_type": "code",
   "execution_count": 31,
   "metadata": {},
   "outputs": [
    {
     "data": {
      "text/html": [
       "<div>\n",
       "<style scoped>\n",
       "    .dataframe tbody tr th:only-of-type {\n",
       "        vertical-align: middle;\n",
       "    }\n",
       "\n",
       "    .dataframe tbody tr th {\n",
       "        vertical-align: top;\n",
       "    }\n",
       "\n",
       "    .dataframe thead th {\n",
       "        text-align: right;\n",
       "    }\n",
       "</style>\n",
       "<table border=\"1\" class=\"dataframe\">\n",
       "  <thead>\n",
       "    <tr style=\"text-align: right;\">\n",
       "      <th></th>\n",
       "      <th>id</th>\n",
       "      <th>keyword</th>\n",
       "      <th>location</th>\n",
       "      <th>text</th>\n",
       "      <th>target</th>\n",
       "    </tr>\n",
       "  </thead>\n",
       "  <tbody>\n",
       "    <tr>\n",
       "      <th>3258</th>\n",
       "      <td>10861</td>\n",
       "      <td>NaN</td>\n",
       "      <td>NaN</td>\n",
       "      <td>EARTHQUAKE SAFETY LOS ANGELES ÛÒ SAFETY FASTE...</td>\n",
       "      <td>NaN</td>\n",
       "    </tr>\n",
       "    <tr>\n",
       "      <th>3259</th>\n",
       "      <td>10865</td>\n",
       "      <td>NaN</td>\n",
       "      <td>NaN</td>\n",
       "      <td>Storm in RI worse than last hurricane. My city...</td>\n",
       "      <td>NaN</td>\n",
       "    </tr>\n",
       "    <tr>\n",
       "      <th>3260</th>\n",
       "      <td>10868</td>\n",
       "      <td>NaN</td>\n",
       "      <td>NaN</td>\n",
       "      <td>Green Line derailment in Chicago http://t.co/U...</td>\n",
       "      <td>NaN</td>\n",
       "    </tr>\n",
       "    <tr>\n",
       "      <th>3261</th>\n",
       "      <td>10874</td>\n",
       "      <td>NaN</td>\n",
       "      <td>NaN</td>\n",
       "      <td>MEG issues Hazardous Weather Outlook (HWO) htt...</td>\n",
       "      <td>NaN</td>\n",
       "    </tr>\n",
       "    <tr>\n",
       "      <th>3262</th>\n",
       "      <td>10875</td>\n",
       "      <td>NaN</td>\n",
       "      <td>NaN</td>\n",
       "      <td>#CityofCalgary has activated its Municipal Eme...</td>\n",
       "      <td>NaN</td>\n",
       "    </tr>\n",
       "  </tbody>\n",
       "</table>\n",
       "</div>"
      ],
      "text/plain": [
       "         id keyword location  \\\n",
       "3258  10861     NaN      NaN   \n",
       "3259  10865     NaN      NaN   \n",
       "3260  10868     NaN      NaN   \n",
       "3261  10874     NaN      NaN   \n",
       "3262  10875     NaN      NaN   \n",
       "\n",
       "                                                   text  target  \n",
       "3258  EARTHQUAKE SAFETY LOS ANGELES ÛÒ SAFETY FASTE...     NaN  \n",
       "3259  Storm in RI worse than last hurricane. My city...     NaN  \n",
       "3260  Green Line derailment in Chicago http://t.co/U...     NaN  \n",
       "3261  MEG issues Hazardous Weather Outlook (HWO) htt...     NaN  \n",
       "3262  #CityofCalgary has activated its Municipal Eme...     NaN  "
      ]
     },
     "execution_count": 31,
     "metadata": {},
     "output_type": "execute_result"
    }
   ],
   "source": [
    "df_new.tail()"
   ]
  },
  {
   "cell_type": "code",
   "execution_count": 32,
   "metadata": {},
   "outputs": [
    {
     "data": {
      "text/plain": [
       "0    Our Deeds are the Reason of this #earthquake M...\n",
       "0                   Just happened a terrible car crash\n",
       "Name: text, dtype: object"
      ]
     },
     "execution_count": 32,
     "metadata": {},
     "output_type": "execute_result"
    }
   ],
   "source": [
    "df_new['text'][0]"
   ]
  },
  {
   "cell_type": "code",
   "execution_count": 33,
   "metadata": {},
   "outputs": [
    {
     "data": {
      "text/plain": [
       "12    #raining #flooding #Florida #TampaBay #Tampa 1...\n",
       "12                               No don't tell me that!\n",
       "Name: text, dtype: object"
      ]
     },
     "execution_count": 33,
     "metadata": {},
     "output_type": "execute_result"
    }
   ],
   "source": [
    "df_new['text'][12]"
   ]
  },
  {
   "cell_type": "code",
   "execution_count": 34,
   "metadata": {},
   "outputs": [
    {
     "data": {
      "text/plain": [
       "'Our Deeds are the Reason of this #earthquake May ALLAH Forgive us all'"
      ]
     },
     "execution_count": 34,
     "metadata": {},
     "output_type": "execute_result"
    }
   ],
   "source": [
    "train['text'][0]"
   ]
  },
  {
   "cell_type": "markdown",
   "metadata": {},
   "source": [
    "### Removing URLS"
   ]
  },
  {
   "cell_type": "code",
   "execution_count": 35,
   "metadata": {},
   "outputs": [],
   "source": [
    "def remove_URL(text):\n",
    "    url = re.compile(r'https?://\\S+|www\\.\\S+')\n",
    "    return url.sub(r'',text)"
   ]
  },
  {
   "cell_type": "code",
   "execution_count": 36,
   "metadata": {},
   "outputs": [],
   "source": [
    "train['text'] = train['text'].apply(lambda x : remove_URL(x))\n",
    "df_new['text'] = df_new['text'].apply(lambda x : remove_URL(x))\n",
    "test['text'] = test['text'].apply(lambda x : remove_URL(x))"
   ]
  },
  {
   "cell_type": "markdown",
   "metadata": {},
   "source": [
    "### Remove HTML tags"
   ]
  },
  {
   "cell_type": "code",
   "execution_count": 37,
   "metadata": {},
   "outputs": [],
   "source": [
    "def remove_html(text):\n",
    "    html=re.compile(r'<.*?>')\n",
    "    return html.sub(r'',text)"
   ]
  },
  {
   "cell_type": "code",
   "execution_count": 38,
   "metadata": {},
   "outputs": [],
   "source": [
    "train['text'] = train['text'].apply(lambda x : remove_html(x))\n",
    "df_new['text'] = df_new['text'].apply(lambda x : remove_URL(x))\n",
    "test['text'] = test['text'].apply(lambda x : remove_html(x))"
   ]
  },
  {
   "cell_type": "markdown",
   "metadata": {},
   "source": [
    "### Remove Emoji's"
   ]
  },
  {
   "cell_type": "code",
   "execution_count": 39,
   "metadata": {},
   "outputs": [],
   "source": [
    "def remove_emoji(text):\n",
    "    emoji_pattern = re.compile(\"[\"\n",
    "                           u\"\\U0001F600-\\U0001F64F\"  # emoticons\n",
    "                           u\"\\U0001F300-\\U0001F5FF\"  # symbols & pictographs\n",
    "                           u\"\\U0001F680-\\U0001F6FF\"  # transport & map symbols\n",
    "                           u\"\\U0001F1E0-\\U0001F1FF\"  # flags (iOS)\n",
    "                           u\"\\U00002702-\\U000027B0\"\n",
    "                           u\"\\U000024C2-\\U0001F251\"\n",
    "                           \"]+\", flags=re.UNICODE)\n",
    "    return emoji_pattern.sub(r'', text)"
   ]
  },
  {
   "cell_type": "code",
   "execution_count": 40,
   "metadata": {},
   "outputs": [],
   "source": [
    "df_new['text']=df_new['text'].apply(lambda x: remove_emoji(x))\n",
    "train['text'] = train['text'].apply(lambda x : remove_emoji(x))\n",
    "test['text'] = test['text'].apply(lambda x : remove_emoji(x))"
   ]
  },
  {
   "cell_type": "code",
   "execution_count": 41,
   "metadata": {},
   "outputs": [
    {
     "data": {
      "text/plain": [
       "12    #raining #flooding #Florida #TampaBay #Tampa 1...\n",
       "12                               No don't tell me that!\n",
       "Name: text, dtype: object"
      ]
     },
     "execution_count": 41,
     "metadata": {},
     "output_type": "execute_result"
    }
   ],
   "source": [
    "df_new['text'][12]"
   ]
  },
  {
   "cell_type": "markdown",
   "metadata": {},
   "source": [
    "### Remove Punctuations"
   ]
  },
  {
   "cell_type": "code",
   "execution_count": 42,
   "metadata": {},
   "outputs": [],
   "source": [
    "def remove_punct(text):\n",
    "    table=str.maketrans('','',string.punctuation)\n",
    "    return text.translate(table)"
   ]
  },
  {
   "cell_type": "code",
   "execution_count": 43,
   "metadata": {},
   "outputs": [],
   "source": [
    "df_new['text'] = df_new['text'].apply(lambda x : remove_punct(x))\n",
    "train['text'] = train['text'].apply(lambda x : remove_punct(x))\n",
    "test['text'] = test['text'].apply(lambda x : remove_punct(x))"
   ]
  },
  {
   "cell_type": "code",
   "execution_count": 44,
   "metadata": {},
   "outputs": [
    {
     "data": {
      "text/plain": [
       "12    raining flooding Florida TampaBay Tampa 18 or ...\n",
       "12                                 No dont tell me that\n",
       "Name: text, dtype: object"
      ]
     },
     "execution_count": 44,
     "metadata": {},
     "output_type": "execute_result"
    }
   ],
   "source": [
    "df_new['text'][12]"
   ]
  },
  {
   "cell_type": "code",
   "execution_count": 45,
   "metadata": {},
   "outputs": [
    {
     "data": {
      "text/plain": [
       "'raining flooding Florida TampaBay Tampa 18 or 19 days Ive lost count '"
      ]
     },
     "execution_count": 45,
     "metadata": {},
     "output_type": "execute_result"
    }
   ],
   "source": [
    "train['text'][12]"
   ]
  },
  {
   "cell_type": "code",
   "execution_count": 46,
   "metadata": {},
   "outputs": [
    {
     "data": {
      "text/html": [
       "<div>\n",
       "<style scoped>\n",
       "    .dataframe tbody tr th:only-of-type {\n",
       "        vertical-align: middle;\n",
       "    }\n",
       "\n",
       "    .dataframe tbody tr th {\n",
       "        vertical-align: top;\n",
       "    }\n",
       "\n",
       "    .dataframe thead th {\n",
       "        text-align: right;\n",
       "    }\n",
       "</style>\n",
       "<table border=\"1\" class=\"dataframe\">\n",
       "  <thead>\n",
       "    <tr style=\"text-align: right;\">\n",
       "      <th></th>\n",
       "      <th>id</th>\n",
       "      <th>keyword</th>\n",
       "      <th>location</th>\n",
       "      <th>text</th>\n",
       "      <th>target</th>\n",
       "    </tr>\n",
       "  </thead>\n",
       "  <tbody>\n",
       "    <tr>\n",
       "      <th>0</th>\n",
       "      <td>1</td>\n",
       "      <td>No keyword</td>\n",
       "      <td>NaN</td>\n",
       "      <td>Our Deeds are the Reason of this earthquake Ma...</td>\n",
       "      <td>1</td>\n",
       "    </tr>\n",
       "    <tr>\n",
       "      <th>1</th>\n",
       "      <td>4</td>\n",
       "      <td>No keyword</td>\n",
       "      <td>NaN</td>\n",
       "      <td>Forest fire near La Ronge Sask Canada</td>\n",
       "      <td>1</td>\n",
       "    </tr>\n",
       "    <tr>\n",
       "      <th>2</th>\n",
       "      <td>5</td>\n",
       "      <td>No keyword</td>\n",
       "      <td>NaN</td>\n",
       "      <td>All residents asked to shelter in place are be...</td>\n",
       "      <td>1</td>\n",
       "    </tr>\n",
       "    <tr>\n",
       "      <th>3</th>\n",
       "      <td>6</td>\n",
       "      <td>No keyword</td>\n",
       "      <td>NaN</td>\n",
       "      <td>13000 people receive wildfires evacuation orde...</td>\n",
       "      <td>1</td>\n",
       "    </tr>\n",
       "    <tr>\n",
       "      <th>4</th>\n",
       "      <td>7</td>\n",
       "      <td>No keyword</td>\n",
       "      <td>NaN</td>\n",
       "      <td>Just got sent this photo from Ruby Alaska as s...</td>\n",
       "      <td>1</td>\n",
       "    </tr>\n",
       "  </tbody>\n",
       "</table>\n",
       "</div>"
      ],
      "text/plain": [
       "   id     keyword location                                               text  \\\n",
       "0   1  No keyword      NaN  Our Deeds are the Reason of this earthquake Ma...   \n",
       "1   4  No keyword      NaN              Forest fire near La Ronge Sask Canada   \n",
       "2   5  No keyword      NaN  All residents asked to shelter in place are be...   \n",
       "3   6  No keyword      NaN  13000 people receive wildfires evacuation orde...   \n",
       "4   7  No keyword      NaN  Just got sent this photo from Ruby Alaska as s...   \n",
       "\n",
       "   target  \n",
       "0       1  \n",
       "1       1  \n",
       "2       1  \n",
       "3       1  \n",
       "4       1  "
      ]
     },
     "execution_count": 46,
     "metadata": {},
     "output_type": "execute_result"
    }
   ],
   "source": [
    "train.head()"
   ]
  },
  {
   "cell_type": "code",
   "execution_count": 47,
   "metadata": {},
   "outputs": [
    {
     "data": {
      "text/html": [
       "<div>\n",
       "<style scoped>\n",
       "    .dataframe tbody tr th:only-of-type {\n",
       "        vertical-align: middle;\n",
       "    }\n",
       "\n",
       "    .dataframe tbody tr th {\n",
       "        vertical-align: top;\n",
       "    }\n",
       "\n",
       "    .dataframe thead th {\n",
       "        text-align: right;\n",
       "    }\n",
       "</style>\n",
       "<table border=\"1\" class=\"dataframe\">\n",
       "  <thead>\n",
       "    <tr style=\"text-align: right;\">\n",
       "      <th></th>\n",
       "      <th>id</th>\n",
       "      <th>keyword</th>\n",
       "      <th>location</th>\n",
       "      <th>text</th>\n",
       "      <th>target</th>\n",
       "    </tr>\n",
       "  </thead>\n",
       "  <tbody>\n",
       "    <tr>\n",
       "      <th>7608</th>\n",
       "      <td>10869</td>\n",
       "      <td>No keyword</td>\n",
       "      <td>NaN</td>\n",
       "      <td>Two giant cranes holding a bridge collapse int...</td>\n",
       "      <td>1</td>\n",
       "    </tr>\n",
       "    <tr>\n",
       "      <th>7609</th>\n",
       "      <td>10870</td>\n",
       "      <td>No keyword</td>\n",
       "      <td>NaN</td>\n",
       "      <td>ariaahrary TheTawniest The out of control wild...</td>\n",
       "      <td>1</td>\n",
       "    </tr>\n",
       "    <tr>\n",
       "      <th>7610</th>\n",
       "      <td>10871</td>\n",
       "      <td>No keyword</td>\n",
       "      <td>NaN</td>\n",
       "      <td>M194 0104 UTC5km S of Volcano Hawaii</td>\n",
       "      <td>1</td>\n",
       "    </tr>\n",
       "    <tr>\n",
       "      <th>7611</th>\n",
       "      <td>10872</td>\n",
       "      <td>No keyword</td>\n",
       "      <td>NaN</td>\n",
       "      <td>Police investigating after an ebike collided w...</td>\n",
       "      <td>1</td>\n",
       "    </tr>\n",
       "    <tr>\n",
       "      <th>7612</th>\n",
       "      <td>10873</td>\n",
       "      <td>No keyword</td>\n",
       "      <td>NaN</td>\n",
       "      <td>The Latest More Homes Razed by Northern Califo...</td>\n",
       "      <td>1</td>\n",
       "    </tr>\n",
       "  </tbody>\n",
       "</table>\n",
       "</div>"
      ],
      "text/plain": [
       "         id     keyword location  \\\n",
       "7608  10869  No keyword      NaN   \n",
       "7609  10870  No keyword      NaN   \n",
       "7610  10871  No keyword      NaN   \n",
       "7611  10872  No keyword      NaN   \n",
       "7612  10873  No keyword      NaN   \n",
       "\n",
       "                                                   text  target  \n",
       "7608  Two giant cranes holding a bridge collapse int...       1  \n",
       "7609  ariaahrary TheTawniest The out of control wild...       1  \n",
       "7610              M194 0104 UTC5km S of Volcano Hawaii        1  \n",
       "7611  Police investigating after an ebike collided w...       1  \n",
       "7612  The Latest More Homes Razed by Northern Califo...       1  "
      ]
     },
     "execution_count": 47,
     "metadata": {},
     "output_type": "execute_result"
    }
   ],
   "source": [
    "train.tail()"
   ]
  },
  {
   "cell_type": "markdown",
   "metadata": {},
   "source": [
    "### Spelling corrections"
   ]
  },
  {
   "cell_type": "code",
   "execution_count": 48,
   "metadata": {},
   "outputs": [],
   "source": [
    "spell = SpellChecker()\n",
    "def correct_spellings(text):\n",
    "    corrected_text = []\n",
    "    misspelled_words = spell.unknown(text.split())\n",
    "    for word in text.split():\n",
    "        if word in misspelled_words:\n",
    "            corrected_text.append(spell.correction(word))\n",
    "        else:\n",
    "            corrected_text.append(word)\n",
    "    return \" \".join(corrected_text)"
   ]
  },
  {
   "cell_type": "code",
   "execution_count": 49,
   "metadata": {},
   "outputs": [],
   "source": [
    "# df_new['text'] = df_new['text'].apply(lambda x : correct_spellings(x))\n",
    "# train['text'] = train['text'].apply(lambda x : correct_spellings(x))"
   ]
  },
  {
   "cell_type": "code",
   "execution_count": 50,
   "metadata": {},
   "outputs": [
    {
     "data": {
      "text/html": [
       "<div>\n",
       "<style scoped>\n",
       "    .dataframe tbody tr th:only-of-type {\n",
       "        vertical-align: middle;\n",
       "    }\n",
       "\n",
       "    .dataframe tbody tr th {\n",
       "        vertical-align: top;\n",
       "    }\n",
       "\n",
       "    .dataframe thead th {\n",
       "        text-align: right;\n",
       "    }\n",
       "</style>\n",
       "<table border=\"1\" class=\"dataframe\">\n",
       "  <thead>\n",
       "    <tr style=\"text-align: right;\">\n",
       "      <th></th>\n",
       "      <th>id</th>\n",
       "      <th>keyword</th>\n",
       "      <th>location</th>\n",
       "      <th>text</th>\n",
       "      <th>target</th>\n",
       "    </tr>\n",
       "  </thead>\n",
       "  <tbody>\n",
       "    <tr>\n",
       "      <th>7608</th>\n",
       "      <td>10869</td>\n",
       "      <td>No keyword</td>\n",
       "      <td>NaN</td>\n",
       "      <td>Two giant cranes holding a bridge collapse int...</td>\n",
       "      <td>1</td>\n",
       "    </tr>\n",
       "    <tr>\n",
       "      <th>7609</th>\n",
       "      <td>10870</td>\n",
       "      <td>No keyword</td>\n",
       "      <td>NaN</td>\n",
       "      <td>ariaahrary TheTawniest The out of control wild...</td>\n",
       "      <td>1</td>\n",
       "    </tr>\n",
       "    <tr>\n",
       "      <th>7610</th>\n",
       "      <td>10871</td>\n",
       "      <td>No keyword</td>\n",
       "      <td>NaN</td>\n",
       "      <td>M194 0104 UTC5km S of Volcano Hawaii</td>\n",
       "      <td>1</td>\n",
       "    </tr>\n",
       "    <tr>\n",
       "      <th>7611</th>\n",
       "      <td>10872</td>\n",
       "      <td>No keyword</td>\n",
       "      <td>NaN</td>\n",
       "      <td>Police investigating after an ebike collided w...</td>\n",
       "      <td>1</td>\n",
       "    </tr>\n",
       "    <tr>\n",
       "      <th>7612</th>\n",
       "      <td>10873</td>\n",
       "      <td>No keyword</td>\n",
       "      <td>NaN</td>\n",
       "      <td>The Latest More Homes Razed by Northern Califo...</td>\n",
       "      <td>1</td>\n",
       "    </tr>\n",
       "  </tbody>\n",
       "</table>\n",
       "</div>"
      ],
      "text/plain": [
       "         id     keyword location  \\\n",
       "7608  10869  No keyword      NaN   \n",
       "7609  10870  No keyword      NaN   \n",
       "7610  10871  No keyword      NaN   \n",
       "7611  10872  No keyword      NaN   \n",
       "7612  10873  No keyword      NaN   \n",
       "\n",
       "                                                   text  target  \n",
       "7608  Two giant cranes holding a bridge collapse int...       1  \n",
       "7609  ariaahrary TheTawniest The out of control wild...       1  \n",
       "7610              M194 0104 UTC5km S of Volcano Hawaii        1  \n",
       "7611  Police investigating after an ebike collided w...       1  \n",
       "7612  The Latest More Homes Razed by Northern Califo...       1  "
      ]
     },
     "execution_count": 50,
     "metadata": {},
     "output_type": "execute_result"
    }
   ],
   "source": [
    "train.tail()"
   ]
  },
  {
   "cell_type": "code",
   "execution_count": 51,
   "metadata": {},
   "outputs": [
    {
     "data": {
      "text/html": [
       "<div>\n",
       "<style scoped>\n",
       "    .dataframe tbody tr th:only-of-type {\n",
       "        vertical-align: middle;\n",
       "    }\n",
       "\n",
       "    .dataframe tbody tr th {\n",
       "        vertical-align: top;\n",
       "    }\n",
       "\n",
       "    .dataframe thead th {\n",
       "        text-align: right;\n",
       "    }\n",
       "</style>\n",
       "<table border=\"1\" class=\"dataframe\">\n",
       "  <thead>\n",
       "    <tr style=\"text-align: right;\">\n",
       "      <th></th>\n",
       "      <th>id</th>\n",
       "      <th>keyword</th>\n",
       "      <th>location</th>\n",
       "      <th>text</th>\n",
       "      <th>target</th>\n",
       "    </tr>\n",
       "  </thead>\n",
       "  <tbody>\n",
       "    <tr>\n",
       "      <th>0</th>\n",
       "      <td>1</td>\n",
       "      <td>No keyword</td>\n",
       "      <td>NaN</td>\n",
       "      <td>Our Deeds are the Reason of this earthquake Ma...</td>\n",
       "      <td>1.0</td>\n",
       "    </tr>\n",
       "    <tr>\n",
       "      <th>1</th>\n",
       "      <td>4</td>\n",
       "      <td>No keyword</td>\n",
       "      <td>NaN</td>\n",
       "      <td>Forest fire near La Ronge Sask Canada</td>\n",
       "      <td>1.0</td>\n",
       "    </tr>\n",
       "    <tr>\n",
       "      <th>2</th>\n",
       "      <td>5</td>\n",
       "      <td>No keyword</td>\n",
       "      <td>NaN</td>\n",
       "      <td>All residents asked to shelter in place are be...</td>\n",
       "      <td>1.0</td>\n",
       "    </tr>\n",
       "    <tr>\n",
       "      <th>3</th>\n",
       "      <td>6</td>\n",
       "      <td>No keyword</td>\n",
       "      <td>NaN</td>\n",
       "      <td>13000 people receive wildfires evacuation orde...</td>\n",
       "      <td>1.0</td>\n",
       "    </tr>\n",
       "    <tr>\n",
       "      <th>4</th>\n",
       "      <td>7</td>\n",
       "      <td>No keyword</td>\n",
       "      <td>NaN</td>\n",
       "      <td>Just got sent this photo from Ruby Alaska as s...</td>\n",
       "      <td>1.0</td>\n",
       "    </tr>\n",
       "  </tbody>\n",
       "</table>\n",
       "</div>"
      ],
      "text/plain": [
       "   id     keyword location                                               text  \\\n",
       "0   1  No keyword      NaN  Our Deeds are the Reason of this earthquake Ma...   \n",
       "1   4  No keyword      NaN              Forest fire near La Ronge Sask Canada   \n",
       "2   5  No keyword      NaN  All residents asked to shelter in place are be...   \n",
       "3   6  No keyword      NaN  13000 people receive wildfires evacuation orde...   \n",
       "4   7  No keyword      NaN  Just got sent this photo from Ruby Alaska as s...   \n",
       "\n",
       "   target  \n",
       "0     1.0  \n",
       "1     1.0  \n",
       "2     1.0  \n",
       "3     1.0  \n",
       "4     1.0  "
      ]
     },
     "execution_count": 51,
     "metadata": {},
     "output_type": "execute_result"
    }
   ],
   "source": [
    "df_new.head()"
   ]
  },
  {
   "cell_type": "markdown",
   "metadata": {},
   "source": [
    "## Convert Text to Bi-grams"
   ]
  },
  {
   "cell_type": "code",
   "execution_count": 52,
   "metadata": {},
   "outputs": [],
   "source": [
    "x = train.drop(['keyword' , 'location' , 'target'] , axis = 1)\n",
    "y = train['target']"
   ]
  },
  {
   "cell_type": "code",
   "execution_count": 53,
   "metadata": {},
   "outputs": [
    {
     "data": {
      "text/html": [
       "<div>\n",
       "<style scoped>\n",
       "    .dataframe tbody tr th:only-of-type {\n",
       "        vertical-align: middle;\n",
       "    }\n",
       "\n",
       "    .dataframe tbody tr th {\n",
       "        vertical-align: top;\n",
       "    }\n",
       "\n",
       "    .dataframe thead th {\n",
       "        text-align: right;\n",
       "    }\n",
       "</style>\n",
       "<table border=\"1\" class=\"dataframe\">\n",
       "  <thead>\n",
       "    <tr style=\"text-align: right;\">\n",
       "      <th></th>\n",
       "      <th>id</th>\n",
       "      <th>text</th>\n",
       "    </tr>\n",
       "  </thead>\n",
       "  <tbody>\n",
       "    <tr>\n",
       "      <th>0</th>\n",
       "      <td>1</td>\n",
       "      <td>Our Deeds are the Reason of this earthquake Ma...</td>\n",
       "    </tr>\n",
       "    <tr>\n",
       "      <th>1</th>\n",
       "      <td>4</td>\n",
       "      <td>Forest fire near La Ronge Sask Canada</td>\n",
       "    </tr>\n",
       "    <tr>\n",
       "      <th>2</th>\n",
       "      <td>5</td>\n",
       "      <td>All residents asked to shelter in place are be...</td>\n",
       "    </tr>\n",
       "    <tr>\n",
       "      <th>3</th>\n",
       "      <td>6</td>\n",
       "      <td>13000 people receive wildfires evacuation orde...</td>\n",
       "    </tr>\n",
       "    <tr>\n",
       "      <th>4</th>\n",
       "      <td>7</td>\n",
       "      <td>Just got sent this photo from Ruby Alaska as s...</td>\n",
       "    </tr>\n",
       "    <tr>\n",
       "      <th>...</th>\n",
       "      <td>...</td>\n",
       "      <td>...</td>\n",
       "    </tr>\n",
       "    <tr>\n",
       "      <th>7608</th>\n",
       "      <td>10869</td>\n",
       "      <td>Two giant cranes holding a bridge collapse int...</td>\n",
       "    </tr>\n",
       "    <tr>\n",
       "      <th>7609</th>\n",
       "      <td>10870</td>\n",
       "      <td>ariaahrary TheTawniest The out of control wild...</td>\n",
       "    </tr>\n",
       "    <tr>\n",
       "      <th>7610</th>\n",
       "      <td>10871</td>\n",
       "      <td>M194 0104 UTC5km S of Volcano Hawaii</td>\n",
       "    </tr>\n",
       "    <tr>\n",
       "      <th>7611</th>\n",
       "      <td>10872</td>\n",
       "      <td>Police investigating after an ebike collided w...</td>\n",
       "    </tr>\n",
       "    <tr>\n",
       "      <th>7612</th>\n",
       "      <td>10873</td>\n",
       "      <td>The Latest More Homes Razed by Northern Califo...</td>\n",
       "    </tr>\n",
       "  </tbody>\n",
       "</table>\n",
       "<p>7613 rows × 2 columns</p>\n",
       "</div>"
      ],
      "text/plain": [
       "         id                                               text\n",
       "0         1  Our Deeds are the Reason of this earthquake Ma...\n",
       "1         4              Forest fire near La Ronge Sask Canada\n",
       "2         5  All residents asked to shelter in place are be...\n",
       "3         6  13000 people receive wildfires evacuation orde...\n",
       "4         7  Just got sent this photo from Ruby Alaska as s...\n",
       "...     ...                                                ...\n",
       "7608  10869  Two giant cranes holding a bridge collapse int...\n",
       "7609  10870  ariaahrary TheTawniest The out of control wild...\n",
       "7610  10871              M194 0104 UTC5km S of Volcano Hawaii \n",
       "7611  10872  Police investigating after an ebike collided w...\n",
       "7612  10873  The Latest More Homes Razed by Northern Califo...\n",
       "\n",
       "[7613 rows x 2 columns]"
      ]
     },
     "execution_count": 53,
     "metadata": {},
     "output_type": "execute_result"
    }
   ],
   "source": [
    "x"
   ]
  },
  {
   "cell_type": "code",
   "execution_count": 54,
   "metadata": {},
   "outputs": [
    {
     "data": {
      "text/html": [
       "<div>\n",
       "<style scoped>\n",
       "    .dataframe tbody tr th:only-of-type {\n",
       "        vertical-align: middle;\n",
       "    }\n",
       "\n",
       "    .dataframe tbody tr th {\n",
       "        vertical-align: top;\n",
       "    }\n",
       "\n",
       "    .dataframe thead th {\n",
       "        text-align: right;\n",
       "    }\n",
       "</style>\n",
       "<table border=\"1\" class=\"dataframe\">\n",
       "  <thead>\n",
       "    <tr style=\"text-align: right;\">\n",
       "      <th></th>\n",
       "      <th>id</th>\n",
       "      <th>keyword</th>\n",
       "      <th>location</th>\n",
       "      <th>text</th>\n",
       "    </tr>\n",
       "  </thead>\n",
       "  <tbody>\n",
       "    <tr>\n",
       "      <th>0</th>\n",
       "      <td>0</td>\n",
       "      <td>NaN</td>\n",
       "      <td>NaN</td>\n",
       "      <td>Just happened a terrible car crash</td>\n",
       "    </tr>\n",
       "    <tr>\n",
       "      <th>1</th>\n",
       "      <td>2</td>\n",
       "      <td>NaN</td>\n",
       "      <td>NaN</td>\n",
       "      <td>Heard about #earthquake is different cities, s...</td>\n",
       "    </tr>\n",
       "    <tr>\n",
       "      <th>2</th>\n",
       "      <td>3</td>\n",
       "      <td>NaN</td>\n",
       "      <td>NaN</td>\n",
       "      <td>there is a forest fire at spot pond, geese are...</td>\n",
       "    </tr>\n",
       "    <tr>\n",
       "      <th>3</th>\n",
       "      <td>9</td>\n",
       "      <td>NaN</td>\n",
       "      <td>NaN</td>\n",
       "      <td>Apocalypse lighting. #Spokane #wildfires</td>\n",
       "    </tr>\n",
       "    <tr>\n",
       "      <th>4</th>\n",
       "      <td>11</td>\n",
       "      <td>NaN</td>\n",
       "      <td>NaN</td>\n",
       "      <td>Typhoon Soudelor kills 28 in China and Taiwan</td>\n",
       "    </tr>\n",
       "    <tr>\n",
       "      <th>...</th>\n",
       "      <td>...</td>\n",
       "      <td>...</td>\n",
       "      <td>...</td>\n",
       "      <td>...</td>\n",
       "    </tr>\n",
       "    <tr>\n",
       "      <th>3258</th>\n",
       "      <td>10861</td>\n",
       "      <td>NaN</td>\n",
       "      <td>NaN</td>\n",
       "      <td>EARTHQUAKE SAFETY LOS ANGELES ÛÒ SAFETY FASTE...</td>\n",
       "    </tr>\n",
       "    <tr>\n",
       "      <th>3259</th>\n",
       "      <td>10865</td>\n",
       "      <td>NaN</td>\n",
       "      <td>NaN</td>\n",
       "      <td>Storm in RI worse than last hurricane. My city...</td>\n",
       "    </tr>\n",
       "    <tr>\n",
       "      <th>3260</th>\n",
       "      <td>10868</td>\n",
       "      <td>NaN</td>\n",
       "      <td>NaN</td>\n",
       "      <td>Green Line derailment in Chicago http://t.co/U...</td>\n",
       "    </tr>\n",
       "    <tr>\n",
       "      <th>3261</th>\n",
       "      <td>10874</td>\n",
       "      <td>NaN</td>\n",
       "      <td>NaN</td>\n",
       "      <td>MEG issues Hazardous Weather Outlook (HWO) htt...</td>\n",
       "    </tr>\n",
       "    <tr>\n",
       "      <th>3262</th>\n",
       "      <td>10875</td>\n",
       "      <td>NaN</td>\n",
       "      <td>NaN</td>\n",
       "      <td>#CityofCalgary has activated its Municipal Eme...</td>\n",
       "    </tr>\n",
       "  </tbody>\n",
       "</table>\n",
       "<p>3263 rows × 4 columns</p>\n",
       "</div>"
      ],
      "text/plain": [
       "         id keyword location  \\\n",
       "0         0     NaN      NaN   \n",
       "1         2     NaN      NaN   \n",
       "2         3     NaN      NaN   \n",
       "3         9     NaN      NaN   \n",
       "4        11     NaN      NaN   \n",
       "...     ...     ...      ...   \n",
       "3258  10861     NaN      NaN   \n",
       "3259  10865     NaN      NaN   \n",
       "3260  10868     NaN      NaN   \n",
       "3261  10874     NaN      NaN   \n",
       "3262  10875     NaN      NaN   \n",
       "\n",
       "                                                   text  \n",
       "0                    Just happened a terrible car crash  \n",
       "1     Heard about #earthquake is different cities, s...  \n",
       "2     there is a forest fire at spot pond, geese are...  \n",
       "3              Apocalypse lighting. #Spokane #wildfires  \n",
       "4         Typhoon Soudelor kills 28 in China and Taiwan  \n",
       "...                                                 ...  \n",
       "3258  EARTHQUAKE SAFETY LOS ANGELES ÛÒ SAFETY FASTE...  \n",
       "3259  Storm in RI worse than last hurricane. My city...  \n",
       "3260  Green Line derailment in Chicago http://t.co/U...  \n",
       "3261  MEG issues Hazardous Weather Outlook (HWO) htt...  \n",
       "3262  #CityofCalgary has activated its Municipal Eme...  \n",
       "\n",
       "[3263 rows x 4 columns]"
      ]
     },
     "execution_count": 54,
     "metadata": {},
     "output_type": "execute_result"
    }
   ],
   "source": [
    "test"
   ]
  },
  {
   "cell_type": "code",
   "execution_count": 55,
   "metadata": {},
   "outputs": [
    {
     "data": {
      "text/html": [
       "<div>\n",
       "<style scoped>\n",
       "    .dataframe tbody tr th:only-of-type {\n",
       "        vertical-align: middle;\n",
       "    }\n",
       "\n",
       "    .dataframe tbody tr th {\n",
       "        vertical-align: top;\n",
       "    }\n",
       "\n",
       "    .dataframe thead th {\n",
       "        text-align: right;\n",
       "    }\n",
       "</style>\n",
       "<table border=\"1\" class=\"dataframe\">\n",
       "  <thead>\n",
       "    <tr style=\"text-align: right;\">\n",
       "      <th></th>\n",
       "      <th>id</th>\n",
       "      <th>text</th>\n",
       "    </tr>\n",
       "  </thead>\n",
       "  <tbody>\n",
       "    <tr>\n",
       "      <th>0</th>\n",
       "      <td>0</td>\n",
       "      <td>Just happened a terrible car crash</td>\n",
       "    </tr>\n",
       "    <tr>\n",
       "      <th>1</th>\n",
       "      <td>2</td>\n",
       "      <td>Heard about #earthquake is different cities, s...</td>\n",
       "    </tr>\n",
       "    <tr>\n",
       "      <th>2</th>\n",
       "      <td>3</td>\n",
       "      <td>there is a forest fire at spot pond, geese are...</td>\n",
       "    </tr>\n",
       "    <tr>\n",
       "      <th>3</th>\n",
       "      <td>9</td>\n",
       "      <td>Apocalypse lighting. #Spokane #wildfires</td>\n",
       "    </tr>\n",
       "    <tr>\n",
       "      <th>4</th>\n",
       "      <td>11</td>\n",
       "      <td>Typhoon Soudelor kills 28 in China and Taiwan</td>\n",
       "    </tr>\n",
       "    <tr>\n",
       "      <th>...</th>\n",
       "      <td>...</td>\n",
       "      <td>...</td>\n",
       "    </tr>\n",
       "    <tr>\n",
       "      <th>3258</th>\n",
       "      <td>10861</td>\n",
       "      <td>EARTHQUAKE SAFETY LOS ANGELES ÛÒ SAFETY FASTE...</td>\n",
       "    </tr>\n",
       "    <tr>\n",
       "      <th>3259</th>\n",
       "      <td>10865</td>\n",
       "      <td>Storm in RI worse than last hurricane. My city...</td>\n",
       "    </tr>\n",
       "    <tr>\n",
       "      <th>3260</th>\n",
       "      <td>10868</td>\n",
       "      <td>Green Line derailment in Chicago http://t.co/U...</td>\n",
       "    </tr>\n",
       "    <tr>\n",
       "      <th>3261</th>\n",
       "      <td>10874</td>\n",
       "      <td>MEG issues Hazardous Weather Outlook (HWO) htt...</td>\n",
       "    </tr>\n",
       "    <tr>\n",
       "      <th>3262</th>\n",
       "      <td>10875</td>\n",
       "      <td>#CityofCalgary has activated its Municipal Eme...</td>\n",
       "    </tr>\n",
       "  </tbody>\n",
       "</table>\n",
       "<p>3263 rows × 2 columns</p>\n",
       "</div>"
      ],
      "text/plain": [
       "         id                                               text\n",
       "0         0                 Just happened a terrible car crash\n",
       "1         2  Heard about #earthquake is different cities, s...\n",
       "2         3  there is a forest fire at spot pond, geese are...\n",
       "3         9           Apocalypse lighting. #Spokane #wildfires\n",
       "4        11      Typhoon Soudelor kills 28 in China and Taiwan\n",
       "...     ...                                                ...\n",
       "3258  10861  EARTHQUAKE SAFETY LOS ANGELES ÛÒ SAFETY FASTE...\n",
       "3259  10865  Storm in RI worse than last hurricane. My city...\n",
       "3260  10868  Green Line derailment in Chicago http://t.co/U...\n",
       "3261  10874  MEG issues Hazardous Weather Outlook (HWO) htt...\n",
       "3262  10875  #CityofCalgary has activated its Municipal Eme...\n",
       "\n",
       "[3263 rows x 2 columns]"
      ]
     },
     "execution_count": 55,
     "metadata": {},
     "output_type": "execute_result"
    }
   ],
   "source": [
    "final_test = test.drop(['keyword' , 'location'] , axis = 1)\n",
    "final_test"
   ]
  },
  {
   "cell_type": "code",
   "execution_count": 56,
   "metadata": {},
   "outputs": [
    {
     "data": {
      "text/plain": [
       "(3263, 2)"
      ]
     },
     "execution_count": 56,
     "metadata": {},
     "output_type": "execute_result"
    }
   ],
   "source": [
    "final_test.shape"
   ]
  },
  {
   "cell_type": "code",
   "execution_count": 57,
   "metadata": {},
   "outputs": [],
   "source": [
    "x_train , x_test , y_train , y_test = train_test_split(x , y , test_size = 0.20 , random_state = 78)"
   ]
  },
  {
   "cell_type": "code",
   "execution_count": 58,
   "metadata": {},
   "outputs": [
    {
     "name": "stdout",
     "output_type": "stream",
     "text": [
      "(6090, 2)\n",
      "(1523, 2)\n",
      "(6090,)\n"
     ]
    }
   ],
   "source": [
    "print(x_train.shape)\n",
    "print(x_test.shape)\n",
    "print(y_train.shape)"
   ]
  },
  {
   "cell_type": "markdown",
   "metadata": {},
   "source": [
    "### BOW on Text\n"
   ]
  },
  {
   "cell_type": "code",
   "execution_count": 59,
   "metadata": {},
   "outputs": [],
   "source": [
    "count_vect = CountVectorizer(ngram_range = (1,2))\n",
    "X_train_BOW = count_vect.fit_transform(x_train['text'])\n",
    "X_test_BOW = count_vect.transform(x_test['text'])\n",
    "test_BOW = count_vect.transform(test['text'])"
   ]
  },
  {
   "cell_type": "code",
   "execution_count": 60,
   "metadata": {},
   "outputs": [
    {
     "name": "stdout",
     "output_type": "stream",
     "text": [
      "**Bow Vectorizer**\n",
      "==================================================\n",
      "(6090, 65995)\n",
      "(1523, 65995)\n",
      "(3263, 65995)\n"
     ]
    }
   ],
   "source": [
    "print(\"**Bow Vectorizer**\")\n",
    "print(\"=\"*50)\n",
    "\n",
    "\n",
    "print(X_train_BOW.shape)\n",
    "print(X_test_BOW.shape)\n",
    "print(test_BOW.shape)"
   ]
  },
  {
   "cell_type": "code",
   "execution_count": 61,
   "metadata": {},
   "outputs": [
    {
     "data": {
      "text/plain": [
       "<6090x65995 sparse matrix of type '<class 'numpy.int64'>'\n",
       "\twith 153416 stored elements in Compressed Sparse Row format>"
      ]
     },
     "execution_count": 61,
     "metadata": {},
     "output_type": "execute_result"
    }
   ],
   "source": [
    "X_train_BOW"
   ]
  },
  {
   "cell_type": "code",
   "execution_count": 62,
   "metadata": {},
   "outputs": [
    {
     "data": {
      "text/plain": [
       "<3263x65995 sparse matrix of type '<class 'numpy.int64'>'\n",
       "\twith 57834 stored elements in Compressed Sparse Row format>"
      ]
     },
     "execution_count": 62,
     "metadata": {},
     "output_type": "execute_result"
    }
   ],
   "source": [
    "test_BOW"
   ]
  },
  {
   "cell_type": "markdown",
   "metadata": {},
   "source": [
    "## Apply DIfferent ML model on Bi-grams"
   ]
  },
  {
   "cell_type": "markdown",
   "metadata": {},
   "source": [
    "## Logistic Regression on Bi-grams"
   ]
  },
  {
   "cell_type": "code",
   "execution_count": 63,
   "metadata": {},
   "outputs": [],
   "source": [
    "#Standardising the train and test data\n",
    "\n",
    "sc = StandardScaler(copy = True , with_mean = False , with_std = True)\n",
    "X_train = sc.fit_transform(X_train_BOW)\n",
    "X_test = sc.transform(X_test_BOW)\n",
    "Test = sc.transform(test_BOW)"
   ]
  },
  {
   "cell_type": "code",
   "execution_count": 64,
   "metadata": {},
   "outputs": [
    {
     "name": "stderr",
     "output_type": "stream",
     "text": [
      "100%|██████████| 5/5 [00:03<00:00,  1.26it/s]\n"
     ]
    }
   ],
   "source": [
    "tuned_parameters = [10**-4, 10**-2, 10**0, 10**2, 10**4]\n",
    "\n",
    "cv_scores = []\n",
    "\n",
    "for i in tqdm(tuned_parameters):\n",
    "    model = LogisticRegression(penalty = 'l1' , C = i , n_jobs = -1)\n",
    "    scores = cross_val_score(model , X_train , y_train , cv = 10 , scoring = 'accuracy' , n_jobs = -1)\n",
    "    cv_scores.append(scores.mean())"
   ]
  },
  {
   "cell_type": "code",
   "execution_count": 65,
   "metadata": {},
   "outputs": [
    {
     "name": "stdout",
     "output_type": "stream",
     "text": [
      "\n",
      "The optimal value of C is 0.000.\n"
     ]
    }
   ],
   "source": [
    "optimal_C = tuned_parameters[cv_scores.index(max(cv_scores))]\n",
    "print('\\nThe optimal value of C is %.3f.' % optimal_C)"
   ]
  },
  {
   "cell_type": "code",
   "execution_count": 66,
   "metadata": {},
   "outputs": [
    {
     "name": "stdout",
     "output_type": "stream",
     "text": [
      "77.60998030203545\n"
     ]
    }
   ],
   "source": [
    "lr = LogisticRegression(penalty = 'l2' , C = 0.0001 , n_jobs = -1)\n",
    "lr.fit(X_train , y_train)\n",
    "pred = lr.predict(X_test)\n",
    "\n",
    "ac = accuracy_score(y_test , pred)\n",
    "print(ac*100)"
   ]
  },
  {
   "cell_type": "code",
   "execution_count": 67,
   "metadata": {},
   "outputs": [
    {
     "name": "stdout",
     "output_type": "stream",
     "text": [
      "***Test Data Report***\n",
      "Best C =  0.0001\n",
      "AUC =  73.41160762670775\n"
     ]
    },
    {
     "data": {
      "image/png": "[encoded data removed]",
      "text/plain": [
       "<Figure size 432x288 with 2 Axes>"
      ]
     },
     "metadata": {},
     "output_type": "display_data"
    }
   ],
   "source": [
    "from sklearn import metrics\n",
    "import scikitplot as skplt\n",
    "\n",
    "print(\"***Test Data Report***\")\n",
    "print(\"Best C = \",optimal_C)\n",
    "fpr, tpr, threshold = roc_curve(y_test , lr.predict(X_test))\n",
    "auc = metrics.auc(fpr, tpr)\n",
    "print(\"AUC = \",auc*100)\n",
    "skplt.metrics.plot_confusion_matrix(y_test, pred)\n",
    "plt.show()"
   ]
  },
  {
   "cell_type": "code",
   "execution_count": 68,
   "metadata": {},
   "outputs": [],
   "source": [
    "fpr, tpr, threshold = metrics.roc_curve(y_test , lr.predict(X_test))\n",
    "fpr2, tpr2, threshold2 = metrics.roc_curve(y_test , lr.predict(X_test))\n",
    "\n",
    "roc_auc = metrics.auc(fpr, tpr)\n",
    "roc_auc2 = metrics.auc(fpr2, tpr2)"
   ]
  },
  {
   "cell_type": "code",
   "execution_count": 69,
   "metadata": {},
   "outputs": [
    {
     "data": {
      "image/png": "[encoded data removed]",
      "text/plain": [
       "<Figure size 720x720 with 1 Axes>"
      ]
     },
     "metadata": {},
     "output_type": "display_data"
    }
   ],
   "source": [
    "# plot ROC-curve\n",
    "plt.figure(figsize = (10 , 10))\n",
    "plt.title('Receiver Operating Characteristic Curve')\n",
    "plt.gca()\n",
    "plt.plot(fpr, tpr, label = 'AUC = %0.2f' % roc_auc)\n",
    "plt.plot(fpr2, tpr2, label = 'AUC = %0.2f' % roc_auc2)\n",
    "plt.legend(['TEST Data', 'TRAIN Data'],loc = 'lower right')\n",
    "\n",
    "plt.plot([0, 1], [0, 1],'r--')\n",
    "plt.xlim([0, 1])\n",
    "plt.ylim([0, 1])\n",
    "plt.ylabel('True Positive Rate')\n",
    "plt.xlabel('False Positive Rate')\n",
    "plt.show()"
   ]
  },
  {
   "cell_type": "code",
   "execution_count": 70,
   "metadata": {},
   "outputs": [],
   "source": [
    "feature_name = count_vect.get_feature_names()\n",
    "w = lr.coef_\n",
    "weight=w.reshape(-1)\n",
    "sorted_feature = np.argsort(weight)\n",
    "top_20_positive_feature=sorted_feature[:-20:-1]"
   ]
  },
  {
   "cell_type": "code",
   "execution_count": 71,
   "metadata": {},
   "outputs": [
    {
     "name": "stdout",
     "output_type": "stream",
     "text": [
      "Positive feature top 20 :\n",
      "-------\n",
      "in\t-->\t0.016588\n",
      "california\t-->\t0.013191\n",
      "hiroshima\t-->\t0.012945\n",
      "suicide\t-->\t0.011803\n",
      "wildfire\t-->\t0.011576\n",
      "mh370\t-->\t0.010918\n",
      "killed\t-->\t0.010884\n",
      "bombing\t-->\t0.010662\n",
      "fires\t-->\t0.010602\n",
      "fire\t-->\t0.010084\n",
      "northern\t-->\t0.009780\n",
      "homes\t-->\t0.009541\n",
      "atomic\t-->\t0.008919\n",
      "after\t-->\t0.008803\n",
      "bomber\t-->\t0.008749\n",
      "suicide bomber\t-->\t0.008749\n",
      "confirmed\t-->\t0.008683\n",
      "debris\t-->\t0.008647\n",
      "northern california\t-->\t0.008628\n"
     ]
    }
   ],
   "source": [
    "print(\"Positive feature top 20 :\")\n",
    "print(\"-------\")\n",
    "for i in top_20_positive_feature:\n",
    "    print(\"%s\\t-->\\t%f\"%(feature_name[i],weight[i]))"
   ]
  },
  {
   "cell_type": "code",
   "execution_count": 72,
   "metadata": {},
   "outputs": [],
   "source": [
    "w = lr.coef_\n",
    "weight=w.reshape(-1)\n",
    "sorted_feature = np.argsort(weight)\n",
    "feature_name = count_vect.get_feature_names()\n",
    "top_20_negative_feature = sorted_feature[:20]"
   ]
  },
  {
   "cell_type": "code",
   "execution_count": 73,
   "metadata": {},
   "outputs": [
    {
     "name": "stdout",
     "output_type": "stream",
     "text": [
      "Negative feature top 20 :\n",
      "-------\n",
      "you\t -->\t-0.013541  \n",
      "my\t -->\t-0.011855  \n",
      "im\t -->\t-0.009111  \n",
      "just\t -->\t-0.007626  \n",
      "body\t -->\t-0.007546  \n",
      "me\t -->\t-0.007426  \n",
      "love\t -->\t-0.006967  \n",
      "panic\t -->\t-0.006123  \n",
      "your\t -->\t-0.006091  \n",
      "bags\t -->\t-0.006056  \n",
      "nowplaying\t -->\t-0.005835  \n",
      "wrecked\t -->\t-0.005820  \n",
      "ruin\t -->\t-0.005819  \n",
      "full\t -->\t-0.005818  \n",
      "like\t -->\t-0.005686  \n",
      "youtube\t -->\t-0.005663  \n",
      "lol\t -->\t-0.005485  \n",
      "blazing\t -->\t-0.005449  \n",
      "harm\t -->\t-0.005427  \n",
      "do you\t -->\t-0.005401  \n"
     ]
    }
   ],
   "source": [
    "print(\"Negative feature top 20 :\")\n",
    "print(\"-------\")\n",
    "for i in top_20_negative_feature:\n",
    "    print(\"%s\\t -->\\t%f  \"%(feature_name[i],weight[i]))"
   ]
  },
  {
   "cell_type": "markdown",
   "metadata": {},
   "source": [
    "In the above list it is clear that there are so many stop words that affects our model.we have to remove the stopwords."
   ]
  },
  {
   "cell_type": "markdown",
   "metadata": {},
   "source": [
    "## Apply KNN on Bi-grams"
   ]
  },
  {
   "cell_type": "code",
   "execution_count": 74,
   "metadata": {},
   "outputs": [
    {
     "name": "stdout",
     "output_type": "stream",
     "text": [
      "69.92777413000657\n"
     ]
    }
   ],
   "source": [
    "knn = KNeighborsClassifier()\n",
    "knn.fit(X_train , y_train)\n",
    "\n",
    "y_pred_knn = knn.predict(X_test)\n",
    "\n",
    "ac = accuracy_score(y_test , y_pred_knn)\n",
    "print(ac*100)"
   ]
  },
  {
   "cell_type": "code",
   "execution_count": 75,
   "metadata": {},
   "outputs": [],
   "source": [
    "n_folds = 5\n",
    "parameters = {\n",
    "        'n_neighbors': range (2 , 50 , 2)\n",
    "        }\n"
   ]
  },
  {
   "cell_type": "code",
   "execution_count": 76,
   "metadata": {},
   "outputs": [
    {
     "name": "stdout",
     "output_type": "stream",
     "text": [
      "   mean_fit_time  std_fit_time  mean_score_time  std_score_time  \\\n",
      "0       0.008578      0.000490         0.570312        0.020096   \n",
      "1       0.011473      0.004513         0.559287        0.022238   \n",
      "2       0.008647      0.002680         0.506619        0.037784   \n",
      "3       0.013257      0.009956         0.744032        0.223878   \n",
      "4       0.012118      0.006484         0.815018        0.234942   \n",
      "\n",
      "  param_n_neighbors               params  split0_test_score  \\\n",
      "0                 2   {'n_neighbors': 2}           0.678982   \n",
      "1                 4   {'n_neighbors': 4}           0.638752   \n",
      "2                 6   {'n_neighbors': 6}           0.620690   \n",
      "3                 8   {'n_neighbors': 8}           0.609195   \n",
      "4                10  {'n_neighbors': 10}           0.605090   \n",
      "\n",
      "   split1_test_score  split2_test_score  split3_test_score  ...  \\\n",
      "0           0.676519           0.662562           0.484401  ...   \n",
      "1           0.675698           0.644499           0.674877  ...   \n",
      "2           0.641215           0.624795           0.652709  ...   \n",
      "3           0.629721           0.609195           0.642036  ...   \n",
      "4           0.619869           0.605911           0.625616  ...   \n",
      "\n",
      "   mean_test_score  std_test_score  rank_test_score  split0_train_score  \\\n",
      "0         0.626108        0.073145                3            0.971470   \n",
      "1         0.650903        0.021406                1            0.678161   \n",
      "2         0.631034        0.013803                2            0.633621   \n",
      "3         0.619704        0.013772                4            0.617200   \n",
      "4         0.612315        0.008711                5            0.607759   \n",
      "\n",
      "   split1_train_score  split2_train_score  split3_train_score  \\\n",
      "0            0.976190            0.975780            0.978038   \n",
      "1            0.976190            0.831897            0.979885   \n",
      "2            0.673645            0.678161            0.788793   \n",
      "3            0.646757            0.638342            0.665025   \n",
      "4            0.628079            0.628284            0.636289   \n",
      "\n",
      "   split4_train_score  mean_train_score  std_train_score  \n",
      "0            0.684934          0.917282         0.116194  \n",
      "1            0.660509          0.825328         0.138213  \n",
      "2            0.638342          0.682512         0.056097  \n",
      "3            0.621100          0.637685         0.017463  \n",
      "4            0.614327          0.622947         0.010371  \n",
      "\n",
      "[5 rows x 21 columns]\n",
      "{'n_neighbors': 4}\n"
     ]
    }
   ],
   "source": [
    "knn = KNeighborsClassifier()\n",
    "\n",
    "tree = GridSearchCV(estimator = knn , param_grid = parameters , cv = n_folds , n_jobs = -1 , return_train_score = True)\n",
    "tree.fit(X_train , y_train)\n",
    "\n",
    "score1 = tree.cv_results_\n",
    "\n",
    "print(pd.DataFrame(score1).head())\n",
    "print(tree.best_params_)"
   ]
  },
  {
   "cell_type": "code",
   "execution_count": 77,
   "metadata": {},
   "outputs": [
    {
     "data": {
      "text/html": [
       "<div>\n",
       "<style scoped>\n",
       "    .dataframe tbody tr th:only-of-type {\n",
       "        vertical-align: middle;\n",
       "    }\n",
       "\n",
       "    .dataframe tbody tr th {\n",
       "        vertical-align: top;\n",
       "    }\n",
       "\n",
       "    .dataframe thead th {\n",
       "        text-align: right;\n",
       "    }\n",
       "</style>\n",
       "<table border=\"1\" class=\"dataframe\">\n",
       "  <thead>\n",
       "    <tr style=\"text-align: right;\">\n",
       "      <th></th>\n",
       "      <th>mean_fit_time</th>\n",
       "      <th>std_fit_time</th>\n",
       "      <th>mean_score_time</th>\n",
       "      <th>std_score_time</th>\n",
       "      <th>param_n_neighbors</th>\n",
       "      <th>params</th>\n",
       "      <th>split0_test_score</th>\n",
       "      <th>split1_test_score</th>\n",
       "      <th>split2_test_score</th>\n",
       "      <th>split3_test_score</th>\n",
       "      <th>...</th>\n",
       "      <th>mean_test_score</th>\n",
       "      <th>std_test_score</th>\n",
       "      <th>rank_test_score</th>\n",
       "      <th>split0_train_score</th>\n",
       "      <th>split1_train_score</th>\n",
       "      <th>split2_train_score</th>\n",
       "      <th>split3_train_score</th>\n",
       "      <th>split4_train_score</th>\n",
       "      <th>mean_train_score</th>\n",
       "      <th>std_train_score</th>\n",
       "    </tr>\n",
       "  </thead>\n",
       "  <tbody>\n",
       "    <tr>\n",
       "      <th>0</th>\n",
       "      <td>0.008578</td>\n",
       "      <td>0.000490</td>\n",
       "      <td>0.570312</td>\n",
       "      <td>0.020096</td>\n",
       "      <td>2</td>\n",
       "      <td>{'n_neighbors': 2}</td>\n",
       "      <td>0.678982</td>\n",
       "      <td>0.676519</td>\n",
       "      <td>0.662562</td>\n",
       "      <td>0.484401</td>\n",
       "      <td>...</td>\n",
       "      <td>0.626108</td>\n",
       "      <td>0.073145</td>\n",
       "      <td>3</td>\n",
       "      <td>0.971470</td>\n",
       "      <td>0.976190</td>\n",
       "      <td>0.975780</td>\n",
       "      <td>0.978038</td>\n",
       "      <td>0.684934</td>\n",
       "      <td>0.917282</td>\n",
       "      <td>0.116194</td>\n",
       "    </tr>\n",
       "    <tr>\n",
       "      <th>1</th>\n",
       "      <td>0.011473</td>\n",
       "      <td>0.004513</td>\n",
       "      <td>0.559287</td>\n",
       "      <td>0.022238</td>\n",
       "      <td>4</td>\n",
       "      <td>{'n_neighbors': 4}</td>\n",
       "      <td>0.638752</td>\n",
       "      <td>0.675698</td>\n",
       "      <td>0.644499</td>\n",
       "      <td>0.674877</td>\n",
       "      <td>...</td>\n",
       "      <td>0.650903</td>\n",
       "      <td>0.021406</td>\n",
       "      <td>1</td>\n",
       "      <td>0.678161</td>\n",
       "      <td>0.976190</td>\n",
       "      <td>0.831897</td>\n",
       "      <td>0.979885</td>\n",
       "      <td>0.660509</td>\n",
       "      <td>0.825328</td>\n",
       "      <td>0.138213</td>\n",
       "    </tr>\n",
       "    <tr>\n",
       "      <th>2</th>\n",
       "      <td>0.008647</td>\n",
       "      <td>0.002680</td>\n",
       "      <td>0.506619</td>\n",
       "      <td>0.037784</td>\n",
       "      <td>6</td>\n",
       "      <td>{'n_neighbors': 6}</td>\n",
       "      <td>0.620690</td>\n",
       "      <td>0.641215</td>\n",
       "      <td>0.624795</td>\n",
       "      <td>0.652709</td>\n",
       "      <td>...</td>\n",
       "      <td>0.631034</td>\n",
       "      <td>0.013803</td>\n",
       "      <td>2</td>\n",
       "      <td>0.633621</td>\n",
       "      <td>0.673645</td>\n",
       "      <td>0.678161</td>\n",
       "      <td>0.788793</td>\n",
       "      <td>0.638342</td>\n",
       "      <td>0.682512</td>\n",
       "      <td>0.056097</td>\n",
       "    </tr>\n",
       "    <tr>\n",
       "      <th>3</th>\n",
       "      <td>0.013257</td>\n",
       "      <td>0.009956</td>\n",
       "      <td>0.744032</td>\n",
       "      <td>0.223878</td>\n",
       "      <td>8</td>\n",
       "      <td>{'n_neighbors': 8}</td>\n",
       "      <td>0.609195</td>\n",
       "      <td>0.629721</td>\n",
       "      <td>0.609195</td>\n",
       "      <td>0.642036</td>\n",
       "      <td>...</td>\n",
       "      <td>0.619704</td>\n",
       "      <td>0.013772</td>\n",
       "      <td>4</td>\n",
       "      <td>0.617200</td>\n",
       "      <td>0.646757</td>\n",
       "      <td>0.638342</td>\n",
       "      <td>0.665025</td>\n",
       "      <td>0.621100</td>\n",
       "      <td>0.637685</td>\n",
       "      <td>0.017463</td>\n",
       "    </tr>\n",
       "    <tr>\n",
       "      <th>4</th>\n",
       "      <td>0.012118</td>\n",
       "      <td>0.006484</td>\n",
       "      <td>0.815018</td>\n",
       "      <td>0.234942</td>\n",
       "      <td>10</td>\n",
       "      <td>{'n_neighbors': 10}</td>\n",
       "      <td>0.605090</td>\n",
       "      <td>0.619869</td>\n",
       "      <td>0.605911</td>\n",
       "      <td>0.625616</td>\n",
       "      <td>...</td>\n",
       "      <td>0.612315</td>\n",
       "      <td>0.008711</td>\n",
       "      <td>5</td>\n",
       "      <td>0.607759</td>\n",
       "      <td>0.628079</td>\n",
       "      <td>0.628284</td>\n",
       "      <td>0.636289</td>\n",
       "      <td>0.614327</td>\n",
       "      <td>0.622947</td>\n",
       "      <td>0.010371</td>\n",
       "    </tr>\n",
       "  </tbody>\n",
       "</table>\n",
       "<p>5 rows × 21 columns</p>\n",
       "</div>"
      ],
      "text/plain": [
       "   mean_fit_time  std_fit_time  mean_score_time  std_score_time  \\\n",
       "0       0.008578      0.000490         0.570312        0.020096   \n",
       "1       0.011473      0.004513         0.559287        0.022238   \n",
       "2       0.008647      0.002680         0.506619        0.037784   \n",
       "3       0.013257      0.009956         0.744032        0.223878   \n",
       "4       0.012118      0.006484         0.815018        0.234942   \n",
       "\n",
       "  param_n_neighbors               params  split0_test_score  \\\n",
       "0                 2   {'n_neighbors': 2}           0.678982   \n",
       "1                 4   {'n_neighbors': 4}           0.638752   \n",
       "2                 6   {'n_neighbors': 6}           0.620690   \n",
       "3                 8   {'n_neighbors': 8}           0.609195   \n",
       "4                10  {'n_neighbors': 10}           0.605090   \n",
       "\n",
       "   split1_test_score  split2_test_score  split3_test_score  ...  \\\n",
       "0           0.676519           0.662562           0.484401  ...   \n",
       "1           0.675698           0.644499           0.674877  ...   \n",
       "2           0.641215           0.624795           0.652709  ...   \n",
       "3           0.629721           0.609195           0.642036  ...   \n",
       "4           0.619869           0.605911           0.625616  ...   \n",
       "\n",
       "   mean_test_score  std_test_score  rank_test_score  split0_train_score  \\\n",
       "0         0.626108        0.073145                3            0.971470   \n",
       "1         0.650903        0.021406                1            0.678161   \n",
       "2         0.631034        0.013803                2            0.633621   \n",
       "3         0.619704        0.013772                4            0.617200   \n",
       "4         0.612315        0.008711                5            0.607759   \n",
       "\n",
       "   split1_train_score  split2_train_score  split3_train_score  \\\n",
       "0            0.976190            0.975780            0.978038   \n",
       "1            0.976190            0.831897            0.979885   \n",
       "2            0.673645            0.678161            0.788793   \n",
       "3            0.646757            0.638342            0.665025   \n",
       "4            0.628079            0.628284            0.636289   \n",
       "\n",
       "   split4_train_score  mean_train_score  std_train_score  \n",
       "0            0.684934          0.917282         0.116194  \n",
       "1            0.660509          0.825328         0.138213  \n",
       "2            0.638342          0.682512         0.056097  \n",
       "3            0.621100          0.637685         0.017463  \n",
       "4            0.614327          0.622947         0.010371  \n",
       "\n",
       "[5 rows x 21 columns]"
      ]
     },
     "execution_count": 77,
     "metadata": {},
     "output_type": "execute_result"
    }
   ],
   "source": [
    "score1 = pd.DataFrame(score1)\n",
    "score1.head()"
   ]
  },
  {
   "cell_type": "code",
   "execution_count": 78,
   "metadata": {},
   "outputs": [
    {
     "data": {
      "image/png": "[encoded data removed]",
      "text/plain": [
       "<Figure size 720x720 with 1 Axes>"
      ]
     },
     "metadata": {},
     "output_type": "display_data"
    }
   ],
   "source": [
    "plt.figure(figsize=(10 , 10))\n",
    "plt.plot(score1['param_n_neighbors'], score1['mean_test_score'])\n",
    "plt.plot(score1['param_n_neighbors'], score1['mean_train_score'])\n",
    "plt.xlabel('Neighbors')\n",
    "plt.ylabel('Accuracy')\n",
    "plt.legend(['test accuracy', 'train accuracy'] , loc='upper right')\n",
    "plt.xscale('log')"
   ]
  },
  {
   "cell_type": "code",
   "execution_count": 79,
   "metadata": {},
   "outputs": [
    {
     "name": "stderr",
     "output_type": "stream",
     "text": [
      "C:\\Users\\Mahmudur Limon\\Anaconda3\\envs\\gputest\\lib\\site-packages\\sklearn\\neighbors\\_base.py:413: UserWarning:\n",
      "\n",
      "cannot use tree with sparse input: using brute force\n",
      "\n"
     ]
    },
    {
     "name": "stdout",
     "output_type": "stream",
     "text": [
      "After Cross-validation:  69.92777413000657\n"
     ]
    }
   ],
   "source": [
    "knn = KNeighborsClassifier(n_neighbors = 12 , algorithm = 'kd_tree')\n",
    "knn.fit(X_train , y_train)\n",
    "\n",
    "y_pred_knn = knn.predict(X_test)\n",
    "\n",
    "ac_knn = accuracy_score(y_test , y_pred_knn)\n",
    "print('After Cross-validation: ',ac*100)"
   ]
  },
  {
   "cell_type": "markdown",
   "metadata": {},
   "source": [
    "## Naive-Bayes on Bi-grams"
   ]
  },
  {
   "cell_type": "code",
   "execution_count": 80,
   "metadata": {},
   "outputs": [
    {
     "name": "stderr",
     "output_type": "stream",
     "text": [
      "100%|██████████| 13/13 [00:01<00:00,  8.31it/s]\n"
     ]
    }
   ],
   "source": [
    "alpha = [] \n",
    "i = 0.001\n",
    "\n",
    "while(i <= 1000):\n",
    "    alpha.append(np.round(i,3))\n",
    "    i *= 3\n",
    "\n",
    "cv_scores = []\n",
    "\n",
    "for k in tqdm(alpha):\n",
    "    model = MultinomialNB(alpha = k)\n",
    "    scores = cross_val_score(model , X_train , y_train , cv = 10 , scoring = 'f1_macro' , n_jobs = -1)\n",
    "    cv_scores.append(scores.mean()) "
   ]
  },
  {
   "cell_type": "code",
   "execution_count": 81,
   "metadata": {},
   "outputs": [
    {
     "name": "stdout",
     "output_type": "stream",
     "text": [
      "\n",
      "The optimal value of alpha is 0.003.\n"
     ]
    }
   ],
   "source": [
    "optimal_alpha = alpha[cv_scores.index(max(cv_scores))]\n",
    "print('\\nThe optimal value of alpha is %.3f.' % optimal_alpha)"
   ]
  },
  {
   "cell_type": "code",
   "execution_count": 82,
   "metadata": {},
   "outputs": [
    {
     "data": {
      "image/png": "[encoded data removed]",
      "text/plain": [
       "<Figure size 432x288 with 1 Axes>"
      ]
     },
     "metadata": {},
     "output_type": "display_data"
    },
    {
     "name": "stdout",
     "output_type": "stream",
     "text": [
      "\n",
      "*******Train Data Report******\n",
      "\n",
      "Alpha values :\n",
      " [0.001, 0.003, 0.009, 0.027, 0.081, 0.243, 0.729, 2.187, 6.561, 19.683, 59.049, 177.147, 531.441]\n",
      "\n",
      "F1 Score for each value of alpha :\n",
      "  [70.486 70.523 70.464 70.166 69.774 69.091 68.203 65.932 63.184 60.624\n",
      " 61.389 64.745 69.141]\n"
     ]
    }
   ],
   "source": [
    "# plot accuracy vs alpha \n",
    "plt.plot(alpha, cv_scores)\n",
    "plt.xlabel('Value of alpha',size=10)\n",
    "plt.ylabel('Accuracy',size=10)\n",
    "plt.title('Accuracy VS Alpha Plot',size=16)\n",
    "plt.grid()\n",
    "plt.show()\n",
    "print(\"\\n*******Train Data Report******\");\n",
    "print(\"\\nAlpha values :\\n\",alpha)\n",
    "print(\"\\nF1 Score for each value of alpha :\\n \", np.round(cv_scores,5)*100)"
   ]
  },
  {
   "cell_type": "code",
   "execution_count": 83,
   "metadata": {},
   "outputs": [],
   "source": [
    "model_bow_multinomial = MultinomialNB(alpha = optimal_alpha)\n",
    "\n",
    "model_bow_multinomial.fit(X_train , y_train)\n",
    "\n",
    "pred = model_bow_multinomial.predict(X_test)"
   ]
  },
  {
   "cell_type": "code",
   "execution_count": 84,
   "metadata": {},
   "outputs": [
    {
     "name": "stdout",
     "output_type": "stream",
     "text": [
      "***Test Data Report***\n",
      "Accuracy =  76.16546290216678\n",
      "f1_score =  75.36820775485162\n",
      "precision_score =  75.36204899777283\n",
      "recall_score =  75.37443669604404\n"
     ]
    },
    {
     "data": {
      "image/png": "[encoded data removed]",
      "text/plain": [
       "<Figure size 432x288 with 2 Axes>"
      ]
     },
     "metadata": {},
     "output_type": "display_data"
    }
   ],
   "source": [
    "print(\"***Test Data Report***\")\n",
    "print('Accuracy = ', accuracy_score(y_test, pred)*100)\n",
    "print(\"f1_score = \",f1_score(y_test, pred, average='macro')*100)\n",
    "\n",
    "print(\"precision_score = \" , precision_score(y_test , pred, average='macro')*100)\n",
    "print(\"recall_score = \" , recall_score(y_test, pred, average='macro')*100)\n",
    "skplt.metrics.plot_confusion_matrix(y_test, pred)\n",
    "\n",
    "plt.show()"
   ]
  },
  {
   "cell_type": "code",
   "execution_count": 85,
   "metadata": {},
   "outputs": [
    {
     "name": "stdout",
     "output_type": "stream",
     "text": [
      "              precision    recall  f1-score   support\n",
      "\n",
      "           0       0.80      0.80      0.80       899\n",
      "           1       0.71      0.71      0.71       624\n",
      "\n",
      "    accuracy                           0.76      1523\n",
      "   macro avg       0.75      0.75      0.75      1523\n",
      "weighted avg       0.76      0.76      0.76      1523\n",
      "\n"
     ]
    }
   ],
   "source": [
    "print(classification_report(y_test , pred))"
   ]
  },
  {
   "cell_type": "markdown",
   "metadata": {},
   "source": [
    "## SVM on Bi-grams"
   ]
  },
  {
   "cell_type": "code",
   "execution_count": 86,
   "metadata": {},
   "outputs": [
    {
     "name": "stdout",
     "output_type": "stream",
     "text": [
      "73.60472751149048\n"
     ]
    }
   ],
   "source": [
    "sv = SVC()\n",
    "sv.fit(X_train , y_train)\n",
    "\n",
    "y_pred_svm = sv.predict(X_test)\n",
    "\n",
    "ac_svr = accuracy_score(y_test , y_pred_svm)\n",
    "print(ac_svr*100)"
   ]
  },
  {
   "cell_type": "code",
   "execution_count": 87,
   "metadata": {},
   "outputs": [
    {
     "name": "stdout",
     "output_type": "stream",
     "text": [
      "Fitting 5 folds for each of 6 candidates, totalling 30 fits\n"
     ]
    },
    {
     "name": "stderr",
     "output_type": "stream",
     "text": [
      "[Parallel(n_jobs=-1)]: Using backend LokyBackend with 4 concurrent workers.\n",
      "[Parallel(n_jobs=-1)]: Done  30 out of  30 | elapsed:  2.6min finished\n"
     ]
    },
    {
     "data": {
      "text/html": [
       "<div>\n",
       "<style scoped>\n",
       "    .dataframe tbody tr th:only-of-type {\n",
       "        vertical-align: middle;\n",
       "    }\n",
       "\n",
       "    .dataframe tbody tr th {\n",
       "        vertical-align: top;\n",
       "    }\n",
       "\n",
       "    .dataframe thead th {\n",
       "        text-align: right;\n",
       "    }\n",
       "</style>\n",
       "<table border=\"1\" class=\"dataframe\">\n",
       "  <thead>\n",
       "    <tr style=\"text-align: right;\">\n",
       "      <th></th>\n",
       "      <th>mean_fit_time</th>\n",
       "      <th>std_fit_time</th>\n",
       "      <th>mean_score_time</th>\n",
       "      <th>std_score_time</th>\n",
       "      <th>param_C</th>\n",
       "      <th>params</th>\n",
       "      <th>split0_test_score</th>\n",
       "      <th>split1_test_score</th>\n",
       "      <th>split2_test_score</th>\n",
       "      <th>split3_test_score</th>\n",
       "      <th>...</th>\n",
       "      <th>mean_test_score</th>\n",
       "      <th>std_test_score</th>\n",
       "      <th>rank_test_score</th>\n",
       "      <th>split0_train_score</th>\n",
       "      <th>split1_train_score</th>\n",
       "      <th>split2_train_score</th>\n",
       "      <th>split3_train_score</th>\n",
       "      <th>split4_train_score</th>\n",
       "      <th>mean_train_score</th>\n",
       "      <th>std_train_score</th>\n",
       "    </tr>\n",
       "  </thead>\n",
       "  <tbody>\n",
       "    <tr>\n",
       "      <th>0</th>\n",
       "      <td>9.988698</td>\n",
       "      <td>0.581756</td>\n",
       "      <td>2.136782</td>\n",
       "      <td>0.057476</td>\n",
       "      <td>0.01</td>\n",
       "      <td>{'C': 0.01}</td>\n",
       "      <td>0.581281</td>\n",
       "      <td>0.536946</td>\n",
       "      <td>0.574713</td>\n",
       "      <td>0.591133</td>\n",
       "      <td>...</td>\n",
       "      <td>0.565353</td>\n",
       "      <td>0.021570</td>\n",
       "      <td>5</td>\n",
       "      <td>0.561371</td>\n",
       "      <td>0.572455</td>\n",
       "      <td>0.563013</td>\n",
       "      <td>0.558908</td>\n",
       "      <td>0.571018</td>\n",
       "      <td>0.565353</td>\n",
       "      <td>0.005393</td>\n",
       "    </tr>\n",
       "    <tr>\n",
       "      <th>1</th>\n",
       "      <td>9.464100</td>\n",
       "      <td>0.095201</td>\n",
       "      <td>2.222228</td>\n",
       "      <td>0.099492</td>\n",
       "      <td>0.1</td>\n",
       "      <td>{'C': 0.1}</td>\n",
       "      <td>0.581281</td>\n",
       "      <td>0.536946</td>\n",
       "      <td>0.574713</td>\n",
       "      <td>0.591133</td>\n",
       "      <td>...</td>\n",
       "      <td>0.565353</td>\n",
       "      <td>0.021570</td>\n",
       "      <td>5</td>\n",
       "      <td>0.561371</td>\n",
       "      <td>0.572455</td>\n",
       "      <td>0.563013</td>\n",
       "      <td>0.558908</td>\n",
       "      <td>0.571018</td>\n",
       "      <td>0.565353</td>\n",
       "      <td>0.005393</td>\n",
       "    </tr>\n",
       "    <tr>\n",
       "      <th>2</th>\n",
       "      <td>9.227693</td>\n",
       "      <td>0.156621</td>\n",
       "      <td>2.319916</td>\n",
       "      <td>0.142315</td>\n",
       "      <td>1</td>\n",
       "      <td>{'C': 1}</td>\n",
       "      <td>0.686371</td>\n",
       "      <td>0.646962</td>\n",
       "      <td>0.692118</td>\n",
       "      <td>0.694581</td>\n",
       "      <td>...</td>\n",
       "      <td>0.675205</td>\n",
       "      <td>0.019763</td>\n",
       "      <td>4</td>\n",
       "      <td>0.983990</td>\n",
       "      <td>0.983785</td>\n",
       "      <td>0.983169</td>\n",
       "      <td>0.981732</td>\n",
       "      <td>0.980706</td>\n",
       "      <td>0.982677</td>\n",
       "      <td>0.001263</td>\n",
       "    </tr>\n",
       "    <tr>\n",
       "      <th>3</th>\n",
       "      <td>9.102199</td>\n",
       "      <td>0.177339</td>\n",
       "      <td>2.026402</td>\n",
       "      <td>0.064170</td>\n",
       "      <td>10</td>\n",
       "      <td>{'C': 10}</td>\n",
       "      <td>0.698686</td>\n",
       "      <td>0.668309</td>\n",
       "      <td>0.717570</td>\n",
       "      <td>0.728243</td>\n",
       "      <td>...</td>\n",
       "      <td>0.698030</td>\n",
       "      <td>0.022832</td>\n",
       "      <td>3</td>\n",
       "      <td>0.990764</td>\n",
       "      <td>0.991174</td>\n",
       "      <td>0.990558</td>\n",
       "      <td>0.989122</td>\n",
       "      <td>0.989737</td>\n",
       "      <td>0.990271</td>\n",
       "      <td>0.000741</td>\n",
       "    </tr>\n",
       "    <tr>\n",
       "      <th>4</th>\n",
       "      <td>8.942864</td>\n",
       "      <td>0.086387</td>\n",
       "      <td>2.013414</td>\n",
       "      <td>0.062261</td>\n",
       "      <td>100</td>\n",
       "      <td>{'C': 100}</td>\n",
       "      <td>0.700328</td>\n",
       "      <td>0.667488</td>\n",
       "      <td>0.719212</td>\n",
       "      <td>0.732348</td>\n",
       "      <td>...</td>\n",
       "      <td>0.699179</td>\n",
       "      <td>0.024579</td>\n",
       "      <td>1</td>\n",
       "      <td>0.990969</td>\n",
       "      <td>0.991174</td>\n",
       "      <td>0.990764</td>\n",
       "      <td>0.989122</td>\n",
       "      <td>0.989943</td>\n",
       "      <td>0.990394</td>\n",
       "      <td>0.000761</td>\n",
       "    </tr>\n",
       "    <tr>\n",
       "      <th>5</th>\n",
       "      <td>8.340878</td>\n",
       "      <td>0.788270</td>\n",
       "      <td>1.815210</td>\n",
       "      <td>0.240662</td>\n",
       "      <td>1000</td>\n",
       "      <td>{'C': 1000}</td>\n",
       "      <td>0.698686</td>\n",
       "      <td>0.667488</td>\n",
       "      <td>0.719212</td>\n",
       "      <td>0.726601</td>\n",
       "      <td>...</td>\n",
       "      <td>0.698358</td>\n",
       "      <td>0.022494</td>\n",
       "      <td>2</td>\n",
       "      <td>0.991174</td>\n",
       "      <td>0.991174</td>\n",
       "      <td>0.991174</td>\n",
       "      <td>0.989327</td>\n",
       "      <td>0.990148</td>\n",
       "      <td>0.990599</td>\n",
       "      <td>0.000750</td>\n",
       "    </tr>\n",
       "  </tbody>\n",
       "</table>\n",
       "<p>6 rows × 21 columns</p>\n",
       "</div>"
      ],
      "text/plain": [
       "   mean_fit_time  std_fit_time  mean_score_time  std_score_time param_C  \\\n",
       "0       9.988698      0.581756         2.136782        0.057476    0.01   \n",
       "1       9.464100      0.095201         2.222228        0.099492     0.1   \n",
       "2       9.227693      0.156621         2.319916        0.142315       1   \n",
       "3       9.102199      0.177339         2.026402        0.064170      10   \n",
       "4       8.942864      0.086387         2.013414        0.062261     100   \n",
       "5       8.340878      0.788270         1.815210        0.240662    1000   \n",
       "\n",
       "        params  split0_test_score  split1_test_score  split2_test_score  \\\n",
       "0  {'C': 0.01}           0.581281           0.536946           0.574713   \n",
       "1   {'C': 0.1}           0.581281           0.536946           0.574713   \n",
       "2     {'C': 1}           0.686371           0.646962           0.692118   \n",
       "3    {'C': 10}           0.698686           0.668309           0.717570   \n",
       "4   {'C': 100}           0.700328           0.667488           0.719212   \n",
       "5  {'C': 1000}           0.698686           0.667488           0.719212   \n",
       "\n",
       "   split3_test_score  ...  mean_test_score  std_test_score  rank_test_score  \\\n",
       "0           0.591133  ...         0.565353        0.021570                5   \n",
       "1           0.591133  ...         0.565353        0.021570                5   \n",
       "2           0.694581  ...         0.675205        0.019763                4   \n",
       "3           0.728243  ...         0.698030        0.022832                3   \n",
       "4           0.732348  ...         0.699179        0.024579                1   \n",
       "5           0.726601  ...         0.698358        0.022494                2   \n",
       "\n",
       "   split0_train_score  split1_train_score  split2_train_score  \\\n",
       "0            0.561371            0.572455            0.563013   \n",
       "1            0.561371            0.572455            0.563013   \n",
       "2            0.983990            0.983785            0.983169   \n",
       "3            0.990764            0.991174            0.990558   \n",
       "4            0.990969            0.991174            0.990764   \n",
       "5            0.991174            0.991174            0.991174   \n",
       "\n",
       "   split3_train_score  split4_train_score  mean_train_score  std_train_score  \n",
       "0            0.558908            0.571018          0.565353         0.005393  \n",
       "1            0.558908            0.571018          0.565353         0.005393  \n",
       "2            0.981732            0.980706          0.982677         0.001263  \n",
       "3            0.989122            0.989737          0.990271         0.000741  \n",
       "4            0.989122            0.989943          0.990394         0.000761  \n",
       "5            0.989327            0.990148          0.990599         0.000750  \n",
       "\n",
       "[6 rows x 21 columns]"
      ]
     },
     "execution_count": 87,
     "metadata": {},
     "output_type": "execute_result"
    }
   ],
   "source": [
    "folds = KFold(n_splits = 5, shuffle = True, random_state = 4)\n",
    "params = {\"C\": [0.01 , 0.1, 1, 10, 100, 1000]}\n",
    "\n",
    "model = SVC()\n",
    "\n",
    "model_cv_C = GridSearchCV(estimator = model, param_grid = params, cv = folds , verbose = 1 , return_train_score=True , n_jobs = -1)\n",
    "model_cv_C.fit(X_train, y_train) \n",
    "\n",
    "\n",
    "cv_results = pd.DataFrame(model_cv_C.cv_results_)\n",
    "cv_results"
   ]
  },
  {
   "cell_type": "code",
   "execution_count": 88,
   "metadata": {},
   "outputs": [
    {
     "data": {
      "image/png": "[encoded data removed]",
      "text/plain": [
       "<Figure size 720x576 with 1 Axes>"
      ]
     },
     "metadata": {},
     "output_type": "display_data"
    }
   ],
   "source": [
    "plt.figure(figsize=(10 , 8))\n",
    "plt.plot(cv_results['param_C'], cv_results['mean_test_score'])\n",
    "plt.plot(cv_results['param_C'], cv_results['mean_train_score'])\n",
    "plt.xlabel('C')\n",
    "plt.ylabel('Accuracy')\n",
    "plt.legend(['test accuracy', 'train accuracy'], loc='upper left')\n",
    "plt.xscale('log')"
   ]
  },
  {
   "cell_type": "code",
   "execution_count": 89,
   "metadata": {},
   "outputs": [
    {
     "name": "stdout",
     "output_type": "stream",
     "text": [
      "Fitting 5 folds for each of 5 candidates, totalling 25 fits\n"
     ]
    },
    {
     "name": "stderr",
     "output_type": "stream",
     "text": [
      "[Parallel(n_jobs=-1)]: Using backend LokyBackend with 4 concurrent workers.\n",
      "[Parallel(n_jobs=-1)]: Done  25 out of  25 | elapsed:  2.4min finished\n"
     ]
    },
    {
     "data": {
      "text/html": [
       "<div>\n",
       "<style scoped>\n",
       "    .dataframe tbody tr th:only-of-type {\n",
       "        vertical-align: middle;\n",
       "    }\n",
       "\n",
       "    .dataframe tbody tr th {\n",
       "        vertical-align: top;\n",
       "    }\n",
       "\n",
       "    .dataframe thead th {\n",
       "        text-align: right;\n",
       "    }\n",
       "</style>\n",
       "<table border=\"1\" class=\"dataframe\">\n",
       "  <thead>\n",
       "    <tr style=\"text-align: right;\">\n",
       "      <th></th>\n",
       "      <th>mean_fit_time</th>\n",
       "      <th>std_fit_time</th>\n",
       "      <th>mean_score_time</th>\n",
       "      <th>std_score_time</th>\n",
       "      <th>param_gamma</th>\n",
       "      <th>params</th>\n",
       "      <th>split0_test_score</th>\n",
       "      <th>split1_test_score</th>\n",
       "      <th>split2_test_score</th>\n",
       "      <th>split3_test_score</th>\n",
       "      <th>...</th>\n",
       "      <th>mean_test_score</th>\n",
       "      <th>std_test_score</th>\n",
       "      <th>rank_test_score</th>\n",
       "      <th>split0_train_score</th>\n",
       "      <th>split1_train_score</th>\n",
       "      <th>split2_train_score</th>\n",
       "      <th>split3_train_score</th>\n",
       "      <th>split4_train_score</th>\n",
       "      <th>mean_train_score</th>\n",
       "      <th>std_train_score</th>\n",
       "    </tr>\n",
       "  </thead>\n",
       "  <tbody>\n",
       "    <tr>\n",
       "      <th>0</th>\n",
       "      <td>11.315542</td>\n",
       "      <td>0.159606</td>\n",
       "      <td>2.596127</td>\n",
       "      <td>0.026218</td>\n",
       "      <td>1</td>\n",
       "      <td>{'gamma': 1}</td>\n",
       "      <td>0.628079</td>\n",
       "      <td>0.605911</td>\n",
       "      <td>0.629721</td>\n",
       "      <td>0.642036</td>\n",
       "      <td>...</td>\n",
       "      <td>0.622167</td>\n",
       "      <td>0.014441</td>\n",
       "      <td>3</td>\n",
       "      <td>0.991174</td>\n",
       "      <td>0.991174</td>\n",
       "      <td>0.991174</td>\n",
       "      <td>0.989327</td>\n",
       "      <td>0.990148</td>\n",
       "      <td>0.990599</td>\n",
       "      <td>0.000750</td>\n",
       "    </tr>\n",
       "    <tr>\n",
       "      <th>1</th>\n",
       "      <td>11.048446</td>\n",
       "      <td>0.097292</td>\n",
       "      <td>2.588840</td>\n",
       "      <td>0.018039</td>\n",
       "      <td>0.1</td>\n",
       "      <td>{'gamma': 0.1}</td>\n",
       "      <td>0.628079</td>\n",
       "      <td>0.605911</td>\n",
       "      <td>0.629721</td>\n",
       "      <td>0.642036</td>\n",
       "      <td>...</td>\n",
       "      <td>0.622167</td>\n",
       "      <td>0.014441</td>\n",
       "      <td>3</td>\n",
       "      <td>0.991174</td>\n",
       "      <td>0.991174</td>\n",
       "      <td>0.991174</td>\n",
       "      <td>0.989327</td>\n",
       "      <td>0.990148</td>\n",
       "      <td>0.990599</td>\n",
       "      <td>0.000750</td>\n",
       "    </tr>\n",
       "    <tr>\n",
       "      <th>2</th>\n",
       "      <td>10.960976</td>\n",
       "      <td>0.021739</td>\n",
       "      <td>2.582730</td>\n",
       "      <td>0.022869</td>\n",
       "      <td>0.01</td>\n",
       "      <td>{'gamma': 0.01}</td>\n",
       "      <td>0.628079</td>\n",
       "      <td>0.605911</td>\n",
       "      <td>0.629721</td>\n",
       "      <td>0.642036</td>\n",
       "      <td>...</td>\n",
       "      <td>0.622167</td>\n",
       "      <td>0.014441</td>\n",
       "      <td>3</td>\n",
       "      <td>0.991174</td>\n",
       "      <td>0.991174</td>\n",
       "      <td>0.991174</td>\n",
       "      <td>0.989327</td>\n",
       "      <td>0.990148</td>\n",
       "      <td>0.990599</td>\n",
       "      <td>0.000750</td>\n",
       "    </tr>\n",
       "    <tr>\n",
       "      <th>3</th>\n",
       "      <td>8.966427</td>\n",
       "      <td>0.130520</td>\n",
       "      <td>2.225685</td>\n",
       "      <td>0.148807</td>\n",
       "      <td>0.001</td>\n",
       "      <td>{'gamma': 0.001}</td>\n",
       "      <td>0.629721</td>\n",
       "      <td>0.605911</td>\n",
       "      <td>0.633005</td>\n",
       "      <td>0.642036</td>\n",
       "      <td>...</td>\n",
       "      <td>0.623153</td>\n",
       "      <td>0.014969</td>\n",
       "      <td>2</td>\n",
       "      <td>0.990969</td>\n",
       "      <td>0.991174</td>\n",
       "      <td>0.990764</td>\n",
       "      <td>0.989122</td>\n",
       "      <td>0.989943</td>\n",
       "      <td>0.990394</td>\n",
       "      <td>0.000761</td>\n",
       "    </tr>\n",
       "    <tr>\n",
       "      <th>4</th>\n",
       "      <td>8.676113</td>\n",
       "      <td>0.539717</td>\n",
       "      <td>1.899062</td>\n",
       "      <td>0.319597</td>\n",
       "      <td>0.0001</td>\n",
       "      <td>{'gamma': 0.0001}</td>\n",
       "      <td>0.645320</td>\n",
       "      <td>0.618227</td>\n",
       "      <td>0.656814</td>\n",
       "      <td>0.660920</td>\n",
       "      <td>...</td>\n",
       "      <td>0.639901</td>\n",
       "      <td>0.018422</td>\n",
       "      <td>1</td>\n",
       "      <td>0.990558</td>\n",
       "      <td>0.991174</td>\n",
       "      <td>0.990353</td>\n",
       "      <td>0.988506</td>\n",
       "      <td>0.989737</td>\n",
       "      <td>0.990066</td>\n",
       "      <td>0.000905</td>\n",
       "    </tr>\n",
       "  </tbody>\n",
       "</table>\n",
       "<p>5 rows × 21 columns</p>\n",
       "</div>"
      ],
      "text/plain": [
       "   mean_fit_time  std_fit_time  mean_score_time  std_score_time param_gamma  \\\n",
       "0      11.315542      0.159606         2.596127        0.026218           1   \n",
       "1      11.048446      0.097292         2.588840        0.018039         0.1   \n",
       "2      10.960976      0.021739         2.582730        0.022869        0.01   \n",
       "3       8.966427      0.130520         2.225685        0.148807       0.001   \n",
       "4       8.676113      0.539717         1.899062        0.319597      0.0001   \n",
       "\n",
       "              params  split0_test_score  split1_test_score  split2_test_score  \\\n",
       "0       {'gamma': 1}           0.628079           0.605911           0.629721   \n",
       "1     {'gamma': 0.1}           0.628079           0.605911           0.629721   \n",
       "2    {'gamma': 0.01}           0.628079           0.605911           0.629721   \n",
       "3   {'gamma': 0.001}           0.629721           0.605911           0.633005   \n",
       "4  {'gamma': 0.0001}           0.645320           0.618227           0.656814   \n",
       "\n",
       "   split3_test_score  ...  mean_test_score  std_test_score  rank_test_score  \\\n",
       "0           0.642036  ...         0.622167        0.014441                3   \n",
       "1           0.642036  ...         0.622167        0.014441                3   \n",
       "2           0.642036  ...         0.622167        0.014441                3   \n",
       "3           0.642036  ...         0.623153        0.014969                2   \n",
       "4           0.660920  ...         0.639901        0.018422                1   \n",
       "\n",
       "   split0_train_score  split1_train_score  split2_train_score  \\\n",
       "0            0.991174            0.991174            0.991174   \n",
       "1            0.991174            0.991174            0.991174   \n",
       "2            0.991174            0.991174            0.991174   \n",
       "3            0.990969            0.991174            0.990764   \n",
       "4            0.990558            0.991174            0.990353   \n",
       "\n",
       "   split3_train_score  split4_train_score  mean_train_score  std_train_score  \n",
       "0            0.989327            0.990148          0.990599         0.000750  \n",
       "1            0.989327            0.990148          0.990599         0.000750  \n",
       "2            0.989327            0.990148          0.990599         0.000750  \n",
       "3            0.989122            0.989943          0.990394         0.000761  \n",
       "4            0.988506            0.989737          0.990066         0.000905  \n",
       "\n",
       "[5 rows x 21 columns]"
      ]
     },
     "execution_count": 89,
     "metadata": {},
     "output_type": "execute_result"
    }
   ],
   "source": [
    "folds = KFold(n_splits = 5, shuffle = True, random_state = 4)\n",
    "gamma = {'gamma': [1, 0.1, 0.01, 0.001, 0.0001]}\n",
    "\n",
    "model = SVC()\n",
    "\n",
    "model_cv_g = GridSearchCV(estimator = model, param_grid = gamma, cv = folds , verbose = 1 , return_train_score=True ,  n_jobs = -1)\n",
    "model_cv_g.fit(X_train, y_train) \n",
    "\n",
    "cv_results_g = pd.DataFrame(model_cv_g.cv_results_)\n",
    "cv_results_g"
   ]
  },
  {
   "cell_type": "code",
   "execution_count": 90,
   "metadata": {},
   "outputs": [
    {
     "data": {
      "image/png": "[encoded data removed]",
      "text/plain": [
       "<Figure size 720x576 with 1 Axes>"
      ]
     },
     "metadata": {},
     "output_type": "display_data"
    }
   ],
   "source": [
    "plt.figure(figsize=(10 , 8))\n",
    "plt.plot(cv_results_g['param_gamma'], cv_results_g['mean_test_score'])\n",
    "plt.plot(cv_results_g['param_gamma'], cv_results_g['mean_train_score'])\n",
    "plt.xlabel('Gamma')\n",
    "plt.ylabel('Accuracy')\n",
    "plt.legend(['test accuracy', 'train accuracy'], loc='upper left')\n",
    "plt.xscale('log')"
   ]
  },
  {
   "cell_type": "code",
   "execution_count": 91,
   "metadata": {},
   "outputs": [
    {
     "name": "stdout",
     "output_type": "stream",
     "text": [
      "{'C': 100}\n",
      "{'gamma': 0.0001}\n"
     ]
    }
   ],
   "source": [
    "print(model_cv_C.best_params_)\n",
    "print(model_cv_g.best_params_)"
   ]
  },
  {
   "cell_type": "code",
   "execution_count": 92,
   "metadata": {},
   "outputs": [
    {
     "name": "stdout",
     "output_type": "stream",
     "text": [
      "68.68023637557452\n"
     ]
    }
   ],
   "source": [
    "sv = SVC(C = 10 , gamma = 0.0001)\n",
    "sv.fit(X_train , y_train)\n",
    "\n",
    "y_pred_svm = sv.predict(X_test)\n",
    "\n",
    "ac_svr = accuracy_score(y_test , y_pred_svm)\n",
    "print(ac_svr*100)"
   ]
  },
  {
   "cell_type": "code",
   "execution_count": 93,
   "metadata": {},
   "outputs": [
    {
     "name": "stderr",
     "output_type": "stream",
     "text": [
      "100%|██████████| 9/9 [00:03<00:00,  2.33it/s]\n"
     ]
    }
   ],
   "source": [
    "from sklearn import linear_model\n",
    "from sklearn.calibration import CalibratedClassifierCV\n",
    "from sklearn.metrics import roc_auc_score\n",
    "\n",
    "alpha = [10**-4, 10**-3, 10**-2, 10**-1, 10**0, 10**1, 10**2, 10**3, 10**4]\n",
    "auc_score=[]\n",
    "\n",
    "\n",
    "for i in tqdm(alpha):\n",
    "    model = linear_model.SGDClassifier(alpha=i, loss='hinge', class_weight='balanced')\n",
    "    model.fit(X_train, y_train)\n",
    "    \n",
    "    Cal_CV_model = CalibratedClassifierCV(model, method=\"sigmoid\",cv=10)\n",
    "    Cal_CV_model.fit(X_train, y_train)\n",
    "    predict_y = Cal_CV_model.predict_proba(X_train)\n",
    "    preds = predict_y[:,1]\n",
    "    roc_auc = roc_auc_score(y_train, preds)\n",
    "    auc_score.append(roc_auc)"
   ]
  },
  {
   "cell_type": "code",
   "execution_count": 94,
   "metadata": {},
   "outputs": [
    {
     "name": "stdout",
     "output_type": "stream",
     "text": [
      "\n",
      "The optimal value of alpha is 0.100.\n"
     ]
    }
   ],
   "source": [
    "# determining best value of alpha\n",
    "optimal_alpha = alpha[auc_score.index(max(auc_score))]\n",
    "print('\\nThe optimal value of alpha is %.3f.' % optimal_alpha)"
   ]
  },
  {
   "cell_type": "code",
   "execution_count": 95,
   "metadata": {},
   "outputs": [
    {
     "data": {
      "image/png": "[encoded data removed]",
      "text/plain": [
       "<Figure size 432x288 with 1 Axes>"
      ]
     },
     "metadata": {},
     "output_type": "display_data"
    }
   ],
   "source": [
    "# plot accuracy vs alpha \n",
    "plt.plot(alpha, auc_score,label=\"Train AUC\")\n",
    "plt.xlabel('Hypreparameter',size=9)\n",
    "plt.ylabel('Area under ROC Curve',size=9)\n",
    "plt.title('Area under ROC Curve VS Hyperparameter curve',size=16)\n",
    "plt.legend(loc='best')\n",
    "plt.grid()\n",
    "plt.show()"
   ]
  },
  {
   "cell_type": "code",
   "execution_count": 96,
   "metadata": {},
   "outputs": [
    {
     "name": "stdout",
     "output_type": "stream",
     "text": [
      "***Test Data Report***\n",
      "Best alpha =  0.1\n",
      "AUC =  77.06648769287813\n"
     ]
    },
    {
     "data": {
      "image/png": "[encoded data removed]",
      "text/plain": [
       "<Figure size 432x288 with 2 Axes>"
      ]
     },
     "metadata": {},
     "output_type": "display_data"
    }
   ],
   "source": [
    "model = linear_model.SGDClassifier(alpha=optimal_alpha, loss='hinge', class_weight='balanced')\n",
    "model.fit(X_train, y_train)\n",
    "\n",
    "lr = CalibratedClassifierCV(model, method=\"sigmoid\",cv=10)\n",
    "lr.fit(X_train, y_train)\n",
    "pred = lr.predict(X_test)\n",
    "\n",
    "\n",
    "print(\"***Test Data Report***\")\n",
    "print(\"Best alpha = \",optimal_alpha)\n",
    "fpr, tpr, threshold = metrics.roc_curve(y_test, lr.predict(X_test))\n",
    "auc = metrics.auc(fpr, tpr)\n",
    "print(\"AUC = \",auc*100)\n",
    "skplt.metrics.plot_confusion_matrix(y_test, pred)\n",
    "plt.show()"
   ]
  },
  {
   "cell_type": "markdown",
   "metadata": {},
   "source": [
    "## Decision Tree on Bi-grams"
   ]
  },
  {
   "cell_type": "code",
   "execution_count": 97,
   "metadata": {},
   "outputs": [
    {
     "name": "stdout",
     "output_type": "stream",
     "text": [
      "73.86736703873933\n"
     ]
    }
   ],
   "source": [
    "dt = DecisionTreeClassifier()\n",
    "dt.fit(X_train , y_train)\n",
    "\n",
    "\n",
    "y_pred_dt = dt.predict(X_test)\n",
    "\n",
    "ac = accuracy_score(y_test , y_pred_dt)\n",
    "print(ac*100)"
   ]
  },
  {
   "cell_type": "code",
   "execution_count": 98,
   "metadata": {},
   "outputs": [
    {
     "data": {
      "text/html": [
       "<div>\n",
       "<style scoped>\n",
       "    .dataframe tbody tr th:only-of-type {\n",
       "        vertical-align: middle;\n",
       "    }\n",
       "\n",
       "    .dataframe tbody tr th {\n",
       "        vertical-align: top;\n",
       "    }\n",
       "\n",
       "    .dataframe thead th {\n",
       "        text-align: right;\n",
       "    }\n",
       "</style>\n",
       "<table border=\"1\" class=\"dataframe\">\n",
       "  <thead>\n",
       "    <tr style=\"text-align: right;\">\n",
       "      <th></th>\n",
       "      <th>mean_fit_time</th>\n",
       "      <th>std_fit_time</th>\n",
       "      <th>mean_score_time</th>\n",
       "      <th>std_score_time</th>\n",
       "      <th>param_min_samples_split</th>\n",
       "      <th>params</th>\n",
       "      <th>split0_test_score</th>\n",
       "      <th>split1_test_score</th>\n",
       "      <th>split2_test_score</th>\n",
       "      <th>split3_test_score</th>\n",
       "      <th>...</th>\n",
       "      <th>mean_test_score</th>\n",
       "      <th>std_test_score</th>\n",
       "      <th>rank_test_score</th>\n",
       "      <th>split0_train_score</th>\n",
       "      <th>split1_train_score</th>\n",
       "      <th>split2_train_score</th>\n",
       "      <th>split3_train_score</th>\n",
       "      <th>split4_train_score</th>\n",
       "      <th>mean_train_score</th>\n",
       "      <th>std_train_score</th>\n",
       "    </tr>\n",
       "  </thead>\n",
       "  <tbody>\n",
       "    <tr>\n",
       "      <th>0</th>\n",
       "      <td>6.644529</td>\n",
       "      <td>0.455717</td>\n",
       "      <td>0.006248</td>\n",
       "      <td>0.007653</td>\n",
       "      <td>20</td>\n",
       "      <td>{'min_samples_split': 20}</td>\n",
       "      <td>0.735632</td>\n",
       "      <td>0.756979</td>\n",
       "      <td>0.742200</td>\n",
       "      <td>0.739737</td>\n",
       "      <td>...</td>\n",
       "      <td>0.738259</td>\n",
       "      <td>0.012944</td>\n",
       "      <td>2</td>\n",
       "      <td>0.952176</td>\n",
       "      <td>0.948892</td>\n",
       "      <td>0.939860</td>\n",
       "      <td>0.939860</td>\n",
       "      <td>0.948276</td>\n",
       "      <td>0.945813</td>\n",
       "      <td>0.005038</td>\n",
       "    </tr>\n",
       "    <tr>\n",
       "      <th>1</th>\n",
       "      <td>6.135681</td>\n",
       "      <td>0.542151</td>\n",
       "      <td>0.000000</td>\n",
       "      <td>0.000000</td>\n",
       "      <td>40</td>\n",
       "      <td>{'min_samples_split': 40}</td>\n",
       "      <td>0.737274</td>\n",
       "      <td>0.747126</td>\n",
       "      <td>0.744663</td>\n",
       "      <td>0.732348</td>\n",
       "      <td>...</td>\n",
       "      <td>0.735796</td>\n",
       "      <td>0.010519</td>\n",
       "      <td>5</td>\n",
       "      <td>0.926929</td>\n",
       "      <td>0.930624</td>\n",
       "      <td>0.918719</td>\n",
       "      <td>0.922414</td>\n",
       "      <td>0.930624</td>\n",
       "      <td>0.925862</td>\n",
       "      <td>0.004678</td>\n",
       "    </tr>\n",
       "    <tr>\n",
       "      <th>2</th>\n",
       "      <td>5.743402</td>\n",
       "      <td>0.457389</td>\n",
       "      <td>0.000000</td>\n",
       "      <td>0.000000</td>\n",
       "      <td>60</td>\n",
       "      <td>{'min_samples_split': 60}</td>\n",
       "      <td>0.735632</td>\n",
       "      <td>0.741379</td>\n",
       "      <td>0.741379</td>\n",
       "      <td>0.736453</td>\n",
       "      <td>...</td>\n",
       "      <td>0.736946</td>\n",
       "      <td>0.004269</td>\n",
       "      <td>4</td>\n",
       "      <td>0.915025</td>\n",
       "      <td>0.931240</td>\n",
       "      <td>0.912767</td>\n",
       "      <td>0.911125</td>\n",
       "      <td>0.919130</td>\n",
       "      <td>0.917857</td>\n",
       "      <td>0.007211</td>\n",
       "    </tr>\n",
       "    <tr>\n",
       "      <th>3</th>\n",
       "      <td>5.595994</td>\n",
       "      <td>0.461071</td>\n",
       "      <td>0.000000</td>\n",
       "      <td>0.000000</td>\n",
       "      <td>80</td>\n",
       "      <td>{'min_samples_split': 80}</td>\n",
       "      <td>0.738095</td>\n",
       "      <td>0.743842</td>\n",
       "      <td>0.740558</td>\n",
       "      <td>0.738095</td>\n",
       "      <td>...</td>\n",
       "      <td>0.738095</td>\n",
       "      <td>0.004615</td>\n",
       "      <td>3</td>\n",
       "      <td>0.908046</td>\n",
       "      <td>0.913793</td>\n",
       "      <td>0.901478</td>\n",
       "      <td>0.900246</td>\n",
       "      <td>0.903325</td>\n",
       "      <td>0.905378</td>\n",
       "      <td>0.004974</td>\n",
       "    </tr>\n",
       "    <tr>\n",
       "      <th>4</th>\n",
       "      <td>5.576580</td>\n",
       "      <td>0.476361</td>\n",
       "      <td>0.000000</td>\n",
       "      <td>0.000000</td>\n",
       "      <td>100</td>\n",
       "      <td>{'min_samples_split': 100}</td>\n",
       "      <td>0.737274</td>\n",
       "      <td>0.742200</td>\n",
       "      <td>0.738916</td>\n",
       "      <td>0.736453</td>\n",
       "      <td>...</td>\n",
       "      <td>0.738588</td>\n",
       "      <td>0.001984</td>\n",
       "      <td>1</td>\n",
       "      <td>0.905378</td>\n",
       "      <td>0.900862</td>\n",
       "      <td>0.894499</td>\n",
       "      <td>0.890599</td>\n",
       "      <td>0.895320</td>\n",
       "      <td>0.897332</td>\n",
       "      <td>0.005188</td>\n",
       "    </tr>\n",
       "    <tr>\n",
       "      <th>5</th>\n",
       "      <td>5.626242</td>\n",
       "      <td>0.470163</td>\n",
       "      <td>0.000000</td>\n",
       "      <td>0.000000</td>\n",
       "      <td>120</td>\n",
       "      <td>{'min_samples_split': 120}</td>\n",
       "      <td>0.731527</td>\n",
       "      <td>0.743021</td>\n",
       "      <td>0.741379</td>\n",
       "      <td>0.730706</td>\n",
       "      <td>...</td>\n",
       "      <td>0.734975</td>\n",
       "      <td>0.006020</td>\n",
       "      <td>6</td>\n",
       "      <td>0.899631</td>\n",
       "      <td>0.888752</td>\n",
       "      <td>0.895115</td>\n",
       "      <td>0.886494</td>\n",
       "      <td>0.891831</td>\n",
       "      <td>0.892365</td>\n",
       "      <td>0.004651</td>\n",
       "    </tr>\n",
       "    <tr>\n",
       "      <th>6</th>\n",
       "      <td>5.552720</td>\n",
       "      <td>0.498975</td>\n",
       "      <td>0.000000</td>\n",
       "      <td>0.000000</td>\n",
       "      <td>140</td>\n",
       "      <td>{'min_samples_split': 140}</td>\n",
       "      <td>0.730706</td>\n",
       "      <td>0.734811</td>\n",
       "      <td>0.740558</td>\n",
       "      <td>0.730706</td>\n",
       "      <td>...</td>\n",
       "      <td>0.733662</td>\n",
       "      <td>0.003766</td>\n",
       "      <td>7</td>\n",
       "      <td>0.897167</td>\n",
       "      <td>0.878284</td>\n",
       "      <td>0.893268</td>\n",
       "      <td>0.884031</td>\n",
       "      <td>0.888547</td>\n",
       "      <td>0.888259</td>\n",
       "      <td>0.006662</td>\n",
       "    </tr>\n",
       "    <tr>\n",
       "      <th>7</th>\n",
       "      <td>5.752476</td>\n",
       "      <td>0.468371</td>\n",
       "      <td>0.001995</td>\n",
       "      <td>0.001093</td>\n",
       "      <td>160</td>\n",
       "      <td>{'min_samples_split': 160}</td>\n",
       "      <td>0.730706</td>\n",
       "      <td>0.734811</td>\n",
       "      <td>0.740558</td>\n",
       "      <td>0.730706</td>\n",
       "      <td>...</td>\n",
       "      <td>0.733662</td>\n",
       "      <td>0.003766</td>\n",
       "      <td>7</td>\n",
       "      <td>0.897167</td>\n",
       "      <td>0.875616</td>\n",
       "      <td>0.893268</td>\n",
       "      <td>0.884031</td>\n",
       "      <td>0.886084</td>\n",
       "      <td>0.887233</td>\n",
       "      <td>0.007505</td>\n",
       "    </tr>\n",
       "    <tr>\n",
       "      <th>8</th>\n",
       "      <td>5.078639</td>\n",
       "      <td>1.237870</td>\n",
       "      <td>0.001994</td>\n",
       "      <td>0.000632</td>\n",
       "      <td>180</td>\n",
       "      <td>{'min_samples_split': 180}</td>\n",
       "      <td>0.730706</td>\n",
       "      <td>0.733169</td>\n",
       "      <td>0.740558</td>\n",
       "      <td>0.730706</td>\n",
       "      <td>...</td>\n",
       "      <td>0.733333</td>\n",
       "      <td>0.003723</td>\n",
       "      <td>9</td>\n",
       "      <td>0.897167</td>\n",
       "      <td>0.872947</td>\n",
       "      <td>0.893268</td>\n",
       "      <td>0.884031</td>\n",
       "      <td>0.882389</td>\n",
       "      <td>0.885961</td>\n",
       "      <td>0.008542</td>\n",
       "    </tr>\n",
       "  </tbody>\n",
       "</table>\n",
       "<p>9 rows × 21 columns</p>\n",
       "</div>"
      ],
      "text/plain": [
       "   mean_fit_time  std_fit_time  mean_score_time  std_score_time  \\\n",
       "0       6.644529      0.455717         0.006248        0.007653   \n",
       "1       6.135681      0.542151         0.000000        0.000000   \n",
       "2       5.743402      0.457389         0.000000        0.000000   \n",
       "3       5.595994      0.461071         0.000000        0.000000   \n",
       "4       5.576580      0.476361         0.000000        0.000000   \n",
       "5       5.626242      0.470163         0.000000        0.000000   \n",
       "6       5.552720      0.498975         0.000000        0.000000   \n",
       "7       5.752476      0.468371         0.001995        0.001093   \n",
       "8       5.078639      1.237870         0.001994        0.000632   \n",
       "\n",
       "  param_min_samples_split                      params  split0_test_score  \\\n",
       "0                      20   {'min_samples_split': 20}           0.735632   \n",
       "1                      40   {'min_samples_split': 40}           0.737274   \n",
       "2                      60   {'min_samples_split': 60}           0.735632   \n",
       "3                      80   {'min_samples_split': 80}           0.738095   \n",
       "4                     100  {'min_samples_split': 100}           0.737274   \n",
       "5                     120  {'min_samples_split': 120}           0.731527   \n",
       "6                     140  {'min_samples_split': 140}           0.730706   \n",
       "7                     160  {'min_samples_split': 160}           0.730706   \n",
       "8                     180  {'min_samples_split': 180}           0.730706   \n",
       "\n",
       "   split1_test_score  split2_test_score  split3_test_score  ...  \\\n",
       "0           0.756979           0.742200           0.739737  ...   \n",
       "1           0.747126           0.744663           0.732348  ...   \n",
       "2           0.741379           0.741379           0.736453  ...   \n",
       "3           0.743842           0.740558           0.738095  ...   \n",
       "4           0.742200           0.738916           0.736453  ...   \n",
       "5           0.743021           0.741379           0.730706  ...   \n",
       "6           0.734811           0.740558           0.730706  ...   \n",
       "7           0.734811           0.740558           0.730706  ...   \n",
       "8           0.733169           0.740558           0.730706  ...   \n",
       "\n",
       "   mean_test_score  std_test_score  rank_test_score  split0_train_score  \\\n",
       "0         0.738259        0.012944                2            0.952176   \n",
       "1         0.735796        0.010519                5            0.926929   \n",
       "2         0.736946        0.004269                4            0.915025   \n",
       "3         0.738095        0.004615                3            0.908046   \n",
       "4         0.738588        0.001984                1            0.905378   \n",
       "5         0.734975        0.006020                6            0.899631   \n",
       "6         0.733662        0.003766                7            0.897167   \n",
       "7         0.733662        0.003766                7            0.897167   \n",
       "8         0.733333        0.003723                9            0.897167   \n",
       "\n",
       "   split1_train_score  split2_train_score  split3_train_score  \\\n",
       "0            0.948892            0.939860            0.939860   \n",
       "1            0.930624            0.918719            0.922414   \n",
       "2            0.931240            0.912767            0.911125   \n",
       "3            0.913793            0.901478            0.900246   \n",
       "4            0.900862            0.894499            0.890599   \n",
       "5            0.888752            0.895115            0.886494   \n",
       "6            0.878284            0.893268            0.884031   \n",
       "7            0.875616            0.893268            0.884031   \n",
       "8            0.872947            0.893268            0.884031   \n",
       "\n",
       "   split4_train_score  mean_train_score  std_train_score  \n",
       "0            0.948276          0.945813         0.005038  \n",
       "1            0.930624          0.925862         0.004678  \n",
       "2            0.919130          0.917857         0.007211  \n",
       "3            0.903325          0.905378         0.004974  \n",
       "4            0.895320          0.897332         0.005188  \n",
       "5            0.891831          0.892365         0.004651  \n",
       "6            0.888547          0.888259         0.006662  \n",
       "7            0.886084          0.887233         0.007505  \n",
       "8            0.882389          0.885961         0.008542  \n",
       "\n",
       "[9 rows x 21 columns]"
      ]
     },
     "execution_count": 98,
     "metadata": {},
     "output_type": "execute_result"
    }
   ],
   "source": [
    "n_folds = 5\n",
    "parameters = {'min_samples_split': range(20 , 200 , 20)}\n",
    "\n",
    "dtree = DecisionTreeClassifier(random_state = 100)\n",
    "\n",
    "tree_split = GridSearchCV(dtree, parameters , cv=n_folds , n_jobs = -1 , return_train_score = True)\n",
    "tree_split.fit(X_train, y_train)\n",
    "\n",
    "\n",
    "cv_results_ms = pd.DataFrame(tree_split.cv_results_)\n",
    "cv_results_ms"
   ]
  },
  {
   "cell_type": "code",
   "execution_count": 99,
   "metadata": {},
   "outputs": [
    {
     "data": {
      "image/png": "[encoded data removed]",
      "text/plain": [
       "<Figure size 720x576 with 1 Axes>"
      ]
     },
     "metadata": {},
     "output_type": "display_data"
    }
   ],
   "source": [
    "plt.figure(figsize=(10 , 8))\n",
    "plt.plot(cv_results_ms['param_min_samples_split'] , cv_results_ms['mean_test_score'])\n",
    "plt.plot(cv_results_ms['param_min_samples_split'] , cv_results_ms['mean_train_score'])\n",
    "plt.xlabel('Min_samples_split')\n",
    "plt.ylabel('Accuracy')\n",
    "plt.legend(['test accuracy', 'train accuracy'], loc='upper left')\n",
    "plt.xscale('log')"
   ]
  },
  {
   "cell_type": "code",
   "execution_count": 100,
   "metadata": {},
   "outputs": [
    {
     "data": {
      "text/html": [
       "<div>\n",
       "<style scoped>\n",
       "    .dataframe tbody tr th:only-of-type {\n",
       "        vertical-align: middle;\n",
       "    }\n",
       "\n",
       "    .dataframe tbody tr th {\n",
       "        vertical-align: top;\n",
       "    }\n",
       "\n",
       "    .dataframe thead th {\n",
       "        text-align: right;\n",
       "    }\n",
       "</style>\n",
       "<table border=\"1\" class=\"dataframe\">\n",
       "  <thead>\n",
       "    <tr style=\"text-align: right;\">\n",
       "      <th></th>\n",
       "      <th>mean_fit_time</th>\n",
       "      <th>std_fit_time</th>\n",
       "      <th>mean_score_time</th>\n",
       "      <th>std_score_time</th>\n",
       "      <th>param_min_samples_leaf</th>\n",
       "      <th>params</th>\n",
       "      <th>split0_test_score</th>\n",
       "      <th>split1_test_score</th>\n",
       "      <th>split2_test_score</th>\n",
       "      <th>split3_test_score</th>\n",
       "      <th>...</th>\n",
       "      <th>mean_test_score</th>\n",
       "      <th>std_test_score</th>\n",
       "      <th>rank_test_score</th>\n",
       "      <th>split0_train_score</th>\n",
       "      <th>split1_train_score</th>\n",
       "      <th>split2_train_score</th>\n",
       "      <th>split3_train_score</th>\n",
       "      <th>split4_train_score</th>\n",
       "      <th>mean_train_score</th>\n",
       "      <th>std_train_score</th>\n",
       "    </tr>\n",
       "  </thead>\n",
       "  <tbody>\n",
       "    <tr>\n",
       "      <th>0</th>\n",
       "      <td>7.284526</td>\n",
       "      <td>0.588517</td>\n",
       "      <td>0.002195</td>\n",
       "      <td>0.000399</td>\n",
       "      <td>1</td>\n",
       "      <td>{'min_samples_leaf': 1}</td>\n",
       "      <td>0.724959</td>\n",
       "      <td>0.743842</td>\n",
       "      <td>0.730706</td>\n",
       "      <td>0.734811</td>\n",
       "      <td>...</td>\n",
       "      <td>0.730378</td>\n",
       "      <td>0.008882</td>\n",
       "      <td>1</td>\n",
       "      <td>0.990969</td>\n",
       "      <td>0.991995</td>\n",
       "      <td>0.989532</td>\n",
       "      <td>0.990558</td>\n",
       "      <td>0.989943</td>\n",
       "      <td>0.990599</td>\n",
       "      <td>0.000855</td>\n",
       "    </tr>\n",
       "    <tr>\n",
       "      <th>1</th>\n",
       "      <td>6.099945</td>\n",
       "      <td>0.352554</td>\n",
       "      <td>0.001198</td>\n",
       "      <td>0.000978</td>\n",
       "      <td>2</td>\n",
       "      <td>{'min_samples_leaf': 2}</td>\n",
       "      <td>0.724959</td>\n",
       "      <td>0.738095</td>\n",
       "      <td>0.731527</td>\n",
       "      <td>0.715107</td>\n",
       "      <td>...</td>\n",
       "      <td>0.727422</td>\n",
       "      <td>0.007596</td>\n",
       "      <td>3</td>\n",
       "      <td>0.911946</td>\n",
       "      <td>0.904967</td>\n",
       "      <td>0.905172</td>\n",
       "      <td>0.909688</td>\n",
       "      <td>0.907020</td>\n",
       "      <td>0.907759</td>\n",
       "      <td>0.002694</td>\n",
       "    </tr>\n",
       "    <tr>\n",
       "      <th>2</th>\n",
       "      <td>4.930886</td>\n",
       "      <td>0.174957</td>\n",
       "      <td>0.000000</td>\n",
       "      <td>0.000000</td>\n",
       "      <td>3</td>\n",
       "      <td>{'min_samples_leaf': 3}</td>\n",
       "      <td>0.701970</td>\n",
       "      <td>0.711823</td>\n",
       "      <td>0.710181</td>\n",
       "      <td>0.726601</td>\n",
       "      <td>...</td>\n",
       "      <td>0.712644</td>\n",
       "      <td>0.007943</td>\n",
       "      <td>12</td>\n",
       "      <td>0.870690</td>\n",
       "      <td>0.862274</td>\n",
       "      <td>0.871305</td>\n",
       "      <td>0.868842</td>\n",
       "      <td>0.864532</td>\n",
       "      <td>0.867529</td>\n",
       "      <td>0.003538</td>\n",
       "    </tr>\n",
       "    <tr>\n",
       "      <th>3</th>\n",
       "      <td>4.280249</td>\n",
       "      <td>0.127292</td>\n",
       "      <td>0.006249</td>\n",
       "      <td>0.007653</td>\n",
       "      <td>4</td>\n",
       "      <td>{'min_samples_leaf': 4}</td>\n",
       "      <td>0.724959</td>\n",
       "      <td>0.711002</td>\n",
       "      <td>0.727422</td>\n",
       "      <td>0.744663</td>\n",
       "      <td>...</td>\n",
       "      <td>0.727258</td>\n",
       "      <td>0.010710</td>\n",
       "      <td>4</td>\n",
       "      <td>0.843186</td>\n",
       "      <td>0.832512</td>\n",
       "      <td>0.840107</td>\n",
       "      <td>0.834770</td>\n",
       "      <td>0.835181</td>\n",
       "      <td>0.837151</td>\n",
       "      <td>0.003904</td>\n",
       "    </tr>\n",
       "    <tr>\n",
       "      <th>4</th>\n",
       "      <td>3.768898</td>\n",
       "      <td>0.252560</td>\n",
       "      <td>0.006250</td>\n",
       "      <td>0.007654</td>\n",
       "      <td>5</td>\n",
       "      <td>{'min_samples_leaf': 5}</td>\n",
       "      <td>0.723317</td>\n",
       "      <td>0.728243</td>\n",
       "      <td>0.739737</td>\n",
       "      <td>0.721675</td>\n",
       "      <td>...</td>\n",
       "      <td>0.728243</td>\n",
       "      <td>0.006317</td>\n",
       "      <td>2</td>\n",
       "      <td>0.822455</td>\n",
       "      <td>0.818760</td>\n",
       "      <td>0.819787</td>\n",
       "      <td>0.815271</td>\n",
       "      <td>0.812192</td>\n",
       "      <td>0.817693</td>\n",
       "      <td>0.003587</td>\n",
       "    </tr>\n",
       "    <tr>\n",
       "      <th>5</th>\n",
       "      <td>3.390508</td>\n",
       "      <td>0.161870</td>\n",
       "      <td>0.000399</td>\n",
       "      <td>0.000799</td>\n",
       "      <td>6</td>\n",
       "      <td>{'min_samples_leaf': 6}</td>\n",
       "      <td>0.733990</td>\n",
       "      <td>0.735632</td>\n",
       "      <td>0.714286</td>\n",
       "      <td>0.732348</td>\n",
       "      <td>...</td>\n",
       "      <td>0.725123</td>\n",
       "      <td>0.011020</td>\n",
       "      <td>5</td>\n",
       "      <td>0.809729</td>\n",
       "      <td>0.803777</td>\n",
       "      <td>0.810140</td>\n",
       "      <td>0.804187</td>\n",
       "      <td>0.799672</td>\n",
       "      <td>0.805501</td>\n",
       "      <td>0.003952</td>\n",
       "    </tr>\n",
       "    <tr>\n",
       "      <th>6</th>\n",
       "      <td>3.072889</td>\n",
       "      <td>0.122186</td>\n",
       "      <td>0.006249</td>\n",
       "      <td>0.007653</td>\n",
       "      <td>7</td>\n",
       "      <td>{'min_samples_leaf': 7}</td>\n",
       "      <td>0.722496</td>\n",
       "      <td>0.731527</td>\n",
       "      <td>0.715928</td>\n",
       "      <td>0.715107</td>\n",
       "      <td>...</td>\n",
       "      <td>0.718555</td>\n",
       "      <td>0.008001</td>\n",
       "      <td>8</td>\n",
       "      <td>0.796593</td>\n",
       "      <td>0.794951</td>\n",
       "      <td>0.801314</td>\n",
       "      <td>0.788383</td>\n",
       "      <td>0.791667</td>\n",
       "      <td>0.794581</td>\n",
       "      <td>0.004391</td>\n",
       "    </tr>\n",
       "    <tr>\n",
       "      <th>7</th>\n",
       "      <td>2.853213</td>\n",
       "      <td>0.122512</td>\n",
       "      <td>0.000000</td>\n",
       "      <td>0.000000</td>\n",
       "      <td>8</td>\n",
       "      <td>{'min_samples_leaf': 8}</td>\n",
       "      <td>0.730706</td>\n",
       "      <td>0.728243</td>\n",
       "      <td>0.711823</td>\n",
       "      <td>0.711823</td>\n",
       "      <td>...</td>\n",
       "      <td>0.716092</td>\n",
       "      <td>0.012082</td>\n",
       "      <td>9</td>\n",
       "      <td>0.790640</td>\n",
       "      <td>0.779762</td>\n",
       "      <td>0.794745</td>\n",
       "      <td>0.784688</td>\n",
       "      <td>0.779351</td>\n",
       "      <td>0.785837</td>\n",
       "      <td>0.006045</td>\n",
       "    </tr>\n",
       "    <tr>\n",
       "      <th>8</th>\n",
       "      <td>2.670771</td>\n",
       "      <td>0.107378</td>\n",
       "      <td>0.002196</td>\n",
       "      <td>0.000977</td>\n",
       "      <td>9</td>\n",
       "      <td>{'min_samples_leaf': 9}</td>\n",
       "      <td>0.728243</td>\n",
       "      <td>0.723317</td>\n",
       "      <td>0.704433</td>\n",
       "      <td>0.715928</td>\n",
       "      <td>...</td>\n",
       "      <td>0.714943</td>\n",
       "      <td>0.010061</td>\n",
       "      <td>10</td>\n",
       "      <td>0.780788</td>\n",
       "      <td>0.772167</td>\n",
       "      <td>0.788383</td>\n",
       "      <td>0.777915</td>\n",
       "      <td>0.771141</td>\n",
       "      <td>0.778079</td>\n",
       "      <td>0.006271</td>\n",
       "    </tr>\n",
       "    <tr>\n",
       "      <th>9</th>\n",
       "      <td>2.452443</td>\n",
       "      <td>0.096161</td>\n",
       "      <td>0.002195</td>\n",
       "      <td>0.001465</td>\n",
       "      <td>10</td>\n",
       "      <td>{'min_samples_leaf': 10}</td>\n",
       "      <td>0.722496</td>\n",
       "      <td>0.722496</td>\n",
       "      <td>0.706897</td>\n",
       "      <td>0.708539</td>\n",
       "      <td>...</td>\n",
       "      <td>0.713629</td>\n",
       "      <td>0.007258</td>\n",
       "      <td>11</td>\n",
       "      <td>0.774836</td>\n",
       "      <td>0.767241</td>\n",
       "      <td>0.783456</td>\n",
       "      <td>0.768473</td>\n",
       "      <td>0.766010</td>\n",
       "      <td>0.772003</td>\n",
       "      <td>0.006485</td>\n",
       "    </tr>\n",
       "    <tr>\n",
       "      <th>10</th>\n",
       "      <td>2.456632</td>\n",
       "      <td>0.113359</td>\n",
       "      <td>0.007780</td>\n",
       "      <td>0.013564</td>\n",
       "      <td>11</td>\n",
       "      <td>{'min_samples_leaf': 11}</td>\n",
       "      <td>0.721675</td>\n",
       "      <td>0.731527</td>\n",
       "      <td>0.712644</td>\n",
       "      <td>0.715107</td>\n",
       "      <td>...</td>\n",
       "      <td>0.719376</td>\n",
       "      <td>0.006758</td>\n",
       "      <td>7</td>\n",
       "      <td>0.770320</td>\n",
       "      <td>0.768473</td>\n",
       "      <td>0.780378</td>\n",
       "      <td>0.766215</td>\n",
       "      <td>0.760878</td>\n",
       "      <td>0.769253</td>\n",
       "      <td>0.006401</td>\n",
       "    </tr>\n",
       "    <tr>\n",
       "      <th>11</th>\n",
       "      <td>2.466805</td>\n",
       "      <td>0.169293</td>\n",
       "      <td>0.001398</td>\n",
       "      <td>0.000488</td>\n",
       "      <td>12</td>\n",
       "      <td>{'min_samples_leaf': 12}</td>\n",
       "      <td>0.731527</td>\n",
       "      <td>0.733990</td>\n",
       "      <td>0.720854</td>\n",
       "      <td>0.717570</td>\n",
       "      <td>...</td>\n",
       "      <td>0.721511</td>\n",
       "      <td>0.010885</td>\n",
       "      <td>6</td>\n",
       "      <td>0.761700</td>\n",
       "      <td>0.766215</td>\n",
       "      <td>0.772783</td>\n",
       "      <td>0.760468</td>\n",
       "      <td>0.755131</td>\n",
       "      <td>0.763259</td>\n",
       "      <td>0.005928</td>\n",
       "    </tr>\n",
       "    <tr>\n",
       "      <th>12</th>\n",
       "      <td>2.073254</td>\n",
       "      <td>0.112845</td>\n",
       "      <td>0.001797</td>\n",
       "      <td>0.000398</td>\n",
       "      <td>13</td>\n",
       "      <td>{'min_samples_leaf': 13}</td>\n",
       "      <td>0.711002</td>\n",
       "      <td>0.724959</td>\n",
       "      <td>0.703612</td>\n",
       "      <td>0.702791</td>\n",
       "      <td>...</td>\n",
       "      <td>0.710181</td>\n",
       "      <td>0.007994</td>\n",
       "      <td>13</td>\n",
       "      <td>0.757184</td>\n",
       "      <td>0.763547</td>\n",
       "      <td>0.763957</td>\n",
       "      <td>0.755131</td>\n",
       "      <td>0.748768</td>\n",
       "      <td>0.757718</td>\n",
       "      <td>0.005656</td>\n",
       "    </tr>\n",
       "    <tr>\n",
       "      <th>13</th>\n",
       "      <td>1.998857</td>\n",
       "      <td>0.084132</td>\n",
       "      <td>0.001598</td>\n",
       "      <td>0.000488</td>\n",
       "      <td>14</td>\n",
       "      <td>{'min_samples_leaf': 14}</td>\n",
       "      <td>0.710181</td>\n",
       "      <td>0.722496</td>\n",
       "      <td>0.703612</td>\n",
       "      <td>0.706076</td>\n",
       "      <td>...</td>\n",
       "      <td>0.709688</td>\n",
       "      <td>0.006742</td>\n",
       "      <td>14</td>\n",
       "      <td>0.750000</td>\n",
       "      <td>0.750411</td>\n",
       "      <td>0.755952</td>\n",
       "      <td>0.752463</td>\n",
       "      <td>0.744048</td>\n",
       "      <td>0.750575</td>\n",
       "      <td>0.003884</td>\n",
       "    </tr>\n",
       "    <tr>\n",
       "      <th>14</th>\n",
       "      <td>1.917075</td>\n",
       "      <td>0.059691</td>\n",
       "      <td>0.001796</td>\n",
       "      <td>0.000399</td>\n",
       "      <td>15</td>\n",
       "      <td>{'min_samples_leaf': 15}</td>\n",
       "      <td>0.704433</td>\n",
       "      <td>0.719212</td>\n",
       "      <td>0.697044</td>\n",
       "      <td>0.701970</td>\n",
       "      <td>...</td>\n",
       "      <td>0.705090</td>\n",
       "      <td>0.007478</td>\n",
       "      <td>15</td>\n",
       "      <td>0.743432</td>\n",
       "      <td>0.746305</td>\n",
       "      <td>0.748358</td>\n",
       "      <td>0.747947</td>\n",
       "      <td>0.736658</td>\n",
       "      <td>0.744540</td>\n",
       "      <td>0.004305</td>\n",
       "    </tr>\n",
       "    <tr>\n",
       "      <th>15</th>\n",
       "      <td>1.828910</td>\n",
       "      <td>0.063493</td>\n",
       "      <td>0.001996</td>\n",
       "      <td>0.000631</td>\n",
       "      <td>16</td>\n",
       "      <td>{'min_samples_leaf': 16}</td>\n",
       "      <td>0.697044</td>\n",
       "      <td>0.712644</td>\n",
       "      <td>0.702791</td>\n",
       "      <td>0.705255</td>\n",
       "      <td>...</td>\n",
       "      <td>0.703941</td>\n",
       "      <td>0.005104</td>\n",
       "      <td>17</td>\n",
       "      <td>0.735837</td>\n",
       "      <td>0.736248</td>\n",
       "      <td>0.746511</td>\n",
       "      <td>0.742611</td>\n",
       "      <td>0.734811</td>\n",
       "      <td>0.739204</td>\n",
       "      <td>0.004569</td>\n",
       "    </tr>\n",
       "    <tr>\n",
       "      <th>16</th>\n",
       "      <td>1.723791</td>\n",
       "      <td>0.082087</td>\n",
       "      <td>0.001798</td>\n",
       "      <td>0.000399</td>\n",
       "      <td>17</td>\n",
       "      <td>{'min_samples_leaf': 17}</td>\n",
       "      <td>0.692939</td>\n",
       "      <td>0.710181</td>\n",
       "      <td>0.703612</td>\n",
       "      <td>0.690476</td>\n",
       "      <td>...</td>\n",
       "      <td>0.701642</td>\n",
       "      <td>0.008542</td>\n",
       "      <td>18</td>\n",
       "      <td>0.733990</td>\n",
       "      <td>0.736658</td>\n",
       "      <td>0.742816</td>\n",
       "      <td>0.734401</td>\n",
       "      <td>0.733785</td>\n",
       "      <td>0.736330</td>\n",
       "      <td>0.003402</td>\n",
       "    </tr>\n",
       "    <tr>\n",
       "      <th>17</th>\n",
       "      <td>1.704643</td>\n",
       "      <td>0.058018</td>\n",
       "      <td>0.001997</td>\n",
       "      <td>0.000631</td>\n",
       "      <td>18</td>\n",
       "      <td>{'min_samples_leaf': 18}</td>\n",
       "      <td>0.701970</td>\n",
       "      <td>0.715928</td>\n",
       "      <td>0.704433</td>\n",
       "      <td>0.689655</td>\n",
       "      <td>...</td>\n",
       "      <td>0.704433</td>\n",
       "      <td>0.008827</td>\n",
       "      <td>16</td>\n",
       "      <td>0.733169</td>\n",
       "      <td>0.733785</td>\n",
       "      <td>0.736864</td>\n",
       "      <td>0.734811</td>\n",
       "      <td>0.729885</td>\n",
       "      <td>0.733703</td>\n",
       "      <td>0.002284</td>\n",
       "    </tr>\n",
       "    <tr>\n",
       "      <th>18</th>\n",
       "      <td>1.602473</td>\n",
       "      <td>0.112829</td>\n",
       "      <td>0.000798</td>\n",
       "      <td>0.000747</td>\n",
       "      <td>19</td>\n",
       "      <td>{'min_samples_leaf': 19}</td>\n",
       "      <td>0.715107</td>\n",
       "      <td>0.716749</td>\n",
       "      <td>0.682266</td>\n",
       "      <td>0.688013</td>\n",
       "      <td>...</td>\n",
       "      <td>0.699672</td>\n",
       "      <td>0.014005</td>\n",
       "      <td>19</td>\n",
       "      <td>0.732553</td>\n",
       "      <td>0.733374</td>\n",
       "      <td>0.729269</td>\n",
       "      <td>0.731117</td>\n",
       "      <td>0.723933</td>\n",
       "      <td>0.730049</td>\n",
       "      <td>0.003361</td>\n",
       "    </tr>\n",
       "  </tbody>\n",
       "</table>\n",
       "<p>19 rows × 21 columns</p>\n",
       "</div>"
      ],
      "text/plain": [
       "    mean_fit_time  std_fit_time  mean_score_time  std_score_time  \\\n",
       "0        7.284526      0.588517         0.002195        0.000399   \n",
       "1        6.099945      0.352554         0.001198        0.000978   \n",
       "2        4.930886      0.174957         0.000000        0.000000   \n",
       "3        4.280249      0.127292         0.006249        0.007653   \n",
       "4        3.768898      0.252560         0.006250        0.007654   \n",
       "5        3.390508      0.161870         0.000399        0.000799   \n",
       "6        3.072889      0.122186         0.006249        0.007653   \n",
       "7        2.853213      0.122512         0.000000        0.000000   \n",
       "8        2.670771      0.107378         0.002196        0.000977   \n",
       "9        2.452443      0.096161         0.002195        0.001465   \n",
       "10       2.456632      0.113359         0.007780        0.013564   \n",
       "11       2.466805      0.169293         0.001398        0.000488   \n",
       "12       2.073254      0.112845         0.001797        0.000398   \n",
       "13       1.998857      0.084132         0.001598        0.000488   \n",
       "14       1.917075      0.059691         0.001796        0.000399   \n",
       "15       1.828910      0.063493         0.001996        0.000631   \n",
       "16       1.723791      0.082087         0.001798        0.000399   \n",
       "17       1.704643      0.058018         0.001997        0.000631   \n",
       "18       1.602473      0.112829         0.000798        0.000747   \n",
       "\n",
       "   param_min_samples_leaf                    params  split0_test_score  \\\n",
       "0                       1   {'min_samples_leaf': 1}           0.724959   \n",
       "1                       2   {'min_samples_leaf': 2}           0.724959   \n",
       "2                       3   {'min_samples_leaf': 3}           0.701970   \n",
       "3                       4   {'min_samples_leaf': 4}           0.724959   \n",
       "4                       5   {'min_samples_leaf': 5}           0.723317   \n",
       "5                       6   {'min_samples_leaf': 6}           0.733990   \n",
       "6                       7   {'min_samples_leaf': 7}           0.722496   \n",
       "7                       8   {'min_samples_leaf': 8}           0.730706   \n",
       "8                       9   {'min_samples_leaf': 9}           0.728243   \n",
       "9                      10  {'min_samples_leaf': 10}           0.722496   \n",
       "10                     11  {'min_samples_leaf': 11}           0.721675   \n",
       "11                     12  {'min_samples_leaf': 12}           0.731527   \n",
       "12                     13  {'min_samples_leaf': 13}           0.711002   \n",
       "13                     14  {'min_samples_leaf': 14}           0.710181   \n",
       "14                     15  {'min_samples_leaf': 15}           0.704433   \n",
       "15                     16  {'min_samples_leaf': 16}           0.697044   \n",
       "16                     17  {'min_samples_leaf': 17}           0.692939   \n",
       "17                     18  {'min_samples_leaf': 18}           0.701970   \n",
       "18                     19  {'min_samples_leaf': 19}           0.715107   \n",
       "\n",
       "    split1_test_score  split2_test_score  split3_test_score  ...  \\\n",
       "0            0.743842           0.730706           0.734811  ...   \n",
       "1            0.738095           0.731527           0.715107  ...   \n",
       "2            0.711823           0.710181           0.726601  ...   \n",
       "3            0.711002           0.727422           0.744663  ...   \n",
       "4            0.728243           0.739737           0.721675  ...   \n",
       "5            0.735632           0.714286           0.732348  ...   \n",
       "6            0.731527           0.715928           0.715107  ...   \n",
       "7            0.728243           0.711823           0.711823  ...   \n",
       "8            0.723317           0.704433           0.715928  ...   \n",
       "9            0.722496           0.706897           0.708539  ...   \n",
       "10           0.731527           0.712644           0.715107  ...   \n",
       "11           0.733990           0.720854           0.717570  ...   \n",
       "12           0.724959           0.703612           0.702791  ...   \n",
       "13           0.722496           0.703612           0.706076  ...   \n",
       "14           0.719212           0.697044           0.701970  ...   \n",
       "15           0.712644           0.702791           0.705255  ...   \n",
       "16           0.710181           0.703612           0.690476  ...   \n",
       "17           0.715928           0.704433           0.689655  ...   \n",
       "18           0.716749           0.682266           0.688013  ...   \n",
       "\n",
       "    mean_test_score  std_test_score  rank_test_score  split0_train_score  \\\n",
       "0          0.730378        0.008882                1            0.990969   \n",
       "1          0.727422        0.007596                3            0.911946   \n",
       "2          0.712644        0.007943               12            0.870690   \n",
       "3          0.727258        0.010710                4            0.843186   \n",
       "4          0.728243        0.006317                2            0.822455   \n",
       "5          0.725123        0.011020                5            0.809729   \n",
       "6          0.718555        0.008001                8            0.796593   \n",
       "7          0.716092        0.012082                9            0.790640   \n",
       "8          0.714943        0.010061               10            0.780788   \n",
       "9          0.713629        0.007258               11            0.774836   \n",
       "10         0.719376        0.006758                7            0.770320   \n",
       "11         0.721511        0.010885                6            0.761700   \n",
       "12         0.710181        0.007994               13            0.757184   \n",
       "13         0.709688        0.006742               14            0.750000   \n",
       "14         0.705090        0.007478               15            0.743432   \n",
       "15         0.703941        0.005104               17            0.735837   \n",
       "16         0.701642        0.008542               18            0.733990   \n",
       "17         0.704433        0.008827               16            0.733169   \n",
       "18         0.699672        0.014005               19            0.732553   \n",
       "\n",
       "    split1_train_score  split2_train_score  split3_train_score  \\\n",
       "0             0.991995            0.989532            0.990558   \n",
       "1             0.904967            0.905172            0.909688   \n",
       "2             0.862274            0.871305            0.868842   \n",
       "3             0.832512            0.840107            0.834770   \n",
       "4             0.818760            0.819787            0.815271   \n",
       "5             0.803777            0.810140            0.804187   \n",
       "6             0.794951            0.801314            0.788383   \n",
       "7             0.779762            0.794745            0.784688   \n",
       "8             0.772167            0.788383            0.777915   \n",
       "9             0.767241            0.783456            0.768473   \n",
       "10            0.768473            0.780378            0.766215   \n",
       "11            0.766215            0.772783            0.760468   \n",
       "12            0.763547            0.763957            0.755131   \n",
       "13            0.750411            0.755952            0.752463   \n",
       "14            0.746305            0.748358            0.747947   \n",
       "15            0.736248            0.746511            0.742611   \n",
       "16            0.736658            0.742816            0.734401   \n",
       "17            0.733785            0.736864            0.734811   \n",
       "18            0.733374            0.729269            0.731117   \n",
       "\n",
       "    split4_train_score  mean_train_score  std_train_score  \n",
       "0             0.989943          0.990599         0.000855  \n",
       "1             0.907020          0.907759         0.002694  \n",
       "2             0.864532          0.867529         0.003538  \n",
       "3             0.835181          0.837151         0.003904  \n",
       "4             0.812192          0.817693         0.003587  \n",
       "5             0.799672          0.805501         0.003952  \n",
       "6             0.791667          0.794581         0.004391  \n",
       "7             0.779351          0.785837         0.006045  \n",
       "8             0.771141          0.778079         0.006271  \n",
       "9             0.766010          0.772003         0.006485  \n",
       "10            0.760878          0.769253         0.006401  \n",
       "11            0.755131          0.763259         0.005928  \n",
       "12            0.748768          0.757718         0.005656  \n",
       "13            0.744048          0.750575         0.003884  \n",
       "14            0.736658          0.744540         0.004305  \n",
       "15            0.734811          0.739204         0.004569  \n",
       "16            0.733785          0.736330         0.003402  \n",
       "17            0.729885          0.733703         0.002284  \n",
       "18            0.723933          0.730049         0.003361  \n",
       "\n",
       "[19 rows x 21 columns]"
      ]
     },
     "execution_count": 100,
     "metadata": {},
     "output_type": "execute_result"
    }
   ],
   "source": [
    "n_folds = 5\n",
    "parameters = {'min_samples_leaf': range (1 , 20)}\n",
    "\n",
    "dtree = DecisionTreeClassifier()\n",
    "\n",
    "tree_ml = GridSearchCV(dtree , parameters , cv=n_folds , n_jobs = -1 , return_train_score = True)\n",
    "tree_ml.fit(X_train, y_train)\n",
    "\n",
    "\n",
    "cv_results_ml = pd.DataFrame(tree_ml.cv_results_)\n",
    "cv_results_ml"
   ]
  },
  {
   "cell_type": "code",
   "execution_count": 101,
   "metadata": {},
   "outputs": [
    {
     "data": {
      "image/png": "[encoded data removed]",
      "text/plain": [
       "<Figure size 720x576 with 1 Axes>"
      ]
     },
     "metadata": {},
     "output_type": "display_data"
    }
   ],
   "source": [
    "plt.figure(figsize=(10 , 8))\n",
    "plt.plot(cv_results_ml['param_min_samples_leaf'] , cv_results_ml['mean_test_score'])\n",
    "plt.plot(cv_results_ml['param_min_samples_leaf'] , cv_results_ml['mean_train_score'])\n",
    "plt.xlabel('Min_samples_Leaf')\n",
    "plt.ylabel('Accuracy')\n",
    "plt.legend(['test accuracy', 'train accuracy'], loc='upper left')\n",
    "plt.xscale('log')"
   ]
  },
  {
   "cell_type": "code",
   "execution_count": 102,
   "metadata": {},
   "outputs": [
    {
     "data": {
      "text/html": [
       "<div>\n",
       "<style scoped>\n",
       "    .dataframe tbody tr th:only-of-type {\n",
       "        vertical-align: middle;\n",
       "    }\n",
       "\n",
       "    .dataframe tbody tr th {\n",
       "        vertical-align: top;\n",
       "    }\n",
       "\n",
       "    .dataframe thead th {\n",
       "        text-align: right;\n",
       "    }\n",
       "</style>\n",
       "<table border=\"1\" class=\"dataframe\">\n",
       "  <thead>\n",
       "    <tr style=\"text-align: right;\">\n",
       "      <th></th>\n",
       "      <th>mean_fit_time</th>\n",
       "      <th>std_fit_time</th>\n",
       "      <th>mean_score_time</th>\n",
       "      <th>std_score_time</th>\n",
       "      <th>param_max_depth</th>\n",
       "      <th>params</th>\n",
       "      <th>split0_test_score</th>\n",
       "      <th>split1_test_score</th>\n",
       "      <th>split2_test_score</th>\n",
       "      <th>split3_test_score</th>\n",
       "      <th>...</th>\n",
       "      <th>mean_test_score</th>\n",
       "      <th>std_test_score</th>\n",
       "      <th>rank_test_score</th>\n",
       "      <th>split0_train_score</th>\n",
       "      <th>split1_train_score</th>\n",
       "      <th>split2_train_score</th>\n",
       "      <th>split3_train_score</th>\n",
       "      <th>split4_train_score</th>\n",
       "      <th>mean_train_score</th>\n",
       "      <th>std_train_score</th>\n",
       "    </tr>\n",
       "  </thead>\n",
       "  <tbody>\n",
       "    <tr>\n",
       "      <th>0</th>\n",
       "      <td>0.617712</td>\n",
       "      <td>0.014233</td>\n",
       "      <td>0.000399</td>\n",
       "      <td>0.000798</td>\n",
       "      <td>1</td>\n",
       "      <td>{'max_depth': 1}</td>\n",
       "      <td>0.614943</td>\n",
       "      <td>0.565681</td>\n",
       "      <td>0.598522</td>\n",
       "      <td>0.595238</td>\n",
       "      <td>...</td>\n",
       "      <td>0.591790</td>\n",
       "      <td>0.016292</td>\n",
       "      <td>19</td>\n",
       "      <td>0.598933</td>\n",
       "      <td>0.565271</td>\n",
       "      <td>0.603038</td>\n",
       "      <td>0.603859</td>\n",
       "      <td>0.606527</td>\n",
       "      <td>0.595525</td>\n",
       "      <td>0.015322</td>\n",
       "    </tr>\n",
       "    <tr>\n",
       "      <th>1</th>\n",
       "      <td>0.679638</td>\n",
       "      <td>0.037407</td>\n",
       "      <td>0.000399</td>\n",
       "      <td>0.000798</td>\n",
       "      <td>2</td>\n",
       "      <td>{'max_depth': 2}</td>\n",
       "      <td>0.630542</td>\n",
       "      <td>0.624795</td>\n",
       "      <td>0.607553</td>\n",
       "      <td>0.605911</td>\n",
       "      <td>...</td>\n",
       "      <td>0.615271</td>\n",
       "      <td>0.010302</td>\n",
       "      <td>18</td>\n",
       "      <td>0.617816</td>\n",
       "      <td>0.608580</td>\n",
       "      <td>0.623974</td>\n",
       "      <td>0.612479</td>\n",
       "      <td>0.625205</td>\n",
       "      <td>0.617611</td>\n",
       "      <td>0.006420</td>\n",
       "    </tr>\n",
       "    <tr>\n",
       "      <th>2</th>\n",
       "      <td>0.683186</td>\n",
       "      <td>0.006112</td>\n",
       "      <td>0.008249</td>\n",
       "      <td>0.007040</td>\n",
       "      <td>3</td>\n",
       "      <td>{'max_depth': 3}</td>\n",
       "      <td>0.644499</td>\n",
       "      <td>0.640394</td>\n",
       "      <td>0.616585</td>\n",
       "      <td>0.609195</td>\n",
       "      <td>...</td>\n",
       "      <td>0.626601</td>\n",
       "      <td>0.013654</td>\n",
       "      <td>17</td>\n",
       "      <td>0.634852</td>\n",
       "      <td>0.626026</td>\n",
       "      <td>0.635263</td>\n",
       "      <td>0.621100</td>\n",
       "      <td>0.642241</td>\n",
       "      <td>0.631897</td>\n",
       "      <td>0.007458</td>\n",
       "    </tr>\n",
       "    <tr>\n",
       "      <th>3</th>\n",
       "      <td>0.741429</td>\n",
       "      <td>0.011671</td>\n",
       "      <td>0.000000</td>\n",
       "      <td>0.000000</td>\n",
       "      <td>4</td>\n",
       "      <td>{'max_depth': 4}</td>\n",
       "      <td>0.642857</td>\n",
       "      <td>0.648604</td>\n",
       "      <td>0.636289</td>\n",
       "      <td>0.623153</td>\n",
       "      <td>...</td>\n",
       "      <td>0.636125</td>\n",
       "      <td>0.009060</td>\n",
       "      <td>16</td>\n",
       "      <td>0.637521</td>\n",
       "      <td>0.637931</td>\n",
       "      <td>0.650452</td>\n",
       "      <td>0.634031</td>\n",
       "      <td>0.654351</td>\n",
       "      <td>0.642857</td>\n",
       "      <td>0.008005</td>\n",
       "    </tr>\n",
       "    <tr>\n",
       "      <th>4</th>\n",
       "      <td>0.791648</td>\n",
       "      <td>0.022384</td>\n",
       "      <td>0.003124</td>\n",
       "      <td>0.006248</td>\n",
       "      <td>5</td>\n",
       "      <td>{'max_depth': 5}</td>\n",
       "      <td>0.643678</td>\n",
       "      <td>0.654351</td>\n",
       "      <td>0.636289</td>\n",
       "      <td>0.636289</td>\n",
       "      <td>...</td>\n",
       "      <td>0.639737</td>\n",
       "      <td>0.008818</td>\n",
       "      <td>15</td>\n",
       "      <td>0.651683</td>\n",
       "      <td>0.651683</td>\n",
       "      <td>0.653120</td>\n",
       "      <td>0.644704</td>\n",
       "      <td>0.659893</td>\n",
       "      <td>0.652217</td>\n",
       "      <td>0.004832</td>\n",
       "    </tr>\n",
       "    <tr>\n",
       "      <th>5</th>\n",
       "      <td>0.831055</td>\n",
       "      <td>0.018217</td>\n",
       "      <td>0.000000</td>\n",
       "      <td>0.000000</td>\n",
       "      <td>6</td>\n",
       "      <td>{'max_depth': 6}</td>\n",
       "      <td>0.650246</td>\n",
       "      <td>0.658456</td>\n",
       "      <td>0.646962</td>\n",
       "      <td>0.647783</td>\n",
       "      <td>...</td>\n",
       "      <td>0.646305</td>\n",
       "      <td>0.009980</td>\n",
       "      <td>14</td>\n",
       "      <td>0.662356</td>\n",
       "      <td>0.664614</td>\n",
       "      <td>0.667693</td>\n",
       "      <td>0.656404</td>\n",
       "      <td>0.662151</td>\n",
       "      <td>0.662644</td>\n",
       "      <td>0.003705</td>\n",
       "    </tr>\n",
       "    <tr>\n",
       "      <th>6</th>\n",
       "      <td>0.877920</td>\n",
       "      <td>0.020724</td>\n",
       "      <td>0.006250</td>\n",
       "      <td>0.007654</td>\n",
       "      <td>7</td>\n",
       "      <td>{'max_depth': 7}</td>\n",
       "      <td>0.650246</td>\n",
       "      <td>0.660920</td>\n",
       "      <td>0.643678</td>\n",
       "      <td>0.651067</td>\n",
       "      <td>...</td>\n",
       "      <td>0.650739</td>\n",
       "      <td>0.005702</td>\n",
       "      <td>13</td>\n",
       "      <td>0.666872</td>\n",
       "      <td>0.669335</td>\n",
       "      <td>0.672209</td>\n",
       "      <td>0.670772</td>\n",
       "      <td>0.678161</td>\n",
       "      <td>0.671470</td>\n",
       "      <td>0.003782</td>\n",
       "    </tr>\n",
       "    <tr>\n",
       "      <th>7</th>\n",
       "      <td>0.934155</td>\n",
       "      <td>0.011690</td>\n",
       "      <td>0.003124</td>\n",
       "      <td>0.006249</td>\n",
       "      <td>8</td>\n",
       "      <td>{'max_depth': 8}</td>\n",
       "      <td>0.643678</td>\n",
       "      <td>0.664204</td>\n",
       "      <td>0.646141</td>\n",
       "      <td>0.666667</td>\n",
       "      <td>...</td>\n",
       "      <td>0.653859</td>\n",
       "      <td>0.009611</td>\n",
       "      <td>12</td>\n",
       "      <td>0.675082</td>\n",
       "      <td>0.682061</td>\n",
       "      <td>0.685755</td>\n",
       "      <td>0.684729</td>\n",
       "      <td>0.688834</td>\n",
       "      <td>0.683292</td>\n",
       "      <td>0.004643</td>\n",
       "    </tr>\n",
       "    <tr>\n",
       "      <th>8</th>\n",
       "      <td>0.993518</td>\n",
       "      <td>0.028973</td>\n",
       "      <td>0.006249</td>\n",
       "      <td>0.007653</td>\n",
       "      <td>9</td>\n",
       "      <td>{'max_depth': 9}</td>\n",
       "      <td>0.650246</td>\n",
       "      <td>0.665846</td>\n",
       "      <td>0.650246</td>\n",
       "      <td>0.666667</td>\n",
       "      <td>...</td>\n",
       "      <td>0.658949</td>\n",
       "      <td>0.007299</td>\n",
       "      <td>11</td>\n",
       "      <td>0.682266</td>\n",
       "      <td>0.694171</td>\n",
       "      <td>0.694787</td>\n",
       "      <td>0.698276</td>\n",
       "      <td>0.701765</td>\n",
       "      <td>0.694253</td>\n",
       "      <td>0.006582</td>\n",
       "    </tr>\n",
       "    <tr>\n",
       "      <th>9</th>\n",
       "      <td>1.046630</td>\n",
       "      <td>0.019759</td>\n",
       "      <td>0.003124</td>\n",
       "      <td>0.006248</td>\n",
       "      <td>10</td>\n",
       "      <td>{'max_depth': 10}</td>\n",
       "      <td>0.650246</td>\n",
       "      <td>0.671593</td>\n",
       "      <td>0.649425</td>\n",
       "      <td>0.670772</td>\n",
       "      <td>...</td>\n",
       "      <td>0.659278</td>\n",
       "      <td>0.009866</td>\n",
       "      <td>10</td>\n",
       "      <td>0.690271</td>\n",
       "      <td>0.702997</td>\n",
       "      <td>0.704023</td>\n",
       "      <td>0.709360</td>\n",
       "      <td>0.713875</td>\n",
       "      <td>0.704105</td>\n",
       "      <td>0.007946</td>\n",
       "    </tr>\n",
       "    <tr>\n",
       "      <th>10</th>\n",
       "      <td>1.127861</td>\n",
       "      <td>0.020724</td>\n",
       "      <td>0.003124</td>\n",
       "      <td>0.006248</td>\n",
       "      <td>11</td>\n",
       "      <td>{'max_depth': 11}</td>\n",
       "      <td>0.665846</td>\n",
       "      <td>0.674056</td>\n",
       "      <td>0.657635</td>\n",
       "      <td>0.672414</td>\n",
       "      <td>...</td>\n",
       "      <td>0.666667</td>\n",
       "      <td>0.006011</td>\n",
       "      <td>9</td>\n",
       "      <td>0.700123</td>\n",
       "      <td>0.709975</td>\n",
       "      <td>0.713670</td>\n",
       "      <td>0.720649</td>\n",
       "      <td>0.725369</td>\n",
       "      <td>0.713957</td>\n",
       "      <td>0.008745</td>\n",
       "    </tr>\n",
       "    <tr>\n",
       "      <th>11</th>\n",
       "      <td>1.184097</td>\n",
       "      <td>0.031861</td>\n",
       "      <td>0.000000</td>\n",
       "      <td>0.000000</td>\n",
       "      <td>12</td>\n",
       "      <td>{'max_depth': 12}</td>\n",
       "      <td>0.671593</td>\n",
       "      <td>0.678982</td>\n",
       "      <td>0.665025</td>\n",
       "      <td>0.678161</td>\n",
       "      <td>...</td>\n",
       "      <td>0.671593</td>\n",
       "      <td>0.006253</td>\n",
       "      <td>8</td>\n",
       "      <td>0.709565</td>\n",
       "      <td>0.718186</td>\n",
       "      <td>0.720854</td>\n",
       "      <td>0.731732</td>\n",
       "      <td>0.733785</td>\n",
       "      <td>0.722824</td>\n",
       "      <td>0.008952</td>\n",
       "    </tr>\n",
       "    <tr>\n",
       "      <th>12</th>\n",
       "      <td>1.334794</td>\n",
       "      <td>0.161963</td>\n",
       "      <td>0.009374</td>\n",
       "      <td>0.007653</td>\n",
       "      <td>13</td>\n",
       "      <td>{'max_depth': 13}</td>\n",
       "      <td>0.673235</td>\n",
       "      <td>0.679803</td>\n",
       "      <td>0.666667</td>\n",
       "      <td>0.672414</td>\n",
       "      <td>...</td>\n",
       "      <td>0.673399</td>\n",
       "      <td>0.004231</td>\n",
       "      <td>7</td>\n",
       "      <td>0.718186</td>\n",
       "      <td>0.724548</td>\n",
       "      <td>0.726601</td>\n",
       "      <td>0.740969</td>\n",
       "      <td>0.744458</td>\n",
       "      <td>0.730952</td>\n",
       "      <td>0.010057</td>\n",
       "    </tr>\n",
       "    <tr>\n",
       "      <th>13</th>\n",
       "      <td>1.461760</td>\n",
       "      <td>0.099948</td>\n",
       "      <td>0.003125</td>\n",
       "      <td>0.006249</td>\n",
       "      <td>14</td>\n",
       "      <td>{'max_depth': 14}</td>\n",
       "      <td>0.681445</td>\n",
       "      <td>0.685550</td>\n",
       "      <td>0.666667</td>\n",
       "      <td>0.679803</td>\n",
       "      <td>...</td>\n",
       "      <td>0.676683</td>\n",
       "      <td>0.007165</td>\n",
       "      <td>6</td>\n",
       "      <td>0.727627</td>\n",
       "      <td>0.732348</td>\n",
       "      <td>0.731732</td>\n",
       "      <td>0.749589</td>\n",
       "      <td>0.753489</td>\n",
       "      <td>0.738957</td>\n",
       "      <td>0.010474</td>\n",
       "    </tr>\n",
       "    <tr>\n",
       "      <th>14</th>\n",
       "      <td>1.365305</td>\n",
       "      <td>0.057268</td>\n",
       "      <td>0.000000</td>\n",
       "      <td>0.000000</td>\n",
       "      <td>15</td>\n",
       "      <td>{'max_depth': 15}</td>\n",
       "      <td>0.685550</td>\n",
       "      <td>0.692118</td>\n",
       "      <td>0.671593</td>\n",
       "      <td>0.672414</td>\n",
       "      <td>...</td>\n",
       "      <td>0.680131</td>\n",
       "      <td>0.007834</td>\n",
       "      <td>5</td>\n",
       "      <td>0.737479</td>\n",
       "      <td>0.738506</td>\n",
       "      <td>0.736658</td>\n",
       "      <td>0.757800</td>\n",
       "      <td>0.761289</td>\n",
       "      <td>0.746346</td>\n",
       "      <td>0.010848</td>\n",
       "    </tr>\n",
       "    <tr>\n",
       "      <th>15</th>\n",
       "      <td>1.439961</td>\n",
       "      <td>0.056590</td>\n",
       "      <td>0.000400</td>\n",
       "      <td>0.000799</td>\n",
       "      <td>16</td>\n",
       "      <td>{'max_depth': 16}</td>\n",
       "      <td>0.694581</td>\n",
       "      <td>0.695402</td>\n",
       "      <td>0.676519</td>\n",
       "      <td>0.678161</td>\n",
       "      <td>...</td>\n",
       "      <td>0.685057</td>\n",
       "      <td>0.008220</td>\n",
       "      <td>4</td>\n",
       "      <td>0.745484</td>\n",
       "      <td>0.745690</td>\n",
       "      <td>0.742406</td>\n",
       "      <td>0.765394</td>\n",
       "      <td>0.768268</td>\n",
       "      <td>0.753448</td>\n",
       "      <td>0.011026</td>\n",
       "    </tr>\n",
       "    <tr>\n",
       "      <th>16</th>\n",
       "      <td>1.509767</td>\n",
       "      <td>0.079820</td>\n",
       "      <td>0.000000</td>\n",
       "      <td>0.000000</td>\n",
       "      <td>17</td>\n",
       "      <td>{'max_depth': 17}</td>\n",
       "      <td>0.697865</td>\n",
       "      <td>0.694581</td>\n",
       "      <td>0.679803</td>\n",
       "      <td>0.683908</td>\n",
       "      <td>...</td>\n",
       "      <td>0.687192</td>\n",
       "      <td>0.007596</td>\n",
       "      <td>3</td>\n",
       "      <td>0.752874</td>\n",
       "      <td>0.751232</td>\n",
       "      <td>0.746511</td>\n",
       "      <td>0.771757</td>\n",
       "      <td>0.776478</td>\n",
       "      <td>0.759770</td>\n",
       "      <td>0.011993</td>\n",
       "    </tr>\n",
       "    <tr>\n",
       "      <th>17</th>\n",
       "      <td>1.751361</td>\n",
       "      <td>0.110268</td>\n",
       "      <td>0.003124</td>\n",
       "      <td>0.006249</td>\n",
       "      <td>18</td>\n",
       "      <td>{'max_depth': 18}</td>\n",
       "      <td>0.700328</td>\n",
       "      <td>0.704433</td>\n",
       "      <td>0.677340</td>\n",
       "      <td>0.687192</td>\n",
       "      <td>...</td>\n",
       "      <td>0.689819</td>\n",
       "      <td>0.010835</td>\n",
       "      <td>2</td>\n",
       "      <td>0.758415</td>\n",
       "      <td>0.761494</td>\n",
       "      <td>0.751026</td>\n",
       "      <td>0.777299</td>\n",
       "      <td>0.781814</td>\n",
       "      <td>0.766010</td>\n",
       "      <td>0.011660</td>\n",
       "    </tr>\n",
       "    <tr>\n",
       "      <th>18</th>\n",
       "      <td>1.553798</td>\n",
       "      <td>0.163367</td>\n",
       "      <td>0.000000</td>\n",
       "      <td>0.000000</td>\n",
       "      <td>19</td>\n",
       "      <td>{'max_depth': 19}</td>\n",
       "      <td>0.706076</td>\n",
       "      <td>0.702791</td>\n",
       "      <td>0.678161</td>\n",
       "      <td>0.688834</td>\n",
       "      <td>...</td>\n",
       "      <td>0.692118</td>\n",
       "      <td>0.010667</td>\n",
       "      <td>1</td>\n",
       "      <td>0.763342</td>\n",
       "      <td>0.767447</td>\n",
       "      <td>0.758415</td>\n",
       "      <td>0.784072</td>\n",
       "      <td>0.786946</td>\n",
       "      <td>0.772044</td>\n",
       "      <td>0.011396</td>\n",
       "    </tr>\n",
       "  </tbody>\n",
       "</table>\n",
       "<p>19 rows × 21 columns</p>\n",
       "</div>"
      ],
      "text/plain": [
       "    mean_fit_time  std_fit_time  mean_score_time  std_score_time  \\\n",
       "0        0.617712      0.014233         0.000399        0.000798   \n",
       "1        0.679638      0.037407         0.000399        0.000798   \n",
       "2        0.683186      0.006112         0.008249        0.007040   \n",
       "3        0.741429      0.011671         0.000000        0.000000   \n",
       "4        0.791648      0.022384         0.003124        0.006248   \n",
       "5        0.831055      0.018217         0.000000        0.000000   \n",
       "6        0.877920      0.020724         0.006250        0.007654   \n",
       "7        0.934155      0.011690         0.003124        0.006249   \n",
       "8        0.993518      0.028973         0.006249        0.007653   \n",
       "9        1.046630      0.019759         0.003124        0.006248   \n",
       "10       1.127861      0.020724         0.003124        0.006248   \n",
       "11       1.184097      0.031861         0.000000        0.000000   \n",
       "12       1.334794      0.161963         0.009374        0.007653   \n",
       "13       1.461760      0.099948         0.003125        0.006249   \n",
       "14       1.365305      0.057268         0.000000        0.000000   \n",
       "15       1.439961      0.056590         0.000400        0.000799   \n",
       "16       1.509767      0.079820         0.000000        0.000000   \n",
       "17       1.751361      0.110268         0.003124        0.006249   \n",
       "18       1.553798      0.163367         0.000000        0.000000   \n",
       "\n",
       "   param_max_depth             params  split0_test_score  split1_test_score  \\\n",
       "0                1   {'max_depth': 1}           0.614943           0.565681   \n",
       "1                2   {'max_depth': 2}           0.630542           0.624795   \n",
       "2                3   {'max_depth': 3}           0.644499           0.640394   \n",
       "3                4   {'max_depth': 4}           0.642857           0.648604   \n",
       "4                5   {'max_depth': 5}           0.643678           0.654351   \n",
       "5                6   {'max_depth': 6}           0.650246           0.658456   \n",
       "6                7   {'max_depth': 7}           0.650246           0.660920   \n",
       "7                8   {'max_depth': 8}           0.643678           0.664204   \n",
       "8                9   {'max_depth': 9}           0.650246           0.665846   \n",
       "9               10  {'max_depth': 10}           0.650246           0.671593   \n",
       "10              11  {'max_depth': 11}           0.665846           0.674056   \n",
       "11              12  {'max_depth': 12}           0.671593           0.678982   \n",
       "12              13  {'max_depth': 13}           0.673235           0.679803   \n",
       "13              14  {'max_depth': 14}           0.681445           0.685550   \n",
       "14              15  {'max_depth': 15}           0.685550           0.692118   \n",
       "15              16  {'max_depth': 16}           0.694581           0.695402   \n",
       "16              17  {'max_depth': 17}           0.697865           0.694581   \n",
       "17              18  {'max_depth': 18}           0.700328           0.704433   \n",
       "18              19  {'max_depth': 19}           0.706076           0.702791   \n",
       "\n",
       "    split2_test_score  split3_test_score  ...  mean_test_score  \\\n",
       "0            0.598522           0.595238  ...         0.591790   \n",
       "1            0.607553           0.605911  ...         0.615271   \n",
       "2            0.616585           0.609195  ...         0.626601   \n",
       "3            0.636289           0.623153  ...         0.636125   \n",
       "4            0.636289           0.636289  ...         0.639737   \n",
       "5            0.646962           0.647783  ...         0.646305   \n",
       "6            0.643678           0.651067  ...         0.650739   \n",
       "7            0.646141           0.666667  ...         0.653859   \n",
       "8            0.650246           0.666667  ...         0.658949   \n",
       "9            0.649425           0.670772  ...         0.659278   \n",
       "10           0.657635           0.672414  ...         0.666667   \n",
       "11           0.665025           0.678161  ...         0.671593   \n",
       "12           0.666667           0.672414  ...         0.673399   \n",
       "13           0.666667           0.679803  ...         0.676683   \n",
       "14           0.671593           0.672414  ...         0.680131   \n",
       "15           0.676519           0.678161  ...         0.685057   \n",
       "16           0.679803           0.683908  ...         0.687192   \n",
       "17           0.677340           0.687192  ...         0.689819   \n",
       "18           0.678161           0.688834  ...         0.692118   \n",
       "\n",
       "    std_test_score  rank_test_score  split0_train_score  split1_train_score  \\\n",
       "0         0.016292               19            0.598933            0.565271   \n",
       "1         0.010302               18            0.617816            0.608580   \n",
       "2         0.013654               17            0.634852            0.626026   \n",
       "3         0.009060               16            0.637521            0.637931   \n",
       "4         0.008818               15            0.651683            0.651683   \n",
       "5         0.009980               14            0.662356            0.664614   \n",
       "6         0.005702               13            0.666872            0.669335   \n",
       "7         0.009611               12            0.675082            0.682061   \n",
       "8         0.007299               11            0.682266            0.694171   \n",
       "9         0.009866               10            0.690271            0.702997   \n",
       "10        0.006011                9            0.700123            0.709975   \n",
       "11        0.006253                8            0.709565            0.718186   \n",
       "12        0.004231                7            0.718186            0.724548   \n",
       "13        0.007165                6            0.727627            0.732348   \n",
       "14        0.007834                5            0.737479            0.738506   \n",
       "15        0.008220                4            0.745484            0.745690   \n",
       "16        0.007596                3            0.752874            0.751232   \n",
       "17        0.010835                2            0.758415            0.761494   \n",
       "18        0.010667                1            0.763342            0.767447   \n",
       "\n",
       "    split2_train_score  split3_train_score  split4_train_score  \\\n",
       "0             0.603038            0.603859            0.606527   \n",
       "1             0.623974            0.612479            0.625205   \n",
       "2             0.635263            0.621100            0.642241   \n",
       "3             0.650452            0.634031            0.654351   \n",
       "4             0.653120            0.644704            0.659893   \n",
       "5             0.667693            0.656404            0.662151   \n",
       "6             0.672209            0.670772            0.678161   \n",
       "7             0.685755            0.684729            0.688834   \n",
       "8             0.694787            0.698276            0.701765   \n",
       "9             0.704023            0.709360            0.713875   \n",
       "10            0.713670            0.720649            0.725369   \n",
       "11            0.720854            0.731732            0.733785   \n",
       "12            0.726601            0.740969            0.744458   \n",
       "13            0.731732            0.749589            0.753489   \n",
       "14            0.736658            0.757800            0.761289   \n",
       "15            0.742406            0.765394            0.768268   \n",
       "16            0.746511            0.771757            0.776478   \n",
       "17            0.751026            0.777299            0.781814   \n",
       "18            0.758415            0.784072            0.786946   \n",
       "\n",
       "    mean_train_score  std_train_score  \n",
       "0           0.595525         0.015322  \n",
       "1           0.617611         0.006420  \n",
       "2           0.631897         0.007458  \n",
       "3           0.642857         0.008005  \n",
       "4           0.652217         0.004832  \n",
       "5           0.662644         0.003705  \n",
       "6           0.671470         0.003782  \n",
       "7           0.683292         0.004643  \n",
       "8           0.694253         0.006582  \n",
       "9           0.704105         0.007946  \n",
       "10          0.713957         0.008745  \n",
       "11          0.722824         0.008952  \n",
       "12          0.730952         0.010057  \n",
       "13          0.738957         0.010474  \n",
       "14          0.746346         0.010848  \n",
       "15          0.753448         0.011026  \n",
       "16          0.759770         0.011993  \n",
       "17          0.766010         0.011660  \n",
       "18          0.772044         0.011396  \n",
       "\n",
       "[19 rows x 21 columns]"
      ]
     },
     "execution_count": 102,
     "metadata": {},
     "output_type": "execute_result"
    }
   ],
   "source": [
    "n_folds = 5\n",
    "parameters = {'max_depth':range (1,20)}\n",
    "\n",
    "dtree = DecisionTreeClassifier()\n",
    "\n",
    "tree_d = GridSearchCV(dtree , parameters , cv=n_folds , n_jobs = -1 , return_train_score = True)\n",
    "tree_d.fit(X_train, y_train)\n",
    "\n",
    "\n",
    "cv_results_d = pd.DataFrame(tree_d.cv_results_)\n",
    "cv_results_d"
   ]
  },
  {
   "cell_type": "code",
   "execution_count": 103,
   "metadata": {},
   "outputs": [
    {
     "data": {
      "image/png": "[encoded data removed]",
      "text/plain": [
       "<Figure size 720x576 with 1 Axes>"
      ]
     },
     "metadata": {},
     "output_type": "display_data"
    }
   ],
   "source": [
    "plt.figure(figsize=(10 , 8))\n",
    "plt.plot(cv_results_d['param_max_depth'] , cv_results_d['mean_test_score'])\n",
    "plt.plot(cv_results_d['param_max_depth'] , cv_results_d['mean_train_score'])\n",
    "plt.xlabel('Min_samples_Leaf')\n",
    "plt.ylabel('Accuracy')\n",
    "plt.legend(['test accuracy', 'train accuracy'], loc='upper left')\n",
    "plt.xscale('log')"
   ]
  },
  {
   "cell_type": "code",
   "execution_count": 104,
   "metadata": {},
   "outputs": [
    {
     "name": "stdout",
     "output_type": "stream",
     "text": [
      "{'min_samples_split': 100}\n",
      "{'min_samples_leaf': 1}\n",
      "{'max_depth': 19}\n"
     ]
    }
   ],
   "source": [
    "print(tree_split.best_params_)\n",
    "print(tree_ml.best_params_)\n",
    "print(tree_d.best_params_)"
   ]
  },
  {
   "cell_type": "code",
   "execution_count": 105,
   "metadata": {},
   "outputs": [
    {
     "name": "stdout",
     "output_type": "stream",
     "text": [
      "71.89757058437294\n"
     ]
    }
   ],
   "source": [
    "dt = DecisionTreeClassifier(max_depth = 20 , min_samples_leaf = 10 , min_samples_split = 80)\n",
    "dt.fit(X_train , y_train)\n",
    "\n",
    "\n",
    "y_pred_dt = dt.predict(X_test)\n",
    "\n",
    "ac = accuracy_score(y_test , y_pred_dt)\n",
    "print(ac*100)"
   ]
  },
  {
   "cell_type": "code",
   "execution_count": 106,
   "metadata": {},
   "outputs": [
    {
     "name": "stdout",
     "output_type": "stream",
     "text": [
      "***Test Data Report***\n",
      "Best max_depth =  20\n",
      "Best min_samples_split =  80\n",
      "AUC =  77.06648769287813\n"
     ]
    },
    {
     "data": {
      "image/png": "[encoded data removed]",
      "text/plain": [
       "<Figure size 432x288 with 2 Axes>"
      ]
     },
     "metadata": {},
     "output_type": "display_data"
    }
   ],
   "source": [
    "optimal_depth = 20\n",
    "optimal_split = 80\n",
    "\n",
    "print(\"***Test Data Report***\")\n",
    "print(\"Best max_depth = \",optimal_depth)\n",
    "print(\"Best min_samples_split = \",optimal_split)\n",
    "fpr, tpr, threshold = metrics.roc_curve(y_test, lr.predict(X_test))\n",
    "auc = metrics.auc(fpr, tpr)\n",
    "print(\"AUC = \",auc*100)\n",
    "skplt.metrics.plot_confusion_matrix(y_test, pred)\n",
    "plt.show()"
   ]
  },
  {
   "cell_type": "markdown",
   "metadata": {},
   "source": [
    "## Random Forest on Bi-grams"
   ]
  },
  {
   "cell_type": "code",
   "execution_count": 107,
   "metadata": {},
   "outputs": [
    {
     "name": "stdout",
     "output_type": "stream",
     "text": [
      "Model with best parameters :\n",
      " RandomForestClassifier(bootstrap=True, ccp_alpha=0.0, class_weight='balanced',\n",
      "                       criterion='gini', max_depth=9, max_features='auto',\n",
      "                       max_leaf_nodes=None, max_samples=None,\n",
      "                       min_impurity_decrease=0.0, min_impurity_split=None,\n",
      "                       min_samples_leaf=1, min_samples_split=2,\n",
      "                       min_weight_fraction_leaf=0.0, n_estimators=100,\n",
      "                       n_jobs=None, oob_score=False, random_state=None,\n",
      "                       verbose=0, warm_start=False)\n",
      "Accuracy of the model :  0.8664166526126115\n"
     ]
    }
   ],
   "source": [
    "max_depths = [2,4,6,9,11]\n",
    "base_learners = [1, 5, 10, 50, 100]\n",
    "param_grid = {'max_depth': max_depths,'n_estimators':base_learners}\n",
    "\n",
    "\n",
    "model = GridSearchCV(RandomForestClassifier(class_weight='balanced'), param_grid, scoring = 'roc_auc', cv=3 , n_jobs = -1 , return_train_score = True)\n",
    "model.fit(X_train, y_train)\n",
    "\n",
    "print(\"Model with best parameters :\\n\",model.best_estimator_)\n",
    "print(\"Accuracy of the model : \",model.score(X_train, y_train))"
   ]
  },
  {
   "cell_type": "code",
   "execution_count": 108,
   "metadata": {},
   "outputs": [
    {
     "data": {
      "text/plain": [
       "0.7504924491135916"
      ]
     },
     "execution_count": 108,
     "metadata": {},
     "output_type": "execute_result"
    }
   ],
   "source": [
    "y_pred_rf = model.predict(X_test)\n",
    "ac = accuracy_score(y_test , y_pred_rf)\n",
    "ac"
   ]
  },
  {
   "cell_type": "code",
   "execution_count": 109,
   "metadata": {},
   "outputs": [
    {
     "data": {
      "text/html": [
       "<div>\n",
       "<style scoped>\n",
       "    .dataframe tbody tr th:only-of-type {\n",
       "        vertical-align: middle;\n",
       "    }\n",
       "\n",
       "    .dataframe tbody tr th {\n",
       "        vertical-align: top;\n",
       "    }\n",
       "\n",
       "    .dataframe thead th {\n",
       "        text-align: right;\n",
       "    }\n",
       "</style>\n",
       "<table border=\"1\" class=\"dataframe\">\n",
       "  <thead>\n",
       "    <tr style=\"text-align: right;\">\n",
       "      <th></th>\n",
       "      <th>mean_fit_time</th>\n",
       "      <th>std_fit_time</th>\n",
       "      <th>mean_score_time</th>\n",
       "      <th>std_score_time</th>\n",
       "      <th>param_max_depth</th>\n",
       "      <th>param_n_estimators</th>\n",
       "      <th>params</th>\n",
       "      <th>split0_test_score</th>\n",
       "      <th>split1_test_score</th>\n",
       "      <th>split2_test_score</th>\n",
       "      <th>mean_test_score</th>\n",
       "      <th>std_test_score</th>\n",
       "      <th>rank_test_score</th>\n",
       "      <th>split0_train_score</th>\n",
       "      <th>split1_train_score</th>\n",
       "      <th>split2_train_score</th>\n",
       "      <th>mean_train_score</th>\n",
       "      <th>std_train_score</th>\n",
       "    </tr>\n",
       "  </thead>\n",
       "  <tbody>\n",
       "    <tr>\n",
       "      <th>0</th>\n",
       "      <td>0.012144</td>\n",
       "      <td>0.000000</td>\n",
       "      <td>0.005210</td>\n",
       "      <td>0.007368</td>\n",
       "      <td>2</td>\n",
       "      <td>1</td>\n",
       "      <td>{'max_depth': 2, 'n_estimators': 1}</td>\n",
       "      <td>0.506236</td>\n",
       "      <td>0.508066</td>\n",
       "      <td>0.519256</td>\n",
       "      <td>0.511186</td>\n",
       "      <td>0.005755</td>\n",
       "      <td>25</td>\n",
       "      <td>0.507281</td>\n",
       "      <td>0.510388</td>\n",
       "      <td>0.519304</td>\n",
       "      <td>0.512324</td>\n",
       "      <td>0.005096</td>\n",
       "    </tr>\n",
       "    <tr>\n",
       "      <th>1</th>\n",
       "      <td>0.054461</td>\n",
       "      <td>0.011351</td>\n",
       "      <td>0.006274</td>\n",
       "      <td>0.008872</td>\n",
       "      <td>2</td>\n",
       "      <td>5</td>\n",
       "      <td>{'max_depth': 2, 'n_estimators': 5}</td>\n",
       "      <td>0.599415</td>\n",
       "      <td>0.593810</td>\n",
       "      <td>0.527647</td>\n",
       "      <td>0.573624</td>\n",
       "      <td>0.032591</td>\n",
       "      <td>19</td>\n",
       "      <td>0.581418</td>\n",
       "      <td>0.605497</td>\n",
       "      <td>0.535388</td>\n",
       "      <td>0.574101</td>\n",
       "      <td>0.029086</td>\n",
       "    </tr>\n",
       "    <tr>\n",
       "      <th>2</th>\n",
       "      <td>0.110514</td>\n",
       "      <td>0.009370</td>\n",
       "      <td>0.009530</td>\n",
       "      <td>0.006826</td>\n",
       "      <td>2</td>\n",
       "      <td>10</td>\n",
       "      <td>{'max_depth': 2, 'n_estimators': 10}</td>\n",
       "      <td>0.543431</td>\n",
       "      <td>0.557834</td>\n",
       "      <td>0.575084</td>\n",
       "      <td>0.558783</td>\n",
       "      <td>0.012940</td>\n",
       "      <td>20</td>\n",
       "      <td>0.557569</td>\n",
       "      <td>0.577954</td>\n",
       "      <td>0.589548</td>\n",
       "      <td>0.575023</td>\n",
       "      <td>0.013219</td>\n",
       "    </tr>\n",
       "    <tr>\n",
       "      <th>3</th>\n",
       "      <td>0.321136</td>\n",
       "      <td>0.016879</td>\n",
       "      <td>0.051097</td>\n",
       "      <td>0.005986</td>\n",
       "      <td>2</td>\n",
       "      <td>50</td>\n",
       "      <td>{'max_depth': 2, 'n_estimators': 50}</td>\n",
       "      <td>0.705873</td>\n",
       "      <td>0.704038</td>\n",
       "      <td>0.699120</td>\n",
       "      <td>0.703010</td>\n",
       "      <td>0.002851</td>\n",
       "      <td>11</td>\n",
       "      <td>0.729475</td>\n",
       "      <td>0.733339</td>\n",
       "      <td>0.739368</td>\n",
       "      <td>0.734061</td>\n",
       "      <td>0.004071</td>\n",
       "    </tr>\n",
       "    <tr>\n",
       "      <th>4</th>\n",
       "      <td>0.639470</td>\n",
       "      <td>0.026479</td>\n",
       "      <td>0.083314</td>\n",
       "      <td>0.007363</td>\n",
       "      <td>2</td>\n",
       "      <td>100</td>\n",
       "      <td>{'max_depth': 2, 'n_estimators': 100}</td>\n",
       "      <td>0.739863</td>\n",
       "      <td>0.751100</td>\n",
       "      <td>0.758278</td>\n",
       "      <td>0.749747</td>\n",
       "      <td>0.007578</td>\n",
       "      <td>9</td>\n",
       "      <td>0.778641</td>\n",
       "      <td>0.805265</td>\n",
       "      <td>0.783980</td>\n",
       "      <td>0.789296</td>\n",
       "      <td>0.011501</td>\n",
       "    </tr>\n",
       "  </tbody>\n",
       "</table>\n",
       "</div>"
      ],
      "text/plain": [
       "   mean_fit_time  std_fit_time  mean_score_time  std_score_time  \\\n",
       "0       0.012144      0.000000         0.005210        0.007368   \n",
       "1       0.054461      0.011351         0.006274        0.008872   \n",
       "2       0.110514      0.009370         0.009530        0.006826   \n",
       "3       0.321136      0.016879         0.051097        0.005986   \n",
       "4       0.639470      0.026479         0.083314        0.007363   \n",
       "\n",
       "  param_max_depth param_n_estimators                                 params  \\\n",
       "0               2                  1    {'max_depth': 2, 'n_estimators': 1}   \n",
       "1               2                  5    {'max_depth': 2, 'n_estimators': 5}   \n",
       "2               2                 10   {'max_depth': 2, 'n_estimators': 10}   \n",
       "3               2                 50   {'max_depth': 2, 'n_estimators': 50}   \n",
       "4               2                100  {'max_depth': 2, 'n_estimators': 100}   \n",
       "\n",
       "   split0_test_score  split1_test_score  split2_test_score  mean_test_score  \\\n",
       "0           0.506236           0.508066           0.519256         0.511186   \n",
       "1           0.599415           0.593810           0.527647         0.573624   \n",
       "2           0.543431           0.557834           0.575084         0.558783   \n",
       "3           0.705873           0.704038           0.699120         0.703010   \n",
       "4           0.739863           0.751100           0.758278         0.749747   \n",
       "\n",
       "   std_test_score  rank_test_score  split0_train_score  split1_train_score  \\\n",
       "0        0.005755               25            0.507281            0.510388   \n",
       "1        0.032591               19            0.581418            0.605497   \n",
       "2        0.012940               20            0.557569            0.577954   \n",
       "3        0.002851               11            0.729475            0.733339   \n",
       "4        0.007578                9            0.778641            0.805265   \n",
       "\n",
       "   split2_train_score  mean_train_score  std_train_score  \n",
       "0            0.519304          0.512324         0.005096  \n",
       "1            0.535388          0.574101         0.029086  \n",
       "2            0.589548          0.575023         0.013219  \n",
       "3            0.739368          0.734061         0.004071  \n",
       "4            0.783980          0.789296         0.011501  "
      ]
     },
     "execution_count": 109,
     "metadata": {},
     "output_type": "execute_result"
    }
   ],
   "source": [
    "dataframe = pd.DataFrame(model.cv_results_)\n",
    "dataframe.head()"
   ]
  },
  {
   "cell_type": "code",
   "execution_count": 110,
   "metadata": {},
   "outputs": [
    {
     "name": "stderr",
     "output_type": "stream",
     "text": [
      "C:\\Users\\Mahmudur Limon\\Anaconda3\\envs\\gputest\\lib\\site-packages\\ipykernel_launcher.py:7: MatplotlibDeprecationWarning:\n",
      "\n",
      "Adding an axes using the same arguments as a previous axes currently reuses the earlier instance.  In a future version, a new instance will always be created and returned.  Meanwhile, this warning can be suppressed, and the future behavior ensured, by passing a unique label to each axes instance.\n",
      "\n"
     ]
    },
    {
     "data": {
      "image/png": "[encoded data removed]",
      "text/plain": [
       "<Figure size 1080x864 with 2 Axes>"
      ]
     },
     "metadata": {},
     "output_type": "display_data"
    }
   ],
   "source": [
    "# Train Data Auc Score Vs hyperparameter Heatmap\n",
    "max_scores = dataframe.groupby(['param_max_depth', \n",
    "                                    'param_n_estimators']).max()\n",
    "max_scores = max_scores.unstack()[['mean_test_score', 'mean_train_score']]\n",
    "plt.figure(figsize = (15 , 12))\n",
    "sns.heatmap(max_scores.mean_train_score*100, annot=True, fmt='.4g');\n",
    "ax = plt.axes()\n",
    "ax.set_title('AUC Score Train data')\n",
    "plt.show()"
   ]
  },
  {
   "cell_type": "code",
   "execution_count": 111,
   "metadata": {},
   "outputs": [
    {
     "name": "stderr",
     "output_type": "stream",
     "text": [
      "C:\\Users\\Mahmudur Limon\\Anaconda3\\envs\\gputest\\lib\\site-packages\\ipykernel_launcher.py:7: MatplotlibDeprecationWarning:\n",
      "\n",
      "Adding an axes using the same arguments as a previous axes currently reuses the earlier instance.  In a future version, a new instance will always be created and returned.  Meanwhile, this warning can be suppressed, and the future behavior ensured, by passing a unique label to each axes instance.\n",
      "\n"
     ]
    },
    {
     "data": {
      "image/png": "[encoded data removed]",
      "text/plain": [
       "<Figure size 1080x864 with 2 Axes>"
      ]
     },
     "metadata": {},
     "output_type": "display_data"
    }
   ],
   "source": [
    "# CV Data Auc Score Vs hyperparameter Heatmap\n",
    "max_scores = dataframe.groupby(['param_max_depth', \n",
    "                                    'param_n_estimators']).max()\n",
    "max_scores = max_scores.unstack()[['mean_test_score', 'mean_train_score']]\n",
    "plt.figure(figsize = (15 , 12))\n",
    "sns.heatmap(max_scores.mean_test_score*100, annot=True, fmt='.4g' , cmap = 'gist_ncar')\n",
    "ax = plt.axes()\n",
    "ax.set_title('AUC Score Data Heatmap')\n",
    "plt.show()"
   ]
  },
  {
   "cell_type": "code",
   "execution_count": 112,
   "metadata": {},
   "outputs": [
    {
     "name": "stdout",
     "output_type": "stream",
     "text": [
      "***Test Data Report***\n",
      "Best max_depth =  11\n",
      "Best Base Learners =  100\n",
      "AUC =  74.46272211288895\n"
     ]
    },
    {
     "data": {
      "image/png": "[encoded data removed]",
      "text/plain": [
       "<Figure size 432x288 with 2 Axes>"
      ]
     },
     "metadata": {},
     "output_type": "display_data"
    }
   ],
   "source": [
    "optimal_depth = 11\n",
    "optimal_estimators = 100\n",
    "\n",
    "lr = RandomForestClassifier(n_estimators=optimal_estimators, max_depth=optimal_depth, class_weight='balanced')\n",
    "lr.fit(X_train_BOW,y_train)\n",
    "pred = lr.predict(X_test_BOW)\n",
    "\n",
    "print(\"***Test Data Report***\")\n",
    "print(\"Best max_depth = \",optimal_depth)\n",
    "print(\"Best Base Learners = \",optimal_estimators)\n",
    "fpr, tpr, threshold = metrics.roc_curve(y_test, lr.predict(X_test))\n",
    "auc = metrics.auc(fpr, tpr)\n",
    "print(\"AUC = \",auc*100)\n",
    "skplt.metrics.plot_confusion_matrix(y_test, pred)\n",
    "plt.show()"
   ]
  },
  {
   "cell_type": "code",
   "execution_count": 113,
   "metadata": {},
   "outputs": [
    {
     "name": "stdout",
     "output_type": "stream",
     "text": [
      "79.12015758371635\n"
     ]
    }
   ],
   "source": [
    "rf = RandomForestClassifier()\n",
    "rf.fit(X_train , y_train)\n",
    "\n",
    "y_pred_rf = rf.predict(X_test)\n",
    "\n",
    "ac_rf = accuracy_score(y_test , y_pred_rf)\n",
    "print(ac_rf*100)"
   ]
  },
  {
   "cell_type": "code",
   "execution_count": 114,
   "metadata": {},
   "outputs": [],
   "source": [
    "test_pred = rf.predict(test_BOW)"
   ]
  },
  {
   "cell_type": "code",
   "execution_count": 115,
   "metadata": {},
   "outputs": [],
   "source": [
    "# test_pred = rf.predict(test_BOW)\n",
    "# submission['target'] = test_pred.astype(int)\n",
    "# submission.to_csv('submission02.csv', index=False)"
   ]
  },
  {
   "cell_type": "code",
   "execution_count": 116,
   "metadata": {},
   "outputs": [
    {
     "name": "stdout",
     "output_type": "stream",
     "text": [
      "Best parameter for max_depth:  {'max_depth': 28}\n"
     ]
    },
    {
     "data": {
      "text/html": [
       "<div>\n",
       "<style scoped>\n",
       "    .dataframe tbody tr th:only-of-type {\n",
       "        vertical-align: middle;\n",
       "    }\n",
       "\n",
       "    .dataframe tbody tr th {\n",
       "        vertical-align: top;\n",
       "    }\n",
       "\n",
       "    .dataframe thead th {\n",
       "        text-align: right;\n",
       "    }\n",
       "</style>\n",
       "<table border=\"1\" class=\"dataframe\">\n",
       "  <thead>\n",
       "    <tr style=\"text-align: right;\">\n",
       "      <th></th>\n",
       "      <th>mean_fit_time</th>\n",
       "      <th>std_fit_time</th>\n",
       "      <th>mean_score_time</th>\n",
       "      <th>std_score_time</th>\n",
       "      <th>param_max_depth</th>\n",
       "      <th>params</th>\n",
       "      <th>split0_test_score</th>\n",
       "      <th>split1_test_score</th>\n",
       "      <th>split2_test_score</th>\n",
       "      <th>split3_test_score</th>\n",
       "      <th>...</th>\n",
       "      <th>split2_train_score</th>\n",
       "      <th>split3_train_score</th>\n",
       "      <th>split4_train_score</th>\n",
       "      <th>split5_train_score</th>\n",
       "      <th>split6_train_score</th>\n",
       "      <th>split7_train_score</th>\n",
       "      <th>split8_train_score</th>\n",
       "      <th>split9_train_score</th>\n",
       "      <th>mean_train_score</th>\n",
       "      <th>std_train_score</th>\n",
       "    </tr>\n",
       "  </thead>\n",
       "  <tbody>\n",
       "    <tr>\n",
       "      <th>0</th>\n",
       "      <td>0.797574</td>\n",
       "      <td>0.027108</td>\n",
       "      <td>0.049992</td>\n",
       "      <td>0.009375</td>\n",
       "      <td>2</td>\n",
       "      <td>{'max_depth': 2}</td>\n",
       "      <td>0.569787</td>\n",
       "      <td>0.571429</td>\n",
       "      <td>0.566502</td>\n",
       "      <td>0.566502</td>\n",
       "      <td>...</td>\n",
       "      <td>0.565590</td>\n",
       "      <td>0.568509</td>\n",
       "      <td>0.565773</td>\n",
       "      <td>0.565408</td>\n",
       "      <td>0.565408</td>\n",
       "      <td>0.569239</td>\n",
       "      <td>0.567780</td>\n",
       "      <td>0.571793</td>\n",
       "      <td>0.567944</td>\n",
       "      <td>0.002290</td>\n",
       "    </tr>\n",
       "    <tr>\n",
       "      <th>1</th>\n",
       "      <td>1.273335</td>\n",
       "      <td>0.040106</td>\n",
       "      <td>0.040081</td>\n",
       "      <td>0.007378</td>\n",
       "      <td>4</td>\n",
       "      <td>{'max_depth': 4}</td>\n",
       "      <td>0.599343</td>\n",
       "      <td>0.589491</td>\n",
       "      <td>0.584565</td>\n",
       "      <td>0.584565</td>\n",
       "      <td>...</td>\n",
       "      <td>0.585112</td>\n",
       "      <td>0.585477</td>\n",
       "      <td>0.589491</td>\n",
       "      <td>0.592957</td>\n",
       "      <td>0.593322</td>\n",
       "      <td>0.592593</td>\n",
       "      <td>0.588579</td>\n",
       "      <td>0.588944</td>\n",
       "      <td>0.589911</td>\n",
       "      <td>0.002829</td>\n",
       "    </tr>\n",
       "    <tr>\n",
       "      <th>2</th>\n",
       "      <td>1.786014</td>\n",
       "      <td>0.028117</td>\n",
       "      <td>0.035930</td>\n",
       "      <td>0.007158</td>\n",
       "      <td>6</td>\n",
       "      <td>{'max_depth': 6}</td>\n",
       "      <td>0.607553</td>\n",
       "      <td>0.599343</td>\n",
       "      <td>0.609195</td>\n",
       "      <td>0.612479</td>\n",
       "      <td>...</td>\n",
       "      <td>0.606824</td>\n",
       "      <td>0.608101</td>\n",
       "      <td>0.606641</td>\n",
       "      <td>0.608466</td>\n",
       "      <td>0.612115</td>\n",
       "      <td>0.607553</td>\n",
       "      <td>0.609013</td>\n",
       "      <td>0.608831</td>\n",
       "      <td>0.607991</td>\n",
       "      <td>0.001724</td>\n",
       "    </tr>\n",
       "    <tr>\n",
       "      <th>3</th>\n",
       "      <td>2.449123</td>\n",
       "      <td>0.115701</td>\n",
       "      <td>0.044314</td>\n",
       "      <td>0.012255</td>\n",
       "      <td>8</td>\n",
       "      <td>{'max_depth': 8}</td>\n",
       "      <td>0.622332</td>\n",
       "      <td>0.610837</td>\n",
       "      <td>0.619048</td>\n",
       "      <td>0.630542</td>\n",
       "      <td>...</td>\n",
       "      <td>0.621419</td>\n",
       "      <td>0.623244</td>\n",
       "      <td>0.622332</td>\n",
       "      <td>0.623426</td>\n",
       "      <td>0.624156</td>\n",
       "      <td>0.615216</td>\n",
       "      <td>0.621784</td>\n",
       "      <td>0.619595</td>\n",
       "      <td>0.620507</td>\n",
       "      <td>0.003010</td>\n",
       "    </tr>\n",
       "    <tr>\n",
       "      <th>4</th>\n",
       "      <td>2.890957</td>\n",
       "      <td>0.048521</td>\n",
       "      <td>0.034367</td>\n",
       "      <td>0.006249</td>\n",
       "      <td>10</td>\n",
       "      <td>{'max_depth': 10}</td>\n",
       "      <td>0.642036</td>\n",
       "      <td>0.617406</td>\n",
       "      <td>0.625616</td>\n",
       "      <td>0.642036</td>\n",
       "      <td>...</td>\n",
       "      <td>0.636928</td>\n",
       "      <td>0.635468</td>\n",
       "      <td>0.631454</td>\n",
       "      <td>0.637292</td>\n",
       "      <td>0.632184</td>\n",
       "      <td>0.629995</td>\n",
       "      <td>0.632366</td>\n",
       "      <td>0.636380</td>\n",
       "      <td>0.632822</td>\n",
       "      <td>0.003376</td>\n",
       "    </tr>\n",
       "  </tbody>\n",
       "</table>\n",
       "<p>5 rows × 31 columns</p>\n",
       "</div>"
      ],
      "text/plain": [
       "   mean_fit_time  std_fit_time  mean_score_time  std_score_time  \\\n",
       "0       0.797574      0.027108         0.049992        0.009375   \n",
       "1       1.273335      0.040106         0.040081        0.007378   \n",
       "2       1.786014      0.028117         0.035930        0.007158   \n",
       "3       2.449123      0.115701         0.044314        0.012255   \n",
       "4       2.890957      0.048521         0.034367        0.006249   \n",
       "\n",
       "  param_max_depth             params  split0_test_score  split1_test_score  \\\n",
       "0               2   {'max_depth': 2}           0.569787           0.571429   \n",
       "1               4   {'max_depth': 4}           0.599343           0.589491   \n",
       "2               6   {'max_depth': 6}           0.607553           0.599343   \n",
       "3               8   {'max_depth': 8}           0.622332           0.610837   \n",
       "4              10  {'max_depth': 10}           0.642036           0.617406   \n",
       "\n",
       "   split2_test_score  split3_test_score  ...  split2_train_score  \\\n",
       "0           0.566502           0.566502  ...            0.565590   \n",
       "1           0.584565           0.584565  ...            0.585112   \n",
       "2           0.609195           0.612479  ...            0.606824   \n",
       "3           0.619048           0.630542  ...            0.621419   \n",
       "4           0.625616           0.642036  ...            0.636928   \n",
       "\n",
       "   split3_train_score  split4_train_score  split5_train_score  \\\n",
       "0            0.568509            0.565773            0.565408   \n",
       "1            0.585477            0.589491            0.592957   \n",
       "2            0.608101            0.606641            0.608466   \n",
       "3            0.623244            0.622332            0.623426   \n",
       "4            0.635468            0.631454            0.637292   \n",
       "\n",
       "   split6_train_score  split7_train_score  split8_train_score  \\\n",
       "0            0.565408            0.569239            0.567780   \n",
       "1            0.593322            0.592593            0.588579   \n",
       "2            0.612115            0.607553            0.609013   \n",
       "3            0.624156            0.615216            0.621784   \n",
       "4            0.632184            0.629995            0.632366   \n",
       "\n",
       "   split9_train_score  mean_train_score  std_train_score  \n",
       "0            0.571793          0.567944         0.002290  \n",
       "1            0.588944          0.589911         0.002829  \n",
       "2            0.608831          0.607991         0.001724  \n",
       "3            0.619595          0.620507         0.003010  \n",
       "4            0.636380          0.632822         0.003376  \n",
       "\n",
       "[5 rows x 31 columns]"
      ]
     },
     "execution_count": 116,
     "metadata": {},
     "output_type": "execute_result"
    }
   ],
   "source": [
    "n_folds = 10\n",
    "parameters = {'max_depth': range(2, 30, 2)}\n",
    "\n",
    "rf = RandomForestClassifier(random_state = 100)\n",
    "grd_search_max = GridSearchCV(rf , parameters , cv = n_folds , n_jobs = -1 , return_train_score = True)\n",
    "\n",
    "grd_search_max.fit(X_train , y_train)\n",
    "print('Best parameter for max_depth: ',grd_search_max.best_params_)\n",
    "\n",
    "scores = grd_search_max.cv_results_\n",
    "pd.DataFrame(scores).head()"
   ]
  },
  {
   "cell_type": "code",
   "execution_count": 117,
   "metadata": {},
   "outputs": [
    {
     "data": {
      "image/png": "[encoded data removed]",
      "text/plain": [
       "<Figure size 432x288 with 1 Axes>"
      ]
     },
     "metadata": {},
     "output_type": "display_data"
    }
   ],
   "source": [
    "plt.figure()\n",
    "plt.plot(scores[\"param_max_depth\"],scores[\"mean_train_score\"],label=\"Training accuracy\")\n",
    "plt.plot(scores[\"param_max_depth\"],scores[\"mean_test_score\"],label=\"Test accuracy\")\n",
    "plt.xlabel('max_depth')\n",
    "plt.ylabel('Accuracy')\n",
    "plt.show()\n"
   ]
  },
  {
   "cell_type": "code",
   "execution_count": 118,
   "metadata": {},
   "outputs": [
    {
     "name": "stdout",
     "output_type": "stream",
     "text": [
      "Best parameter for n_estimators:  {'n_estimators': 350}\n"
     ]
    },
    {
     "data": {
      "text/html": [
       "<div>\n",
       "<style scoped>\n",
       "    .dataframe tbody tr th:only-of-type {\n",
       "        vertical-align: middle;\n",
       "    }\n",
       "\n",
       "    .dataframe tbody tr th {\n",
       "        vertical-align: top;\n",
       "    }\n",
       "\n",
       "    .dataframe thead th {\n",
       "        text-align: right;\n",
       "    }\n",
       "</style>\n",
       "<table border=\"1\" class=\"dataframe\">\n",
       "  <thead>\n",
       "    <tr style=\"text-align: right;\">\n",
       "      <th></th>\n",
       "      <th>mean_fit_time</th>\n",
       "      <th>std_fit_time</th>\n",
       "      <th>mean_score_time</th>\n",
       "      <th>std_score_time</th>\n",
       "      <th>param_n_estimators</th>\n",
       "      <th>params</th>\n",
       "      <th>split0_test_score</th>\n",
       "      <th>split1_test_score</th>\n",
       "      <th>split2_test_score</th>\n",
       "      <th>split3_test_score</th>\n",
       "      <th>...</th>\n",
       "      <th>mean_test_score</th>\n",
       "      <th>std_test_score</th>\n",
       "      <th>rank_test_score</th>\n",
       "      <th>split0_train_score</th>\n",
       "      <th>split1_train_score</th>\n",
       "      <th>split2_train_score</th>\n",
       "      <th>split3_train_score</th>\n",
       "      <th>split4_train_score</th>\n",
       "      <th>mean_train_score</th>\n",
       "      <th>std_train_score</th>\n",
       "    </tr>\n",
       "  </thead>\n",
       "  <tbody>\n",
       "    <tr>\n",
       "      <th>0</th>\n",
       "      <td>40.744603</td>\n",
       "      <td>1.599712</td>\n",
       "      <td>0.109037</td>\n",
       "      <td>0.001329</td>\n",
       "      <td>50</td>\n",
       "      <td>{'n_estimators': 50}</td>\n",
       "      <td>0.779146</td>\n",
       "      <td>0.768473</td>\n",
       "      <td>0.765189</td>\n",
       "      <td>0.775041</td>\n",
       "      <td>...</td>\n",
       "      <td>0.770936</td>\n",
       "      <td>0.005295</td>\n",
       "      <td>9</td>\n",
       "      <td>0.989327</td>\n",
       "      <td>0.990764</td>\n",
       "      <td>0.987890</td>\n",
       "      <td>0.989532</td>\n",
       "      <td>0.989327</td>\n",
       "      <td>0.989368</td>\n",
       "      <td>0.000912</td>\n",
       "    </tr>\n",
       "    <tr>\n",
       "      <th>1</th>\n",
       "      <td>74.476703</td>\n",
       "      <td>1.640648</td>\n",
       "      <td>0.215786</td>\n",
       "      <td>0.015567</td>\n",
       "      <td>100</td>\n",
       "      <td>{'n_estimators': 100}</td>\n",
       "      <td>0.778325</td>\n",
       "      <td>0.775041</td>\n",
       "      <td>0.774220</td>\n",
       "      <td>0.776683</td>\n",
       "      <td>...</td>\n",
       "      <td>0.774877</td>\n",
       "      <td>0.002767</td>\n",
       "      <td>8</td>\n",
       "      <td>0.990969</td>\n",
       "      <td>0.991995</td>\n",
       "      <td>0.989327</td>\n",
       "      <td>0.990558</td>\n",
       "      <td>0.989737</td>\n",
       "      <td>0.990517</td>\n",
       "      <td>0.000940</td>\n",
       "    </tr>\n",
       "    <tr>\n",
       "      <th>2</th>\n",
       "      <td>111.641279</td>\n",
       "      <td>3.181882</td>\n",
       "      <td>0.320220</td>\n",
       "      <td>0.015621</td>\n",
       "      <td>150</td>\n",
       "      <td>{'n_estimators': 150}</td>\n",
       "      <td>0.782430</td>\n",
       "      <td>0.772578</td>\n",
       "      <td>0.773399</td>\n",
       "      <td>0.775862</td>\n",
       "      <td>...</td>\n",
       "      <td>0.775205</td>\n",
       "      <td>0.003865</td>\n",
       "      <td>7</td>\n",
       "      <td>0.990969</td>\n",
       "      <td>0.991995</td>\n",
       "      <td>0.989532</td>\n",
       "      <td>0.990558</td>\n",
       "      <td>0.989943</td>\n",
       "      <td>0.990599</td>\n",
       "      <td>0.000855</td>\n",
       "    </tr>\n",
       "    <tr>\n",
       "      <th>3</th>\n",
       "      <td>149.269938</td>\n",
       "      <td>4.323939</td>\n",
       "      <td>0.479506</td>\n",
       "      <td>0.082335</td>\n",
       "      <td>200</td>\n",
       "      <td>{'n_estimators': 200}</td>\n",
       "      <td>0.781609</td>\n",
       "      <td>0.770936</td>\n",
       "      <td>0.777504</td>\n",
       "      <td>0.775041</td>\n",
       "      <td>...</td>\n",
       "      <td>0.776683</td>\n",
       "      <td>0.003560</td>\n",
       "      <td>4</td>\n",
       "      <td>0.990969</td>\n",
       "      <td>0.991995</td>\n",
       "      <td>0.989532</td>\n",
       "      <td>0.990558</td>\n",
       "      <td>0.989943</td>\n",
       "      <td>0.990599</td>\n",
       "      <td>0.000855</td>\n",
       "    </tr>\n",
       "    <tr>\n",
       "      <th>4</th>\n",
       "      <td>187.189494</td>\n",
       "      <td>4.963686</td>\n",
       "      <td>0.540499</td>\n",
       "      <td>0.012496</td>\n",
       "      <td>250</td>\n",
       "      <td>{'n_estimators': 250}</td>\n",
       "      <td>0.780788</td>\n",
       "      <td>0.770936</td>\n",
       "      <td>0.779146</td>\n",
       "      <td>0.773399</td>\n",
       "      <td>...</td>\n",
       "      <td>0.776026</td>\n",
       "      <td>0.003612</td>\n",
       "      <td>5</td>\n",
       "      <td>0.990969</td>\n",
       "      <td>0.991995</td>\n",
       "      <td>0.989532</td>\n",
       "      <td>0.990558</td>\n",
       "      <td>0.989943</td>\n",
       "      <td>0.990599</td>\n",
       "      <td>0.000855</td>\n",
       "    </tr>\n",
       "  </tbody>\n",
       "</table>\n",
       "<p>5 rows × 21 columns</p>\n",
       "</div>"
      ],
      "text/plain": [
       "   mean_fit_time  std_fit_time  mean_score_time  std_score_time  \\\n",
       "0      40.744603      1.599712         0.109037        0.001329   \n",
       "1      74.476703      1.640648         0.215786        0.015567   \n",
       "2     111.641279      3.181882         0.320220        0.015621   \n",
       "3     149.269938      4.323939         0.479506        0.082335   \n",
       "4     187.189494      4.963686         0.540499        0.012496   \n",
       "\n",
       "  param_n_estimators                 params  split0_test_score  \\\n",
       "0                 50   {'n_estimators': 50}           0.779146   \n",
       "1                100  {'n_estimators': 100}           0.778325   \n",
       "2                150  {'n_estimators': 150}           0.782430   \n",
       "3                200  {'n_estimators': 200}           0.781609   \n",
       "4                250  {'n_estimators': 250}           0.780788   \n",
       "\n",
       "   split1_test_score  split2_test_score  split3_test_score  ...  \\\n",
       "0           0.768473           0.765189           0.775041  ...   \n",
       "1           0.775041           0.774220           0.776683  ...   \n",
       "2           0.772578           0.773399           0.775862  ...   \n",
       "3           0.770936           0.777504           0.775041  ...   \n",
       "4           0.770936           0.779146           0.773399  ...   \n",
       "\n",
       "   mean_test_score  std_test_score  rank_test_score  split0_train_score  \\\n",
       "0         0.770936        0.005295                9            0.989327   \n",
       "1         0.774877        0.002767                8            0.990969   \n",
       "2         0.775205        0.003865                7            0.990969   \n",
       "3         0.776683        0.003560                4            0.990969   \n",
       "4         0.776026        0.003612                5            0.990969   \n",
       "\n",
       "   split1_train_score  split2_train_score  split3_train_score  \\\n",
       "0            0.990764            0.987890            0.989532   \n",
       "1            0.991995            0.989327            0.990558   \n",
       "2            0.991995            0.989532            0.990558   \n",
       "3            0.991995            0.989532            0.990558   \n",
       "4            0.991995            0.989532            0.990558   \n",
       "\n",
       "   split4_train_score  mean_train_score  std_train_score  \n",
       "0            0.989327          0.989368         0.000912  \n",
       "1            0.989737          0.990517         0.000940  \n",
       "2            0.989943          0.990599         0.000855  \n",
       "3            0.989943          0.990599         0.000855  \n",
       "4            0.989943          0.990599         0.000855  \n",
       "\n",
       "[5 rows x 21 columns]"
      ]
     },
     "execution_count": 118,
     "metadata": {},
     "output_type": "execute_result"
    }
   ],
   "source": [
    "n_folds = 5\n",
    "parameters = {'n_estimators': range(50, 500, 50)}\n",
    "\n",
    "rf = RandomForestClassifier(random_state = 100)\n",
    "grd_search_est = GridSearchCV(rf , parameters , cv = n_folds , n_jobs = -1 , return_train_score = True)\n",
    "\n",
    "grd_search_est.fit(X_train, y_train)\n",
    "print('Best parameter for n_estimators: ',grd_search_est.best_params_)\n",
    "\n",
    "scores_1 = grd_search_est.cv_results_\n",
    "pd.DataFrame(scores_1).head()"
   ]
  },
  {
   "cell_type": "code",
   "execution_count": 119,
   "metadata": {},
   "outputs": [
    {
     "data": {
      "image/png": "[encoded data removed]",
      "text/plain": [
       "<Figure size 432x288 with 1 Axes>"
      ]
     },
     "metadata": {},
     "output_type": "display_data"
    }
   ],
   "source": [
    "plt.figure()\n",
    "plt.plot(scores_1[\"param_n_estimators\"],scores_1[\"mean_train_score\"],label=\"Training accuracy\")\n",
    "plt.plot(scores_1[\"param_n_estimators\"],scores_1[\"mean_test_score\"],label=\"Test accuracy\")\n",
    "plt.xlabel('n_estimators')\n",
    "plt.ylabel('Accuracy')\n",
    "plt.show()"
   ]
  },
  {
   "cell_type": "code",
   "execution_count": 120,
   "metadata": {},
   "outputs": [
    {
     "name": "stdout",
     "output_type": "stream",
     "text": [
      "Best parameter for min_samples_leaf:  {'min_samples_leaf': 30}\n"
     ]
    },
    {
     "data": {
      "text/html": [
       "<div>\n",
       "<style scoped>\n",
       "    .dataframe tbody tr th:only-of-type {\n",
       "        vertical-align: middle;\n",
       "    }\n",
       "\n",
       "    .dataframe tbody tr th {\n",
       "        vertical-align: top;\n",
       "    }\n",
       "\n",
       "    .dataframe thead th {\n",
       "        text-align: right;\n",
       "    }\n",
       "</style>\n",
       "<table border=\"1\" class=\"dataframe\">\n",
       "  <thead>\n",
       "    <tr style=\"text-align: right;\">\n",
       "      <th></th>\n",
       "      <th>mean_fit_time</th>\n",
       "      <th>std_fit_time</th>\n",
       "      <th>mean_score_time</th>\n",
       "      <th>std_score_time</th>\n",
       "      <th>param_min_samples_leaf</th>\n",
       "      <th>params</th>\n",
       "      <th>split0_test_score</th>\n",
       "      <th>split1_test_score</th>\n",
       "      <th>split2_test_score</th>\n",
       "      <th>split3_test_score</th>\n",
       "      <th>...</th>\n",
       "      <th>mean_test_score</th>\n",
       "      <th>std_test_score</th>\n",
       "      <th>rank_test_score</th>\n",
       "      <th>split0_train_score</th>\n",
       "      <th>split1_train_score</th>\n",
       "      <th>split2_train_score</th>\n",
       "      <th>split3_train_score</th>\n",
       "      <th>split4_train_score</th>\n",
       "      <th>mean_train_score</th>\n",
       "      <th>std_train_score</th>\n",
       "    </tr>\n",
       "  </thead>\n",
       "  <tbody>\n",
       "    <tr>\n",
       "      <th>0</th>\n",
       "      <td>0.559119</td>\n",
       "      <td>0.121079</td>\n",
       "      <td>0.043070</td>\n",
       "      <td>0.002544</td>\n",
       "      <td>30</td>\n",
       "      <td>{'min_samples_leaf': 30}</td>\n",
       "      <td>0.565681</td>\n",
       "      <td>0.565681</td>\n",
       "      <td>0.565681</td>\n",
       "      <td>0.56486</td>\n",
       "      <td>...</td>\n",
       "      <td>0.565353</td>\n",
       "      <td>0.000402</td>\n",
       "      <td>1</td>\n",
       "      <td>0.565271</td>\n",
       "      <td>0.565271</td>\n",
       "      <td>0.565271</td>\n",
       "      <td>0.565476</td>\n",
       "      <td>0.565476</td>\n",
       "      <td>0.565353</td>\n",
       "      <td>0.000101</td>\n",
       "    </tr>\n",
       "    <tr>\n",
       "      <th>1</th>\n",
       "      <td>0.399244</td>\n",
       "      <td>0.017125</td>\n",
       "      <td>0.038081</td>\n",
       "      <td>0.007256</td>\n",
       "      <td>80</td>\n",
       "      <td>{'min_samples_leaf': 80}</td>\n",
       "      <td>0.565681</td>\n",
       "      <td>0.565681</td>\n",
       "      <td>0.565681</td>\n",
       "      <td>0.56486</td>\n",
       "      <td>...</td>\n",
       "      <td>0.565353</td>\n",
       "      <td>0.000402</td>\n",
       "      <td>1</td>\n",
       "      <td>0.565271</td>\n",
       "      <td>0.565271</td>\n",
       "      <td>0.565271</td>\n",
       "      <td>0.565476</td>\n",
       "      <td>0.565476</td>\n",
       "      <td>0.565353</td>\n",
       "      <td>0.000101</td>\n",
       "    </tr>\n",
       "    <tr>\n",
       "      <th>2</th>\n",
       "      <td>0.419708</td>\n",
       "      <td>0.095831</td>\n",
       "      <td>0.054631</td>\n",
       "      <td>0.018199</td>\n",
       "      <td>130</td>\n",
       "      <td>{'min_samples_leaf': 130}</td>\n",
       "      <td>0.565681</td>\n",
       "      <td>0.565681</td>\n",
       "      <td>0.565681</td>\n",
       "      <td>0.56486</td>\n",
       "      <td>...</td>\n",
       "      <td>0.565353</td>\n",
       "      <td>0.000402</td>\n",
       "      <td>1</td>\n",
       "      <td>0.565271</td>\n",
       "      <td>0.565271</td>\n",
       "      <td>0.565271</td>\n",
       "      <td>0.565476</td>\n",
       "      <td>0.565476</td>\n",
       "      <td>0.565353</td>\n",
       "      <td>0.000101</td>\n",
       "    </tr>\n",
       "    <tr>\n",
       "      <th>3</th>\n",
       "      <td>0.377370</td>\n",
       "      <td>0.010306</td>\n",
       "      <td>0.041667</td>\n",
       "      <td>0.001731</td>\n",
       "      <td>180</td>\n",
       "      <td>{'min_samples_leaf': 180}</td>\n",
       "      <td>0.565681</td>\n",
       "      <td>0.565681</td>\n",
       "      <td>0.565681</td>\n",
       "      <td>0.56486</td>\n",
       "      <td>...</td>\n",
       "      <td>0.565353</td>\n",
       "      <td>0.000402</td>\n",
       "      <td>1</td>\n",
       "      <td>0.565271</td>\n",
       "      <td>0.565271</td>\n",
       "      <td>0.565271</td>\n",
       "      <td>0.565476</td>\n",
       "      <td>0.565476</td>\n",
       "      <td>0.565353</td>\n",
       "      <td>0.000101</td>\n",
       "    </tr>\n",
       "    <tr>\n",
       "      <th>4</th>\n",
       "      <td>0.372185</td>\n",
       "      <td>0.020605</td>\n",
       "      <td>0.041484</td>\n",
       "      <td>0.001345</td>\n",
       "      <td>230</td>\n",
       "      <td>{'min_samples_leaf': 230}</td>\n",
       "      <td>0.565681</td>\n",
       "      <td>0.565681</td>\n",
       "      <td>0.565681</td>\n",
       "      <td>0.56486</td>\n",
       "      <td>...</td>\n",
       "      <td>0.565353</td>\n",
       "      <td>0.000402</td>\n",
       "      <td>1</td>\n",
       "      <td>0.565271</td>\n",
       "      <td>0.565271</td>\n",
       "      <td>0.565271</td>\n",
       "      <td>0.565476</td>\n",
       "      <td>0.565476</td>\n",
       "      <td>0.565353</td>\n",
       "      <td>0.000101</td>\n",
       "    </tr>\n",
       "  </tbody>\n",
       "</table>\n",
       "<p>5 rows × 21 columns</p>\n",
       "</div>"
      ],
      "text/plain": [
       "   mean_fit_time  std_fit_time  mean_score_time  std_score_time  \\\n",
       "0       0.559119      0.121079         0.043070        0.002544   \n",
       "1       0.399244      0.017125         0.038081        0.007256   \n",
       "2       0.419708      0.095831         0.054631        0.018199   \n",
       "3       0.377370      0.010306         0.041667        0.001731   \n",
       "4       0.372185      0.020605         0.041484        0.001345   \n",
       "\n",
       "  param_min_samples_leaf                     params  split0_test_score  \\\n",
       "0                     30   {'min_samples_leaf': 30}           0.565681   \n",
       "1                     80   {'min_samples_leaf': 80}           0.565681   \n",
       "2                    130  {'min_samples_leaf': 130}           0.565681   \n",
       "3                    180  {'min_samples_leaf': 180}           0.565681   \n",
       "4                    230  {'min_samples_leaf': 230}           0.565681   \n",
       "\n",
       "   split1_test_score  split2_test_score  split3_test_score  ...  \\\n",
       "0           0.565681           0.565681            0.56486  ...   \n",
       "1           0.565681           0.565681            0.56486  ...   \n",
       "2           0.565681           0.565681            0.56486  ...   \n",
       "3           0.565681           0.565681            0.56486  ...   \n",
       "4           0.565681           0.565681            0.56486  ...   \n",
       "\n",
       "   mean_test_score  std_test_score  rank_test_score  split0_train_score  \\\n",
       "0         0.565353        0.000402                1            0.565271   \n",
       "1         0.565353        0.000402                1            0.565271   \n",
       "2         0.565353        0.000402                1            0.565271   \n",
       "3         0.565353        0.000402                1            0.565271   \n",
       "4         0.565353        0.000402                1            0.565271   \n",
       "\n",
       "   split1_train_score  split2_train_score  split3_train_score  \\\n",
       "0            0.565271            0.565271            0.565476   \n",
       "1            0.565271            0.565271            0.565476   \n",
       "2            0.565271            0.565271            0.565476   \n",
       "3            0.565271            0.565271            0.565476   \n",
       "4            0.565271            0.565271            0.565476   \n",
       "\n",
       "   split4_train_score  mean_train_score  std_train_score  \n",
       "0            0.565476          0.565353         0.000101  \n",
       "1            0.565476          0.565353         0.000101  \n",
       "2            0.565476          0.565353         0.000101  \n",
       "3            0.565476          0.565353         0.000101  \n",
       "4            0.565476          0.565353         0.000101  \n",
       "\n",
       "[5 rows x 21 columns]"
      ]
     },
     "execution_count": 120,
     "metadata": {},
     "output_type": "execute_result"
    }
   ],
   "source": [
    "n_folds = 5\n",
    "parameters = {'min_samples_leaf': range(30, 400, 50)}\n",
    "\n",
    "rf = RandomForestClassifier(random_state = 100)\n",
    "grd_search_lf = GridSearchCV(rf , parameters , cv = n_folds , return_train_score = True)\n",
    "\n",
    "grd_search_lf.fit(X_train, y_train)\n",
    "print('Best parameter for min_samples_leaf: ',grd_search_lf.best_params_)\n",
    "\n",
    "scores_2 = grd_search_lf.cv_results_\n",
    "pd.DataFrame(scores_2).head()"
   ]
  },
  {
   "cell_type": "code",
   "execution_count": 121,
   "metadata": {},
   "outputs": [
    {
     "data": {
      "image/png": "[encoded data removed]",
      "text/plain": [
       "<Figure size 432x288 with 1 Axes>"
      ]
     },
     "metadata": {},
     "output_type": "display_data"
    }
   ],
   "source": [
    "plt.figure()\n",
    "plt.plot(scores_2[\"param_min_samples_leaf\"],scores_2[\"mean_train_score\"],label=\"Training accuracy\")\n",
    "plt.plot(scores_2[\"param_min_samples_leaf\"],scores_2[\"mean_test_score\"],label=\"Test accuracy\")\n",
    "plt.xlabel('min_samples_leaf')\n",
    "plt.ylabel('Accuracy')\n",
    "plt.show()"
   ]
  },
  {
   "cell_type": "code",
   "execution_count": 122,
   "metadata": {},
   "outputs": [
    {
     "name": "stdout",
     "output_type": "stream",
     "text": [
      "Best parameter for min_samples_split:  {'min_samples_split': 310}\n"
     ]
    },
    {
     "data": {
      "text/html": [
       "<div>\n",
       "<style scoped>\n",
       "    .dataframe tbody tr th:only-of-type {\n",
       "        vertical-align: middle;\n",
       "    }\n",
       "\n",
       "    .dataframe tbody tr th {\n",
       "        vertical-align: top;\n",
       "    }\n",
       "\n",
       "    .dataframe thead th {\n",
       "        text-align: right;\n",
       "    }\n",
       "</style>\n",
       "<table border=\"1\" class=\"dataframe\">\n",
       "  <thead>\n",
       "    <tr style=\"text-align: right;\">\n",
       "      <th></th>\n",
       "      <th>mean_fit_time</th>\n",
       "      <th>std_fit_time</th>\n",
       "      <th>mean_score_time</th>\n",
       "      <th>std_score_time</th>\n",
       "      <th>param_min_samples_split</th>\n",
       "      <th>params</th>\n",
       "      <th>split0_test_score</th>\n",
       "      <th>split1_test_score</th>\n",
       "      <th>split2_test_score</th>\n",
       "      <th>split3_test_score</th>\n",
       "      <th>...</th>\n",
       "      <th>mean_test_score</th>\n",
       "      <th>std_test_score</th>\n",
       "      <th>rank_test_score</th>\n",
       "      <th>split0_train_score</th>\n",
       "      <th>split1_train_score</th>\n",
       "      <th>split2_train_score</th>\n",
       "      <th>split3_train_score</th>\n",
       "      <th>split4_train_score</th>\n",
       "      <th>mean_train_score</th>\n",
       "      <th>std_train_score</th>\n",
       "    </tr>\n",
       "  </thead>\n",
       "  <tbody>\n",
       "    <tr>\n",
       "      <th>0</th>\n",
       "      <td>39.490525</td>\n",
       "      <td>0.679775</td>\n",
       "      <td>0.195815</td>\n",
       "      <td>0.006811</td>\n",
       "      <td>10</td>\n",
       "      <td>{'min_samples_split': 10}</td>\n",
       "      <td>0.775862</td>\n",
       "      <td>0.773399</td>\n",
       "      <td>0.772578</td>\n",
       "      <td>0.766831</td>\n",
       "      <td>...</td>\n",
       "      <td>0.773071</td>\n",
       "      <td>0.003468</td>\n",
       "      <td>6</td>\n",
       "      <td>0.982759</td>\n",
       "      <td>0.984811</td>\n",
       "      <td>0.981117</td>\n",
       "      <td>0.982143</td>\n",
       "      <td>0.982348</td>\n",
       "      <td>0.982635</td>\n",
       "      <td>0.001215</td>\n",
       "    </tr>\n",
       "    <tr>\n",
       "      <th>1</th>\n",
       "      <td>39.393344</td>\n",
       "      <td>4.856762</td>\n",
       "      <td>0.223604</td>\n",
       "      <td>0.033445</td>\n",
       "      <td>60</td>\n",
       "      <td>{'min_samples_split': 60}</td>\n",
       "      <td>0.775041</td>\n",
       "      <td>0.766010</td>\n",
       "      <td>0.772578</td>\n",
       "      <td>0.764368</td>\n",
       "      <td>...</td>\n",
       "      <td>0.770115</td>\n",
       "      <td>0.004154</td>\n",
       "      <td>8</td>\n",
       "      <td>0.972085</td>\n",
       "      <td>0.972291</td>\n",
       "      <td>0.971470</td>\n",
       "      <td>0.972701</td>\n",
       "      <td>0.974548</td>\n",
       "      <td>0.972619</td>\n",
       "      <td>0.001043</td>\n",
       "    </tr>\n",
       "    <tr>\n",
       "      <th>2</th>\n",
       "      <td>60.962935</td>\n",
       "      <td>14.602571</td>\n",
       "      <td>0.487878</td>\n",
       "      <td>0.166197</td>\n",
       "      <td>110</td>\n",
       "      <td>{'min_samples_split': 110}</td>\n",
       "      <td>0.778325</td>\n",
       "      <td>0.772578</td>\n",
       "      <td>0.770115</td>\n",
       "      <td>0.775862</td>\n",
       "      <td>...</td>\n",
       "      <td>0.773071</td>\n",
       "      <td>0.003620</td>\n",
       "      <td>6</td>\n",
       "      <td>0.961412</td>\n",
       "      <td>0.959975</td>\n",
       "      <td>0.963054</td>\n",
       "      <td>0.961412</td>\n",
       "      <td>0.964901</td>\n",
       "      <td>0.962151</td>\n",
       "      <td>0.001686</td>\n",
       "    </tr>\n",
       "    <tr>\n",
       "      <th>3</th>\n",
       "      <td>81.214336</td>\n",
       "      <td>6.449776</td>\n",
       "      <td>0.519057</td>\n",
       "      <td>0.154291</td>\n",
       "      <td>160</td>\n",
       "      <td>{'min_samples_split': 160}</td>\n",
       "      <td>0.777504</td>\n",
       "      <td>0.767652</td>\n",
       "      <td>0.767652</td>\n",
       "      <td>0.779146</td>\n",
       "      <td>...</td>\n",
       "      <td>0.773892</td>\n",
       "      <td>0.005130</td>\n",
       "      <td>5</td>\n",
       "      <td>0.950328</td>\n",
       "      <td>0.952381</td>\n",
       "      <td>0.953407</td>\n",
       "      <td>0.951765</td>\n",
       "      <td>0.950739</td>\n",
       "      <td>0.951724</td>\n",
       "      <td>0.001112</td>\n",
       "    </tr>\n",
       "    <tr>\n",
       "      <th>4</th>\n",
       "      <td>86.105497</td>\n",
       "      <td>10.459417</td>\n",
       "      <td>0.532708</td>\n",
       "      <td>0.146977</td>\n",
       "      <td>210</td>\n",
       "      <td>{'min_samples_split': 210}</td>\n",
       "      <td>0.779146</td>\n",
       "      <td>0.767652</td>\n",
       "      <td>0.780788</td>\n",
       "      <td>0.769294</td>\n",
       "      <td>...</td>\n",
       "      <td>0.774384</td>\n",
       "      <td>0.005203</td>\n",
       "      <td>3</td>\n",
       "      <td>0.946223</td>\n",
       "      <td>0.946634</td>\n",
       "      <td>0.948071</td>\n",
       "      <td>0.947455</td>\n",
       "      <td>0.947044</td>\n",
       "      <td>0.947085</td>\n",
       "      <td>0.000641</td>\n",
       "    </tr>\n",
       "  </tbody>\n",
       "</table>\n",
       "<p>5 rows × 21 columns</p>\n",
       "</div>"
      ],
      "text/plain": [
       "   mean_fit_time  std_fit_time  mean_score_time  std_score_time  \\\n",
       "0      39.490525      0.679775         0.195815        0.006811   \n",
       "1      39.393344      4.856762         0.223604        0.033445   \n",
       "2      60.962935     14.602571         0.487878        0.166197   \n",
       "3      81.214336      6.449776         0.519057        0.154291   \n",
       "4      86.105497     10.459417         0.532708        0.146977   \n",
       "\n",
       "  param_min_samples_split                      params  split0_test_score  \\\n",
       "0                      10   {'min_samples_split': 10}           0.775862   \n",
       "1                      60   {'min_samples_split': 60}           0.775041   \n",
       "2                     110  {'min_samples_split': 110}           0.778325   \n",
       "3                     160  {'min_samples_split': 160}           0.777504   \n",
       "4                     210  {'min_samples_split': 210}           0.779146   \n",
       "\n",
       "   split1_test_score  split2_test_score  split3_test_score  ...  \\\n",
       "0           0.773399           0.772578           0.766831  ...   \n",
       "1           0.766010           0.772578           0.764368  ...   \n",
       "2           0.772578           0.770115           0.775862  ...   \n",
       "3           0.767652           0.767652           0.779146  ...   \n",
       "4           0.767652           0.780788           0.769294  ...   \n",
       "\n",
       "   mean_test_score  std_test_score  rank_test_score  split0_train_score  \\\n",
       "0         0.773071        0.003468                6            0.982759   \n",
       "1         0.770115        0.004154                8            0.972085   \n",
       "2         0.773071        0.003620                6            0.961412   \n",
       "3         0.773892        0.005130                5            0.950328   \n",
       "4         0.774384        0.005203                3            0.946223   \n",
       "\n",
       "   split1_train_score  split2_train_score  split3_train_score  \\\n",
       "0            0.984811            0.981117            0.982143   \n",
       "1            0.972291            0.971470            0.972701   \n",
       "2            0.959975            0.963054            0.961412   \n",
       "3            0.952381            0.953407            0.951765   \n",
       "4            0.946634            0.948071            0.947455   \n",
       "\n",
       "   split4_train_score  mean_train_score  std_train_score  \n",
       "0            0.982348          0.982635         0.001215  \n",
       "1            0.974548          0.972619         0.001043  \n",
       "2            0.964901          0.962151         0.001686  \n",
       "3            0.950739          0.951724         0.001112  \n",
       "4            0.947044          0.947085         0.000641  \n",
       "\n",
       "[5 rows x 21 columns]"
      ]
     },
     "execution_count": 122,
     "metadata": {},
     "output_type": "execute_result"
    }
   ],
   "source": [
    "n_folds = 5\n",
    "parameters = {'min_samples_split': range(10, 400, 50)}\n",
    "\n",
    "rf = RandomForestClassifier()\n",
    "grd_search_sp = GridSearchCV(rf , parameters , cv = n_folds , n_jobs = -1, return_train_score = True)\n",
    "\n",
    "grd_search_sp.fit(X_train, y_train)\n",
    "print('Best parameter for min_samples_split: ',grd_search_sp.best_params_)\n",
    "\n",
    "score_3 = grd_search_sp.cv_results_\n",
    "pd.DataFrame(score_3).head()"
   ]
  },
  {
   "cell_type": "code",
   "execution_count": 123,
   "metadata": {},
   "outputs": [
    {
     "data": {
      "image/png": "[encoded data removed]",
      "text/plain": [
       "<Figure size 432x288 with 1 Axes>"
      ]
     },
     "metadata": {},
     "output_type": "display_data"
    }
   ],
   "source": [
    "plt.figure()\n",
    "plt.plot(score_3[\"param_min_samples_split\"],score_3[\"mean_score_time\"],label=\"Training accuracy\")\n",
    "plt.plot(score_3[\"param_min_samples_split\"],score_3[\"mean_test_score\"],label=\"Test accuracy\")\n",
    "plt.xlabel('min_samples_split')\n",
    "plt.ylabel('Accuracy')\n",
    "plt.show()"
   ]
  },
  {
   "cell_type": "code",
   "execution_count": 124,
   "metadata": {},
   "outputs": [
    {
     "name": "stdout",
     "output_type": "stream",
     "text": [
      "Best parameter for max_depth:  {'max_depth': 28}\n",
      "Best parameter for min_samples_leaf:  {'min_samples_leaf': 30}\n",
      "Best parameter for min_samples_split:  {'min_samples_split': 310}\n",
      "Best parameter for n_estimators:  {'n_estimators': 350}\n"
     ]
    }
   ],
   "source": [
    "print('Best parameter for max_depth: ',grd_search_max.best_params_)\n",
    "print('Best parameter for min_samples_leaf: ',grd_search_lf.best_params_)\n",
    "print('Best parameter for min_samples_split: ',grd_search_sp.best_params_)\n",
    "print('Best parameter for n_estimators: ',grd_search_est.best_params_)"
   ]
  },
  {
   "cell_type": "code",
   "execution_count": 125,
   "metadata": {},
   "outputs": [
    {
     "name": "stdout",
     "output_type": "stream",
     "text": [
      "59.02823374917925\n"
     ]
    }
   ],
   "source": [
    "new_rf = RandomForestClassifier(n_estimators = 350 , max_depth = 28 , min_samples_leaf = 30 , min_samples_split = 160)\n",
    "new_rf.fit(X_train , y_train)\n",
    "\n",
    "y_pred_rf = new_rf.predict(X_test)\n",
    "\n",
    "ac_rf = accuracy_score(y_test , y_pred_rf)\n",
    "print(ac_rf*100)"
   ]
  },
  {
   "cell_type": "markdown",
   "metadata": {},
   "source": [
    "## GBDT on Bi-grams"
   ]
  },
  {
   "cell_type": "code",
   "execution_count": 126,
   "metadata": {},
   "outputs": [],
   "source": [
    "learn_rate = {'learning_rate': [0.001 , 0.01 , 0.1 , 1.0 , 1.3]}\n",
    "folds = 5"
   ]
  },
  {
   "cell_type": "code",
   "execution_count": 127,
   "metadata": {},
   "outputs": [
    {
     "name": "stdout",
     "output_type": "stream",
     "text": [
      "Best parameter for max_depth:  {'learning_rate': 1.0}\n"
     ]
    },
    {
     "data": {
      "text/html": [
       "<div>\n",
       "<style scoped>\n",
       "    .dataframe tbody tr th:only-of-type {\n",
       "        vertical-align: middle;\n",
       "    }\n",
       "\n",
       "    .dataframe tbody tr th {\n",
       "        vertical-align: top;\n",
       "    }\n",
       "\n",
       "    .dataframe thead th {\n",
       "        text-align: right;\n",
       "    }\n",
       "</style>\n",
       "<table border=\"1\" class=\"dataframe\">\n",
       "  <thead>\n",
       "    <tr style=\"text-align: right;\">\n",
       "      <th></th>\n",
       "      <th>mean_fit_time</th>\n",
       "      <th>std_fit_time</th>\n",
       "      <th>mean_score_time</th>\n",
       "      <th>std_score_time</th>\n",
       "      <th>param_learning_rate</th>\n",
       "      <th>params</th>\n",
       "      <th>split0_test_score</th>\n",
       "      <th>split1_test_score</th>\n",
       "      <th>split2_test_score</th>\n",
       "      <th>split3_test_score</th>\n",
       "      <th>split4_test_score</th>\n",
       "      <th>mean_test_score</th>\n",
       "      <th>std_test_score</th>\n",
       "      <th>rank_test_score</th>\n",
       "    </tr>\n",
       "  </thead>\n",
       "  <tbody>\n",
       "    <tr>\n",
       "      <th>0</th>\n",
       "      <td>104.088681</td>\n",
       "      <td>2.420423</td>\n",
       "      <td>0.008193</td>\n",
       "      <td>0.001738</td>\n",
       "      <td>0.001</td>\n",
       "      <td>{'learning_rate': 0.001}</td>\n",
       "      <td>0.565681</td>\n",
       "      <td>0.565681</td>\n",
       "      <td>0.565681</td>\n",
       "      <td>0.564860</td>\n",
       "      <td>0.564860</td>\n",
       "      <td>0.565353</td>\n",
       "      <td>0.000402</td>\n",
       "      <td>5</td>\n",
       "    </tr>\n",
       "    <tr>\n",
       "      <th>1</th>\n",
       "      <td>99.258522</td>\n",
       "      <td>11.283498</td>\n",
       "      <td>0.005585</td>\n",
       "      <td>0.000489</td>\n",
       "      <td>0.01</td>\n",
       "      <td>{'learning_rate': 0.01}</td>\n",
       "      <td>0.677340</td>\n",
       "      <td>0.669130</td>\n",
       "      <td>0.638752</td>\n",
       "      <td>0.654351</td>\n",
       "      <td>0.635468</td>\n",
       "      <td>0.655008</td>\n",
       "      <td>0.016399</td>\n",
       "      <td>4</td>\n",
       "    </tr>\n",
       "    <tr>\n",
       "      <th>2</th>\n",
       "      <td>87.210258</td>\n",
       "      <td>1.743543</td>\n",
       "      <td>0.004827</td>\n",
       "      <td>0.002681</td>\n",
       "      <td>0.1</td>\n",
       "      <td>{'learning_rate': 0.1}</td>\n",
       "      <td>0.748768</td>\n",
       "      <td>0.725780</td>\n",
       "      <td>0.746305</td>\n",
       "      <td>0.733990</td>\n",
       "      <td>0.743021</td>\n",
       "      <td>0.739573</td>\n",
       "      <td>0.008523</td>\n",
       "      <td>3</td>\n",
       "    </tr>\n",
       "    <tr>\n",
       "      <th>3</th>\n",
       "      <td>74.965750</td>\n",
       "      <td>6.390968</td>\n",
       "      <td>0.003810</td>\n",
       "      <td>0.004030</td>\n",
       "      <td>1</td>\n",
       "      <td>{'learning_rate': 1.0}</td>\n",
       "      <td>0.766010</td>\n",
       "      <td>0.774220</td>\n",
       "      <td>0.767652</td>\n",
       "      <td>0.752874</td>\n",
       "      <td>0.771757</td>\n",
       "      <td>0.766502</td>\n",
       "      <td>0.007409</td>\n",
       "      <td>1</td>\n",
       "    </tr>\n",
       "    <tr>\n",
       "      <th>4</th>\n",
       "      <td>65.875840</td>\n",
       "      <td>2.380933</td>\n",
       "      <td>0.004418</td>\n",
       "      <td>0.004105</td>\n",
       "      <td>1.3</td>\n",
       "      <td>{'learning_rate': 1.3}</td>\n",
       "      <td>0.750411</td>\n",
       "      <td>0.761905</td>\n",
       "      <td>0.772578</td>\n",
       "      <td>0.742200</td>\n",
       "      <td>0.761084</td>\n",
       "      <td>0.757635</td>\n",
       "      <td>0.010429</td>\n",
       "      <td>2</td>\n",
       "    </tr>\n",
       "  </tbody>\n",
       "</table>\n",
       "</div>"
      ],
      "text/plain": [
       "   mean_fit_time  std_fit_time  mean_score_time  std_score_time  \\\n",
       "0     104.088681      2.420423         0.008193        0.001738   \n",
       "1      99.258522     11.283498         0.005585        0.000489   \n",
       "2      87.210258      1.743543         0.004827        0.002681   \n",
       "3      74.965750      6.390968         0.003810        0.004030   \n",
       "4      65.875840      2.380933         0.004418        0.004105   \n",
       "\n",
       "  param_learning_rate                    params  split0_test_score  \\\n",
       "0               0.001  {'learning_rate': 0.001}           0.565681   \n",
       "1                0.01   {'learning_rate': 0.01}           0.677340   \n",
       "2                 0.1    {'learning_rate': 0.1}           0.748768   \n",
       "3                   1    {'learning_rate': 1.0}           0.766010   \n",
       "4                 1.3    {'learning_rate': 1.3}           0.750411   \n",
       "\n",
       "   split1_test_score  split2_test_score  split3_test_score  split4_test_score  \\\n",
       "0           0.565681           0.565681           0.564860           0.564860   \n",
       "1           0.669130           0.638752           0.654351           0.635468   \n",
       "2           0.725780           0.746305           0.733990           0.743021   \n",
       "3           0.774220           0.767652           0.752874           0.771757   \n",
       "4           0.761905           0.772578           0.742200           0.761084   \n",
       "\n",
       "   mean_test_score  std_test_score  rank_test_score  \n",
       "0         0.565353        0.000402                5  \n",
       "1         0.655008        0.016399                4  \n",
       "2         0.739573        0.008523                3  \n",
       "3         0.766502        0.007409                1  \n",
       "4         0.757635        0.010429                2  "
      ]
     },
     "execution_count": 127,
     "metadata": {},
     "output_type": "execute_result"
    }
   ],
   "source": [
    "GBC = GradientBoostingClassifier()\n",
    "\n",
    "grd_search_lr = GridSearchCV(GBC , cv = folds , param_grid = learn_rate , n_jobs = -1)\n",
    "grd_search_lr.fit(X_train, y_train)\n",
    "print('Best parameter for max_depth: ' , grd_search_lr.best_params_)\n",
    "\n",
    "cv_results_gbdt = pd.DataFrame(grd_search_lr.cv_results_)\n",
    "cv_results_gbdt.head()"
   ]
  },
  {
   "cell_type": "code",
   "execution_count": 128,
   "metadata": {},
   "outputs": [],
   "source": [
    "sub_sample = {\"subsample\": [0.3, 0.6, 0.9]}\n",
    "folds = 5"
   ]
  },
  {
   "cell_type": "code",
   "execution_count": 129,
   "metadata": {},
   "outputs": [
    {
     "name": "stdout",
     "output_type": "stream",
     "text": [
      "Best parameter for max_depth:  {'subsample': 0.6}\n"
     ]
    },
    {
     "data": {
      "text/html": [
       "<div>\n",
       "<style scoped>\n",
       "    .dataframe tbody tr th:only-of-type {\n",
       "        vertical-align: middle;\n",
       "    }\n",
       "\n",
       "    .dataframe tbody tr th {\n",
       "        vertical-align: top;\n",
       "    }\n",
       "\n",
       "    .dataframe thead th {\n",
       "        text-align: right;\n",
       "    }\n",
       "</style>\n",
       "<table border=\"1\" class=\"dataframe\">\n",
       "  <thead>\n",
       "    <tr style=\"text-align: right;\">\n",
       "      <th></th>\n",
       "      <th>mean_fit_time</th>\n",
       "      <th>std_fit_time</th>\n",
       "      <th>mean_score_time</th>\n",
       "      <th>std_score_time</th>\n",
       "      <th>param_learning_rate</th>\n",
       "      <th>params</th>\n",
       "      <th>split0_test_score</th>\n",
       "      <th>split1_test_score</th>\n",
       "      <th>split2_test_score</th>\n",
       "      <th>split3_test_score</th>\n",
       "      <th>split4_test_score</th>\n",
       "      <th>mean_test_score</th>\n",
       "      <th>std_test_score</th>\n",
       "      <th>rank_test_score</th>\n",
       "    </tr>\n",
       "  </thead>\n",
       "  <tbody>\n",
       "    <tr>\n",
       "      <th>0</th>\n",
       "      <td>104.088681</td>\n",
       "      <td>2.420423</td>\n",
       "      <td>0.008193</td>\n",
       "      <td>0.001738</td>\n",
       "      <td>0.001</td>\n",
       "      <td>{'learning_rate': 0.001}</td>\n",
       "      <td>0.565681</td>\n",
       "      <td>0.565681</td>\n",
       "      <td>0.565681</td>\n",
       "      <td>0.564860</td>\n",
       "      <td>0.564860</td>\n",
       "      <td>0.565353</td>\n",
       "      <td>0.000402</td>\n",
       "      <td>5</td>\n",
       "    </tr>\n",
       "    <tr>\n",
       "      <th>1</th>\n",
       "      <td>99.258522</td>\n",
       "      <td>11.283498</td>\n",
       "      <td>0.005585</td>\n",
       "      <td>0.000489</td>\n",
       "      <td>0.01</td>\n",
       "      <td>{'learning_rate': 0.01}</td>\n",
       "      <td>0.677340</td>\n",
       "      <td>0.669130</td>\n",
       "      <td>0.638752</td>\n",
       "      <td>0.654351</td>\n",
       "      <td>0.635468</td>\n",
       "      <td>0.655008</td>\n",
       "      <td>0.016399</td>\n",
       "      <td>4</td>\n",
       "    </tr>\n",
       "    <tr>\n",
       "      <th>2</th>\n",
       "      <td>87.210258</td>\n",
       "      <td>1.743543</td>\n",
       "      <td>0.004827</td>\n",
       "      <td>0.002681</td>\n",
       "      <td>0.1</td>\n",
       "      <td>{'learning_rate': 0.1}</td>\n",
       "      <td>0.748768</td>\n",
       "      <td>0.725780</td>\n",
       "      <td>0.746305</td>\n",
       "      <td>0.733990</td>\n",
       "      <td>0.743021</td>\n",
       "      <td>0.739573</td>\n",
       "      <td>0.008523</td>\n",
       "      <td>3</td>\n",
       "    </tr>\n",
       "    <tr>\n",
       "      <th>3</th>\n",
       "      <td>74.965750</td>\n",
       "      <td>6.390968</td>\n",
       "      <td>0.003810</td>\n",
       "      <td>0.004030</td>\n",
       "      <td>1</td>\n",
       "      <td>{'learning_rate': 1.0}</td>\n",
       "      <td>0.766010</td>\n",
       "      <td>0.774220</td>\n",
       "      <td>0.767652</td>\n",
       "      <td>0.752874</td>\n",
       "      <td>0.771757</td>\n",
       "      <td>0.766502</td>\n",
       "      <td>0.007409</td>\n",
       "      <td>1</td>\n",
       "    </tr>\n",
       "    <tr>\n",
       "      <th>4</th>\n",
       "      <td>65.875840</td>\n",
       "      <td>2.380933</td>\n",
       "      <td>0.004418</td>\n",
       "      <td>0.004105</td>\n",
       "      <td>1.3</td>\n",
       "      <td>{'learning_rate': 1.3}</td>\n",
       "      <td>0.750411</td>\n",
       "      <td>0.761905</td>\n",
       "      <td>0.772578</td>\n",
       "      <td>0.742200</td>\n",
       "      <td>0.761084</td>\n",
       "      <td>0.757635</td>\n",
       "      <td>0.010429</td>\n",
       "      <td>2</td>\n",
       "    </tr>\n",
       "  </tbody>\n",
       "</table>\n",
       "</div>"
      ],
      "text/plain": [
       "   mean_fit_time  std_fit_time  mean_score_time  std_score_time  \\\n",
       "0     104.088681      2.420423         0.008193        0.001738   \n",
       "1      99.258522     11.283498         0.005585        0.000489   \n",
       "2      87.210258      1.743543         0.004827        0.002681   \n",
       "3      74.965750      6.390968         0.003810        0.004030   \n",
       "4      65.875840      2.380933         0.004418        0.004105   \n",
       "\n",
       "  param_learning_rate                    params  split0_test_score  \\\n",
       "0               0.001  {'learning_rate': 0.001}           0.565681   \n",
       "1                0.01   {'learning_rate': 0.01}           0.677340   \n",
       "2                 0.1    {'learning_rate': 0.1}           0.748768   \n",
       "3                   1    {'learning_rate': 1.0}           0.766010   \n",
       "4                 1.3    {'learning_rate': 1.3}           0.750411   \n",
       "\n",
       "   split1_test_score  split2_test_score  split3_test_score  split4_test_score  \\\n",
       "0           0.565681           0.565681           0.564860           0.564860   \n",
       "1           0.669130           0.638752           0.654351           0.635468   \n",
       "2           0.725780           0.746305           0.733990           0.743021   \n",
       "3           0.774220           0.767652           0.752874           0.771757   \n",
       "4           0.761905           0.772578           0.742200           0.761084   \n",
       "\n",
       "   mean_test_score  std_test_score  rank_test_score  \n",
       "0         0.565353        0.000402                5  \n",
       "1         0.655008        0.016399                4  \n",
       "2         0.739573        0.008523                3  \n",
       "3         0.766502        0.007409                1  \n",
       "4         0.757635        0.010429                2  "
      ]
     },
     "execution_count": 129,
     "metadata": {},
     "output_type": "execute_result"
    }
   ],
   "source": [
    "GBC = GradientBoostingClassifier(max_depth=2, n_estimators=200)\n",
    "\n",
    "grd_search_ss = GridSearchCV(GBC , cv = folds , param_grid = sub_sample)\n",
    "grd_search_ss.fit(X_train, y_train)\n",
    "print('Best parameter for max_depth: ',grd_search_ss.best_params_)\n",
    "\n",
    "cv_results_sub = pd.DataFrame(grd_search_lr.cv_results_)\n",
    "cv_results_sub.head()"
   ]
  },
  {
   "cell_type": "code",
   "execution_count": 130,
   "metadata": {},
   "outputs": [
    {
     "name": "stdout",
     "output_type": "stream",
     "text": [
      "76.42810242941562\n"
     ]
    }
   ],
   "source": [
    "#GBC = GradientBoostingClassifier(subsample = 0.6 , learning_rate = 0.1 , n_estimators=50 , max_features = 8 , min_samples_leaf = 30 , min_samples_split = 10)\n",
    "\n",
    "GBC = GradientBoostingClassifier(subsample = 0.6 , learning_rate = 1.0 ,  n_estimators=150)\n",
    "GBC.fit(X_train , y_train)\n",
    "\n",
    "y_gbr = GBC.predict(X_test)\n",
    "\n",
    "ac_gbr = accuracy_score(y_test , y_gbr)\n",
    "print(ac_gbr*100)"
   ]
  },
  {
   "cell_type": "markdown",
   "metadata": {},
   "source": [
    "## XGB on Bi-grams"
   ]
  },
  {
   "cell_type": "code",
   "execution_count": 131,
   "metadata": {},
   "outputs": [
    {
     "name": "stdout",
     "output_type": "stream",
     "text": [
      "79.9080761654629\n"
     ]
    }
   ],
   "source": [
    "classifier = XGBClassifier()\n",
    "classifier.fit(X_train, y_train)\n",
    "\n",
    "y_pred = classifier.predict(X_test)\n",
    "\n",
    "ac_xg = accuracy_score(y_test , y_pred)\n",
    "print(ac_xg*100)"
   ]
  },
  {
   "cell_type": "code",
   "execution_count": 132,
   "metadata": {},
   "outputs": [
    {
     "name": "stdout",
     "output_type": "stream",
     "text": [
      "Model with best parameters :\n",
      " XGBClassifier(base_score=0.5, booster=None, colsample_bylevel=1,\n",
      "              colsample_bynode=1, colsample_bytree=1, gamma=0, gpu_id=-1,\n",
      "              importance_type='gain', interaction_constraints=None,\n",
      "              learning_rate=0.300000012, max_delta_step=0, max_depth=11,\n",
      "              min_child_weight=1, missing=nan, monotone_constraints=None,\n",
      "              n_estimators=100, n_jobs=0, num_parallel_tree=1,\n",
      "              objective='binary:logistic', random_state=0, reg_alpha=0,\n",
      "              reg_lambda=1, scale_pos_weight=1, subsample=1, tree_method=None,\n",
      "              validate_parameters=False, verbosity=None)\n",
      "Accuracy of the model :  0.9612912364909624\n"
     ]
    }
   ],
   "source": [
    "max_depths = [2,4,6,9,11]\n",
    "base_learners = [1, 5, 10, 50, 100]\n",
    "param_grid = {'max_depth': max_depths,'n_estimators':base_learners}\n",
    "\n",
    "model = GridSearchCV(xgb.XGBClassifier(scale_pos_weight=1), param_grid, scoring = 'roc_auc', cv=3 , n_jobs = -1 , return_train_score = True) \n",
    "model.fit(X_train, y_train)\n",
    "print(\"Model with best parameters :\\n\",model.best_estimator_)\n",
    "print(\"Accuracy of the model : \",model.score(X_train, y_train))"
   ]
  },
  {
   "cell_type": "code",
   "execution_count": 133,
   "metadata": {},
   "outputs": [
    {
     "name": "stdout",
     "output_type": "stream",
     "text": [
      "***Test Data Report***\n",
      "Best max_depth =  11\n",
      "Best Base Learners =  100\n",
      "AUC =  74.46272211288895\n"
     ]
    },
    {
     "data": {
      "image/png": "[encoded data removed]",
      "text/plain": [
       "<Figure size 432x288 with 2 Axes>"
      ]
     },
     "metadata": {},
     "output_type": "display_data"
    }
   ],
   "source": [
    "xg_model = xgb.XGBClassifier(max_depth=optimal_depth, n_estimators=optimal_estimators, scale_pos_weight=1)\n",
    "xg_model.fit(X_train,y_train)\n",
    "\n",
    "pred = xg_model.predict(X_test)\n",
    "\n",
    "print(\"***Test Data Report***\")\n",
    "print(\"Best max_depth = \",optimal_depth)\n",
    "print(\"Best Base Learners = \",optimal_estimators)\n",
    "fpr, tpr, threshold = metrics.roc_curve(y_test, lr.predict(X_test))\n",
    "auc = metrics.auc(fpr, tpr)\n",
    "print(\"AUC = \",auc*100)\n",
    "skplt.metrics.plot_confusion_matrix(y_test, pred)\n",
    "plt.show()"
   ]
  },
  {
   "cell_type": "code",
   "execution_count": 136,
   "metadata": {},
   "outputs": [],
   "source": [
    "# test_pred = classifier.predict(test_BOW)\n",
    "\n",
    "# submission['target'] = test_pred.astype(int)\n",
    "# submission.to_csv('submission04xgb.csv', index=False)"
   ]
  }
 ],
 "metadata": {
  "kernelspec": {
   "display_name": "Python 3",
   "language": "python",
   "name": "python3"
  },
  "language_info": {
   "codemirror_mode": {
    "name": "ipython",
    "version": 3
   },
   "file_extension": ".py",
   "mimetype": "text/x-python",
   "name": "python",
   "nbconvert_exporter": "python",
   "pygments_lexer": "ipython3",
   "version": "3.7.4"
  }
 },
 "nbformat": 4,
 "nbformat_minor": 2
}
